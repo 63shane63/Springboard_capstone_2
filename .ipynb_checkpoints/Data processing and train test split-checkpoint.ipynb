{
 "cells": [
  {
   "cell_type": "markdown",
   "id": "34a4c722",
   "metadata": {},
   "source": [
    "## Fitbit data pre-processing and training"
   ]
  },
  {
   "cell_type": "code",
   "execution_count": 1,
   "id": "0b63e984",
   "metadata": {},
   "outputs": [],
   "source": [
    "# importing the needed packages\n",
    "\n",
    "import pandas as pd\n",
    "import seaborn as sns\n",
    "import numpy as np\n",
    "import matplotlib.pyplot as plt\n",
    "from sklearn.model_selection import train_test_split\n",
    "from sklearn.preprocessing import StandardScaler\n",
    "\n"
   ]
  },
  {
   "cell_type": "code",
   "execution_count": 2,
   "id": "d313488f",
   "metadata": {},
   "outputs": [],
   "source": [
    "# importing the data\n",
    "\n",
    "FBdata = pd.read_csv('data_refined.csv', index_col='Unnamed: 0')"
   ]
  },
  {
   "cell_type": "code",
   "execution_count": 3,
   "id": "508020e5",
   "metadata": {},
   "outputs": [
    {
     "data": {
      "text/html": [
       "<div>\n",
       "<style scoped>\n",
       "    .dataframe tbody tr th:only-of-type {\n",
       "        vertical-align: middle;\n",
       "    }\n",
       "\n",
       "    .dataframe tbody tr th {\n",
       "        vertical-align: top;\n",
       "    }\n",
       "\n",
       "    .dataframe thead th {\n",
       "        text-align: right;\n",
       "    }\n",
       "</style>\n",
       "<table border=\"1\" class=\"dataframe\">\n",
       "  <thead>\n",
       "    <tr style=\"text-align: right;\">\n",
       "      <th></th>\n",
       "      <th>Id</th>\n",
       "      <th>Steps</th>\n",
       "      <th>Distance</th>\n",
       "      <th>High_Activity_Dist</th>\n",
       "      <th>Mod_Activity_dist</th>\n",
       "      <th>Light_Activity_dist</th>\n",
       "      <th>High_Activity_Min</th>\n",
       "      <th>Mod_Activity_Min</th>\n",
       "      <th>Light_Activity_Min</th>\n",
       "      <th>Sed_Min</th>\n",
       "      <th>Calories</th>\n",
       "    </tr>\n",
       "  </thead>\n",
       "  <tbody>\n",
       "    <tr>\n",
       "      <th>0</th>\n",
       "      <td>1503960366</td>\n",
       "      <td>13162.0</td>\n",
       "      <td>8.50</td>\n",
       "      <td>1.88</td>\n",
       "      <td>0.55</td>\n",
       "      <td>6.06</td>\n",
       "      <td>25.0</td>\n",
       "      <td>13.0</td>\n",
       "      <td>328.0</td>\n",
       "      <td>728.0</td>\n",
       "      <td>1985.0</td>\n",
       "    </tr>\n",
       "    <tr>\n",
       "      <th>1</th>\n",
       "      <td>1503960366</td>\n",
       "      <td>10735.0</td>\n",
       "      <td>6.97</td>\n",
       "      <td>1.57</td>\n",
       "      <td>0.69</td>\n",
       "      <td>4.71</td>\n",
       "      <td>21.0</td>\n",
       "      <td>19.0</td>\n",
       "      <td>217.0</td>\n",
       "      <td>776.0</td>\n",
       "      <td>1797.0</td>\n",
       "    </tr>\n",
       "    <tr>\n",
       "      <th>2</th>\n",
       "      <td>1503960366</td>\n",
       "      <td>10460.0</td>\n",
       "      <td>6.74</td>\n",
       "      <td>2.44</td>\n",
       "      <td>0.40</td>\n",
       "      <td>3.91</td>\n",
       "      <td>30.0</td>\n",
       "      <td>11.0</td>\n",
       "      <td>181.0</td>\n",
       "      <td>1218.0</td>\n",
       "      <td>1776.0</td>\n",
       "    </tr>\n",
       "    <tr>\n",
       "      <th>3</th>\n",
       "      <td>1503960366</td>\n",
       "      <td>9762.0</td>\n",
       "      <td>6.28</td>\n",
       "      <td>2.14</td>\n",
       "      <td>1.26</td>\n",
       "      <td>2.83</td>\n",
       "      <td>29.0</td>\n",
       "      <td>34.0</td>\n",
       "      <td>209.0</td>\n",
       "      <td>726.0</td>\n",
       "      <td>1745.0</td>\n",
       "    </tr>\n",
       "    <tr>\n",
       "      <th>4</th>\n",
       "      <td>1503960366</td>\n",
       "      <td>12669.0</td>\n",
       "      <td>8.16</td>\n",
       "      <td>2.71</td>\n",
       "      <td>0.41</td>\n",
       "      <td>5.04</td>\n",
       "      <td>36.0</td>\n",
       "      <td>10.0</td>\n",
       "      <td>221.0</td>\n",
       "      <td>773.0</td>\n",
       "      <td>1863.0</td>\n",
       "    </tr>\n",
       "  </tbody>\n",
       "</table>\n",
       "</div>"
      ],
      "text/plain": [
       "           Id    Steps  Distance  High_Activity_Dist  Mod_Activity_dist  \\\n",
       "0  1503960366  13162.0      8.50                1.88               0.55   \n",
       "1  1503960366  10735.0      6.97                1.57               0.69   \n",
       "2  1503960366  10460.0      6.74                2.44               0.40   \n",
       "3  1503960366   9762.0      6.28                2.14               1.26   \n",
       "4  1503960366  12669.0      8.16                2.71               0.41   \n",
       "\n",
       "   Light_Activity_dist  High_Activity_Min  Mod_Activity_Min  \\\n",
       "0                 6.06               25.0              13.0   \n",
       "1                 4.71               21.0              19.0   \n",
       "2                 3.91               30.0              11.0   \n",
       "3                 2.83               29.0              34.0   \n",
       "4                 5.04               36.0              10.0   \n",
       "\n",
       "   Light_Activity_Min  Sed_Min  Calories  \n",
       "0               328.0    728.0    1985.0  \n",
       "1               217.0    776.0    1797.0  \n",
       "2               181.0   1218.0    1776.0  \n",
       "3               209.0    726.0    1745.0  \n",
       "4               221.0    773.0    1863.0  "
      ]
     },
     "execution_count": 3,
     "metadata": {},
     "output_type": "execute_result"
    }
   ],
   "source": [
    "# A look at our data\n",
    "\n",
    "FBdata.head()"
   ]
  },
  {
   "cell_type": "code",
   "execution_count": 4,
   "id": "13e59a9c",
   "metadata": {},
   "outputs": [
    {
     "data": {
      "text/plain": [
       "Id                       int64\n",
       "Steps                  float64\n",
       "Distance               float64\n",
       "High_Activity_Dist     float64\n",
       "Mod_Activity_dist      float64\n",
       "Light_Activity_dist    float64\n",
       "High_Activity_Min      float64\n",
       "Mod_Activity_Min       float64\n",
       "Light_Activity_Min     float64\n",
       "Sed_Min                float64\n",
       "Calories               float64\n",
       "dtype: object"
      ]
     },
     "execution_count": 4,
     "metadata": {},
     "output_type": "execute_result"
    }
   ],
   "source": [
    "# make sure our data types are correct\n",
    "\n",
    "FBdata.dtypes"
   ]
  },
  {
   "cell_type": "code",
   "execution_count": 5,
   "id": "df1167eb",
   "metadata": {},
   "outputs": [],
   "source": [
    "# We dont need the user ID to help our prediction model, at least not with this small dataset.\n",
    "\n",
    "FBdata = FBdata.drop('Id', axis=1)"
   ]
  },
  {
   "cell_type": "code",
   "execution_count": 6,
   "id": "74491b7b",
   "metadata": {},
   "outputs": [
    {
     "data": {
      "text/html": [
       "<div>\n",
       "<style scoped>\n",
       "    .dataframe tbody tr th:only-of-type {\n",
       "        vertical-align: middle;\n",
       "    }\n",
       "\n",
       "    .dataframe tbody tr th {\n",
       "        vertical-align: top;\n",
       "    }\n",
       "\n",
       "    .dataframe thead th {\n",
       "        text-align: right;\n",
       "    }\n",
       "</style>\n",
       "<table border=\"1\" class=\"dataframe\">\n",
       "  <thead>\n",
       "    <tr style=\"text-align: right;\">\n",
       "      <th></th>\n",
       "      <th>Steps</th>\n",
       "      <th>Distance</th>\n",
       "      <th>High_Activity_Dist</th>\n",
       "      <th>Mod_Activity_dist</th>\n",
       "      <th>Light_Activity_dist</th>\n",
       "      <th>High_Activity_Min</th>\n",
       "      <th>Mod_Activity_Min</th>\n",
       "      <th>Light_Activity_Min</th>\n",
       "      <th>Sed_Min</th>\n",
       "      <th>Calories</th>\n",
       "    </tr>\n",
       "  </thead>\n",
       "  <tbody>\n",
       "    <tr>\n",
       "      <th>0</th>\n",
       "      <td>13162.0</td>\n",
       "      <td>8.50</td>\n",
       "      <td>1.88</td>\n",
       "      <td>0.55</td>\n",
       "      <td>6.06</td>\n",
       "      <td>25.0</td>\n",
       "      <td>13.0</td>\n",
       "      <td>328.0</td>\n",
       "      <td>728.0</td>\n",
       "      <td>1985.0</td>\n",
       "    </tr>\n",
       "    <tr>\n",
       "      <th>1</th>\n",
       "      <td>10735.0</td>\n",
       "      <td>6.97</td>\n",
       "      <td>1.57</td>\n",
       "      <td>0.69</td>\n",
       "      <td>4.71</td>\n",
       "      <td>21.0</td>\n",
       "      <td>19.0</td>\n",
       "      <td>217.0</td>\n",
       "      <td>776.0</td>\n",
       "      <td>1797.0</td>\n",
       "    </tr>\n",
       "    <tr>\n",
       "      <th>2</th>\n",
       "      <td>10460.0</td>\n",
       "      <td>6.74</td>\n",
       "      <td>2.44</td>\n",
       "      <td>0.40</td>\n",
       "      <td>3.91</td>\n",
       "      <td>30.0</td>\n",
       "      <td>11.0</td>\n",
       "      <td>181.0</td>\n",
       "      <td>1218.0</td>\n",
       "      <td>1776.0</td>\n",
       "    </tr>\n",
       "    <tr>\n",
       "      <th>3</th>\n",
       "      <td>9762.0</td>\n",
       "      <td>6.28</td>\n",
       "      <td>2.14</td>\n",
       "      <td>1.26</td>\n",
       "      <td>2.83</td>\n",
       "      <td>29.0</td>\n",
       "      <td>34.0</td>\n",
       "      <td>209.0</td>\n",
       "      <td>726.0</td>\n",
       "      <td>1745.0</td>\n",
       "    </tr>\n",
       "    <tr>\n",
       "      <th>4</th>\n",
       "      <td>12669.0</td>\n",
       "      <td>8.16</td>\n",
       "      <td>2.71</td>\n",
       "      <td>0.41</td>\n",
       "      <td>5.04</td>\n",
       "      <td>36.0</td>\n",
       "      <td>10.0</td>\n",
       "      <td>221.0</td>\n",
       "      <td>773.0</td>\n",
       "      <td>1863.0</td>\n",
       "    </tr>\n",
       "  </tbody>\n",
       "</table>\n",
       "</div>"
      ],
      "text/plain": [
       "     Steps  Distance  High_Activity_Dist  Mod_Activity_dist  \\\n",
       "0  13162.0      8.50                1.88               0.55   \n",
       "1  10735.0      6.97                1.57               0.69   \n",
       "2  10460.0      6.74                2.44               0.40   \n",
       "3   9762.0      6.28                2.14               1.26   \n",
       "4  12669.0      8.16                2.71               0.41   \n",
       "\n",
       "   Light_Activity_dist  High_Activity_Min  Mod_Activity_Min  \\\n",
       "0                 6.06               25.0              13.0   \n",
       "1                 4.71               21.0              19.0   \n",
       "2                 3.91               30.0              11.0   \n",
       "3                 2.83               29.0              34.0   \n",
       "4                 5.04               36.0              10.0   \n",
       "\n",
       "   Light_Activity_Min  Sed_Min  Calories  \n",
       "0               328.0    728.0    1985.0  \n",
       "1               217.0    776.0    1797.0  \n",
       "2               181.0   1218.0    1776.0  \n",
       "3               209.0    726.0    1745.0  \n",
       "4               221.0    773.0    1863.0  "
      ]
     },
     "execution_count": 6,
     "metadata": {},
     "output_type": "execute_result"
    }
   ],
   "source": [
    "# make sure our Id column was dropped\n",
    "\n",
    "FBdata.head()"
   ]
  },
  {
   "cell_type": "code",
   "execution_count": 7,
   "id": "f5b5b8fb",
   "metadata": {},
   "outputs": [],
   "source": [
    "# creating our X and Y variables with our data\n",
    "\n",
    "X = FBdata.drop('Calories', axis=1)\n",
    "Y = FBdata['Calories']"
   ]
  },
  {
   "cell_type": "code",
   "execution_count": 8,
   "id": "f05aa0f1",
   "metadata": {},
   "outputs": [
    {
     "data": {
      "text/html": [
       "<div>\n",
       "<style scoped>\n",
       "    .dataframe tbody tr th:only-of-type {\n",
       "        vertical-align: middle;\n",
       "    }\n",
       "\n",
       "    .dataframe tbody tr th {\n",
       "        vertical-align: top;\n",
       "    }\n",
       "\n",
       "    .dataframe thead th {\n",
       "        text-align: right;\n",
       "    }\n",
       "</style>\n",
       "<table border=\"1\" class=\"dataframe\">\n",
       "  <thead>\n",
       "    <tr style=\"text-align: right;\">\n",
       "      <th></th>\n",
       "      <th>Steps</th>\n",
       "      <th>Distance</th>\n",
       "      <th>High_Activity_Dist</th>\n",
       "      <th>Mod_Activity_dist</th>\n",
       "      <th>Light_Activity_dist</th>\n",
       "      <th>High_Activity_Min</th>\n",
       "      <th>Mod_Activity_Min</th>\n",
       "      <th>Light_Activity_Min</th>\n",
       "      <th>Sed_Min</th>\n",
       "    </tr>\n",
       "  </thead>\n",
       "  <tbody>\n",
       "    <tr>\n",
       "      <th>0</th>\n",
       "      <td>13162.0</td>\n",
       "      <td>8.50</td>\n",
       "      <td>1.88</td>\n",
       "      <td>0.55</td>\n",
       "      <td>6.06</td>\n",
       "      <td>25.0</td>\n",
       "      <td>13.0</td>\n",
       "      <td>328.0</td>\n",
       "      <td>728.0</td>\n",
       "    </tr>\n",
       "    <tr>\n",
       "      <th>1</th>\n",
       "      <td>10735.0</td>\n",
       "      <td>6.97</td>\n",
       "      <td>1.57</td>\n",
       "      <td>0.69</td>\n",
       "      <td>4.71</td>\n",
       "      <td>21.0</td>\n",
       "      <td>19.0</td>\n",
       "      <td>217.0</td>\n",
       "      <td>776.0</td>\n",
       "    </tr>\n",
       "    <tr>\n",
       "      <th>2</th>\n",
       "      <td>10460.0</td>\n",
       "      <td>6.74</td>\n",
       "      <td>2.44</td>\n",
       "      <td>0.40</td>\n",
       "      <td>3.91</td>\n",
       "      <td>30.0</td>\n",
       "      <td>11.0</td>\n",
       "      <td>181.0</td>\n",
       "      <td>1218.0</td>\n",
       "    </tr>\n",
       "    <tr>\n",
       "      <th>3</th>\n",
       "      <td>9762.0</td>\n",
       "      <td>6.28</td>\n",
       "      <td>2.14</td>\n",
       "      <td>1.26</td>\n",
       "      <td>2.83</td>\n",
       "      <td>29.0</td>\n",
       "      <td>34.0</td>\n",
       "      <td>209.0</td>\n",
       "      <td>726.0</td>\n",
       "    </tr>\n",
       "    <tr>\n",
       "      <th>4</th>\n",
       "      <td>12669.0</td>\n",
       "      <td>8.16</td>\n",
       "      <td>2.71</td>\n",
       "      <td>0.41</td>\n",
       "      <td>5.04</td>\n",
       "      <td>36.0</td>\n",
       "      <td>10.0</td>\n",
       "      <td>221.0</td>\n",
       "      <td>773.0</td>\n",
       "    </tr>\n",
       "  </tbody>\n",
       "</table>\n",
       "</div>"
      ],
      "text/plain": [
       "     Steps  Distance  High_Activity_Dist  Mod_Activity_dist  \\\n",
       "0  13162.0      8.50                1.88               0.55   \n",
       "1  10735.0      6.97                1.57               0.69   \n",
       "2  10460.0      6.74                2.44               0.40   \n",
       "3   9762.0      6.28                2.14               1.26   \n",
       "4  12669.0      8.16                2.71               0.41   \n",
       "\n",
       "   Light_Activity_dist  High_Activity_Min  Mod_Activity_Min  \\\n",
       "0                 6.06               25.0              13.0   \n",
       "1                 4.71               21.0              19.0   \n",
       "2                 3.91               30.0              11.0   \n",
       "3                 2.83               29.0              34.0   \n",
       "4                 5.04               36.0              10.0   \n",
       "\n",
       "   Light_Activity_Min  Sed_Min  \n",
       "0               328.0    728.0  \n",
       "1               217.0    776.0  \n",
       "2               181.0   1218.0  \n",
       "3               209.0    726.0  \n",
       "4               221.0    773.0  "
      ]
     },
     "execution_count": 8,
     "metadata": {},
     "output_type": "execute_result"
    }
   ],
   "source": [
    "# A look at our predictor columns\n",
    "\n",
    "X.head()"
   ]
  },
  {
   "cell_type": "code",
   "execution_count": 9,
   "id": "86cf2107",
   "metadata": {},
   "outputs": [
    {
     "data": {
      "text/plain": [
       "0    1985.0\n",
       "1    1797.0\n",
       "2    1776.0\n",
       "3    1745.0\n",
       "4    1863.0\n",
       "Name: Calories, dtype: float64"
      ]
     },
     "execution_count": 9,
     "metadata": {},
     "output_type": "execute_result"
    }
   ],
   "source": [
    "# looking at our target variable\n",
    "\n",
    "Y.head()"
   ]
  },
  {
   "cell_type": "code",
   "execution_count": 10,
   "id": "8bdf1cc2",
   "metadata": {},
   "outputs": [
    {
     "data": {
      "text/plain": [
       "(844, 9)"
      ]
     },
     "execution_count": 10,
     "metadata": {},
     "output_type": "execute_result"
    }
   ],
   "source": [
    "# Checking the shape of our X and Y sets\n",
    "\n",
    "X.shape\n"
   ]
  },
  {
   "cell_type": "code",
   "execution_count": 11,
   "id": "165f1a12",
   "metadata": {},
   "outputs": [
    {
     "data": {
      "text/plain": [
       "(844,)"
      ]
     },
     "execution_count": 11,
     "metadata": {},
     "output_type": "execute_result"
    }
   ],
   "source": [
    "Y.shape"
   ]
  },
  {
   "cell_type": "code",
   "execution_count": 12,
   "id": "c71c69e5",
   "metadata": {},
   "outputs": [],
   "source": [
    "# Creating our train and test sets, setting our test size at 25%\n",
    "\n",
    "X_train, Y_train, X_test, Y_test = train_test_split(X,Y, test_size=0.25, random_state=63)"
   ]
  },
  {
   "cell_type": "code",
   "execution_count": 13,
   "id": "5679f202",
   "metadata": {},
   "outputs": [],
   "source": [
    "# scaling our predictor variables\n",
    "\n",
    "std = StandardScaler()\n",
    "std.fit(X_train)\n",
    "std_X = std.transform(X_train)"
   ]
  },
  {
   "cell_type": "code",
   "execution_count": 14,
   "id": "b2539590",
   "metadata": {},
   "outputs": [],
   "source": [
    "X.to_csv('X_data')\n",
    "Y.to_csv('Y_data')"
   ]
  }
 ],
 "metadata": {
  "kernelspec": {
   "display_name": "Python 3 (ipykernel)",
   "language": "python",
   "name": "python3"
  },
  "language_info": {
   "codemirror_mode": {
    "name": "ipython",
    "version": 3
   },
   "file_extension": ".py",
   "mimetype": "text/x-python",
   "name": "python",
   "nbconvert_exporter": "python",
   "pygments_lexer": "ipython3",
   "version": "3.9.12"
  }
 },
 "nbformat": 4,
 "nbformat_minor": 5
}
