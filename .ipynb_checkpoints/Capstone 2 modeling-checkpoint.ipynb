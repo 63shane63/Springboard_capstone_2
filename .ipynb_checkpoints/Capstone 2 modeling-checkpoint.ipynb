{
 "cells": [
  {
   "cell_type": "code",
   "execution_count": 1,
   "id": "65ad8cf9",
   "metadata": {
    "ExecuteTime": {
     "end_time": "2022-12-27T17:42:41.459335Z",
     "start_time": "2022-12-27T17:42:39.916199Z"
    }
   },
   "outputs": [],
   "source": [
    "import pandas as pd\n",
    "import seaborn as sns\n",
    "import numpy as np\n",
    "import matplotlib.pyplot as plt\n",
    "from sklearn.model_selection import train_test_split\n",
    "from sklearn.preprocessing import StandardScaler\n",
    "from sklearn.linear_model import LinearRegression\n",
    "from sklearn.linear_model import Lasso\n",
    "from sklearn.linear_model import Ridge\n",
    "from sklearn.neighbors import KNeighborsRegressor\n",
    "from sklearn.model_selection import cross_val_score\n",
    "from sklearn.metrics import r2_score\n",
    "from sklearn.metrics import mean_squared_error\n",
    "from sklearn.ensemble import RandomForestRegressor\n",
    "from sklearn.ensemble import GradientBoostingRegressor\n",
    "from sklearn.svm import SVR\n",
    "from sklearn.feature_selection import RFE\n",
    "from sklearn.pipeline import make_pipeline\n",
    "from sklearn.model_selection import GridSearchCV\n",
    "from skopt import BayesSearchCV\n",
    "from skopt.space import Real, Categorical, Integer"
   ]
  },
  {
   "cell_type": "code",
   "execution_count": 2,
   "id": "c00cc0e1",
   "metadata": {
    "ExecuteTime": {
     "end_time": "2022-12-27T17:42:41.474977Z",
     "start_time": "2022-12-27T17:42:41.459335Z"
    }
   },
   "outputs": [],
   "source": [
    "X_data = pd.read_csv('X_data', index_col='Unnamed: 0')"
   ]
  },
  {
   "cell_type": "code",
   "execution_count": 3,
   "id": "7b04338f",
   "metadata": {
    "ExecuteTime": {
     "end_time": "2022-12-27T17:42:41.496977Z",
     "start_time": "2022-12-27T17:42:41.474977Z"
    },
    "scrolled": true
   },
   "outputs": [
    {
     "data": {
      "text/html": [
       "<div>\n",
       "<style scoped>\n",
       "    .dataframe tbody tr th:only-of-type {\n",
       "        vertical-align: middle;\n",
       "    }\n",
       "\n",
       "    .dataframe tbody tr th {\n",
       "        vertical-align: top;\n",
       "    }\n",
       "\n",
       "    .dataframe thead th {\n",
       "        text-align: right;\n",
       "    }\n",
       "</style>\n",
       "<table border=\"1\" class=\"dataframe\">\n",
       "  <thead>\n",
       "    <tr style=\"text-align: right;\">\n",
       "      <th></th>\n",
       "      <th>Steps</th>\n",
       "      <th>Distance</th>\n",
       "      <th>High_Activity_Dist</th>\n",
       "      <th>Mod_Activity_dist</th>\n",
       "      <th>Light_Activity_dist</th>\n",
       "      <th>High_Activity_Min</th>\n",
       "      <th>Mod_Activity_Min</th>\n",
       "      <th>Light_Activity_Min</th>\n",
       "      <th>Sed_Min</th>\n",
       "    </tr>\n",
       "  </thead>\n",
       "  <tbody>\n",
       "    <tr>\n",
       "      <th>0</th>\n",
       "      <td>13162.0</td>\n",
       "      <td>8.50</td>\n",
       "      <td>1.88</td>\n",
       "      <td>0.55</td>\n",
       "      <td>6.06</td>\n",
       "      <td>25.0</td>\n",
       "      <td>13.0</td>\n",
       "      <td>328.0</td>\n",
       "      <td>728.0</td>\n",
       "    </tr>\n",
       "    <tr>\n",
       "      <th>1</th>\n",
       "      <td>10735.0</td>\n",
       "      <td>6.97</td>\n",
       "      <td>1.57</td>\n",
       "      <td>0.69</td>\n",
       "      <td>4.71</td>\n",
       "      <td>21.0</td>\n",
       "      <td>19.0</td>\n",
       "      <td>217.0</td>\n",
       "      <td>776.0</td>\n",
       "    </tr>\n",
       "    <tr>\n",
       "      <th>2</th>\n",
       "      <td>10460.0</td>\n",
       "      <td>6.74</td>\n",
       "      <td>2.44</td>\n",
       "      <td>0.40</td>\n",
       "      <td>3.91</td>\n",
       "      <td>30.0</td>\n",
       "      <td>11.0</td>\n",
       "      <td>181.0</td>\n",
       "      <td>1218.0</td>\n",
       "    </tr>\n",
       "    <tr>\n",
       "      <th>3</th>\n",
       "      <td>9762.0</td>\n",
       "      <td>6.28</td>\n",
       "      <td>2.14</td>\n",
       "      <td>1.26</td>\n",
       "      <td>2.83</td>\n",
       "      <td>29.0</td>\n",
       "      <td>34.0</td>\n",
       "      <td>209.0</td>\n",
       "      <td>726.0</td>\n",
       "    </tr>\n",
       "    <tr>\n",
       "      <th>4</th>\n",
       "      <td>12669.0</td>\n",
       "      <td>8.16</td>\n",
       "      <td>2.71</td>\n",
       "      <td>0.41</td>\n",
       "      <td>5.04</td>\n",
       "      <td>36.0</td>\n",
       "      <td>10.0</td>\n",
       "      <td>221.0</td>\n",
       "      <td>773.0</td>\n",
       "    </tr>\n",
       "  </tbody>\n",
       "</table>\n",
       "</div>"
      ],
      "text/plain": [
       "     Steps  Distance  High_Activity_Dist  Mod_Activity_dist  \\\n",
       "0  13162.0      8.50                1.88               0.55   \n",
       "1  10735.0      6.97                1.57               0.69   \n",
       "2  10460.0      6.74                2.44               0.40   \n",
       "3   9762.0      6.28                2.14               1.26   \n",
       "4  12669.0      8.16                2.71               0.41   \n",
       "\n",
       "   Light_Activity_dist  High_Activity_Min  Mod_Activity_Min  \\\n",
       "0                 6.06               25.0              13.0   \n",
       "1                 4.71               21.0              19.0   \n",
       "2                 3.91               30.0              11.0   \n",
       "3                 2.83               29.0              34.0   \n",
       "4                 5.04               36.0              10.0   \n",
       "\n",
       "   Light_Activity_Min  Sed_Min  \n",
       "0               328.0    728.0  \n",
       "1               217.0    776.0  \n",
       "2               181.0   1218.0  \n",
       "3               209.0    726.0  \n",
       "4               221.0    773.0  "
      ]
     },
     "execution_count": 3,
     "metadata": {},
     "output_type": "execute_result"
    }
   ],
   "source": [
    "X_data.head()"
   ]
  },
  {
   "cell_type": "code",
   "execution_count": 4,
   "id": "08f05c7a",
   "metadata": {
    "ExecuteTime": {
     "end_time": "2022-12-27T17:42:41.512020Z",
     "start_time": "2022-12-27T17:42:41.497517Z"
    }
   },
   "outputs": [
    {
     "data": {
      "text/plain": [
       "(844, 9)"
      ]
     },
     "execution_count": 4,
     "metadata": {},
     "output_type": "execute_result"
    }
   ],
   "source": [
    "X_data.shape"
   ]
  },
  {
   "cell_type": "code",
   "execution_count": 5,
   "id": "57db0c0c",
   "metadata": {
    "ExecuteTime": {
     "end_time": "2022-12-27T17:42:41.529037Z",
     "start_time": "2022-12-27T17:42:41.513445Z"
    }
   },
   "outputs": [],
   "source": [
    "Y_data = pd.read_csv('Y_data', usecols=[1])"
   ]
  },
  {
   "cell_type": "code",
   "execution_count": 6,
   "id": "c74a18f2",
   "metadata": {
    "ExecuteTime": {
     "end_time": "2022-12-27T17:42:41.545765Z",
     "start_time": "2022-12-27T17:42:41.530144Z"
    }
   },
   "outputs": [
    {
     "data": {
      "text/html": [
       "<div>\n",
       "<style scoped>\n",
       "    .dataframe tbody tr th:only-of-type {\n",
       "        vertical-align: middle;\n",
       "    }\n",
       "\n",
       "    .dataframe tbody tr th {\n",
       "        vertical-align: top;\n",
       "    }\n",
       "\n",
       "    .dataframe thead th {\n",
       "        text-align: right;\n",
       "    }\n",
       "</style>\n",
       "<table border=\"1\" class=\"dataframe\">\n",
       "  <thead>\n",
       "    <tr style=\"text-align: right;\">\n",
       "      <th></th>\n",
       "      <th>Calories</th>\n",
       "    </tr>\n",
       "  </thead>\n",
       "  <tbody>\n",
       "    <tr>\n",
       "      <th>0</th>\n",
       "      <td>1985.0</td>\n",
       "    </tr>\n",
       "    <tr>\n",
       "      <th>1</th>\n",
       "      <td>1797.0</td>\n",
       "    </tr>\n",
       "    <tr>\n",
       "      <th>2</th>\n",
       "      <td>1776.0</td>\n",
       "    </tr>\n",
       "    <tr>\n",
       "      <th>3</th>\n",
       "      <td>1745.0</td>\n",
       "    </tr>\n",
       "    <tr>\n",
       "      <th>4</th>\n",
       "      <td>1863.0</td>\n",
       "    </tr>\n",
       "  </tbody>\n",
       "</table>\n",
       "</div>"
      ],
      "text/plain": [
       "   Calories\n",
       "0    1985.0\n",
       "1    1797.0\n",
       "2    1776.0\n",
       "3    1745.0\n",
       "4    1863.0"
      ]
     },
     "execution_count": 6,
     "metadata": {},
     "output_type": "execute_result"
    }
   ],
   "source": [
    "Y_data.head()"
   ]
  },
  {
   "cell_type": "code",
   "execution_count": 7,
   "id": "5bc1a98a",
   "metadata": {
    "ExecuteTime": {
     "end_time": "2022-12-27T17:42:41.563538Z",
     "start_time": "2022-12-27T17:42:41.545765Z"
    }
   },
   "outputs": [
    {
     "data": {
      "text/plain": [
       "(844, 1)"
      ]
     },
     "execution_count": 7,
     "metadata": {},
     "output_type": "execute_result"
    }
   ],
   "source": [
    "Y_data.shape"
   ]
  },
  {
   "cell_type": "code",
   "execution_count": 8,
   "id": "33d25a99",
   "metadata": {
    "ExecuteTime": {
     "end_time": "2022-12-27T17:42:41.579041Z",
     "start_time": "2022-12-27T17:42:41.563538Z"
    }
   },
   "outputs": [],
   "source": [
    "X_train, X_test, Y_train, Y_test = train_test_split(X_data, Y_data, test_size=0.25, random_state=63)"
   ]
  },
  {
   "cell_type": "code",
   "execution_count": 9,
   "id": "57331f30",
   "metadata": {
    "ExecuteTime": {
     "end_time": "2022-12-27T17:42:41.595588Z",
     "start_time": "2022-12-27T17:42:41.579966Z"
    }
   },
   "outputs": [],
   "source": [
    "std = StandardScaler()\n",
    "std.fit(X_train)\n",
    "std_X_train = std.transform(X_train)"
   ]
  },
  {
   "cell_type": "code",
   "execution_count": 10,
   "id": "996e067a",
   "metadata": {
    "ExecuteTime": {
     "end_time": "2022-12-27T17:42:41.628265Z",
     "start_time": "2022-12-27T17:42:41.596833Z"
    }
   },
   "outputs": [
    {
     "data": {
      "text/plain": [
       "LinearRegression()"
      ]
     },
     "execution_count": 10,
     "metadata": {},
     "output_type": "execute_result"
    }
   ],
   "source": [
    "LR = LinearRegression()\n",
    "LR.fit(std_X_train, Y_train)"
   ]
  },
  {
   "cell_type": "code",
   "execution_count": 11,
   "id": "753019b1",
   "metadata": {
    "ExecuteTime": {
     "end_time": "2022-12-27T17:42:41.645635Z",
     "start_time": "2022-12-27T17:42:41.630009Z"
    }
   },
   "outputs": [
    {
     "data": {
      "text/plain": [
       "{'copy_X': True,\n",
       " 'fit_intercept': True,\n",
       " 'n_jobs': None,\n",
       " 'normalize': 'deprecated',\n",
       " 'positive': False}"
      ]
     },
     "execution_count": 11,
     "metadata": {},
     "output_type": "execute_result"
    }
   ],
   "source": [
    "LR.get_params()"
   ]
  },
  {
   "cell_type": "code",
   "execution_count": 12,
   "id": "d6d482c5",
   "metadata": {
    "ExecuteTime": {
     "end_time": "2022-12-27T17:42:41.662212Z",
     "start_time": "2022-12-27T17:42:41.646585Z"
    }
   },
   "outputs": [
    {
     "data": {
      "text/plain": [
       "array([2357.2906793])"
      ]
     },
     "execution_count": 12,
     "metadata": {},
     "output_type": "execute_result"
    }
   ],
   "source": [
    "LR.intercept_"
   ]
  },
  {
   "cell_type": "code",
   "execution_count": 13,
   "id": "3361cc8d",
   "metadata": {
    "ExecuteTime": {
     "end_time": "2022-12-27T17:42:41.678812Z",
     "start_time": "2022-12-27T17:42:41.663809Z"
    }
   },
   "outputs": [
    {
     "data": {
      "text/plain": [
       "array([[-1.88473424e+03,  2.70546070e+03, -9.82787400e+02,\n",
       "        -2.60720635e+02, -5.12830490e+01,  6.67896504e+02,\n",
       "         1.80345243e+02,  1.29784354e+00,  6.42199129e+01]])"
      ]
     },
     "execution_count": 13,
     "metadata": {},
     "output_type": "execute_result"
    }
   ],
   "source": [
    "LR.coef_"
   ]
  },
  {
   "cell_type": "code",
   "execution_count": 14,
   "id": "f66a675f",
   "metadata": {
    "ExecuteTime": {
     "end_time": "2022-12-27T17:42:41.712266Z",
     "start_time": "2022-12-27T17:42:41.680296Z"
    }
   },
   "outputs": [
    {
     "name": "stdout",
     "output_type": "stream",
     "text": [
      "[0.72227196 0.74282364 0.79139297 0.73908667 0.77642141]\n",
      "0.754399328059695\n"
     ]
    }
   ],
   "source": [
    "scores = cross_val_score(LR, std_X_train, Y_train)\n",
    "print(scores)\n",
    "print(scores.mean())"
   ]
  },
  {
   "cell_type": "code",
   "execution_count": 15,
   "id": "544f840a",
   "metadata": {
    "ExecuteTime": {
     "end_time": "2022-12-27T17:42:41.728160Z",
     "start_time": "2022-12-27T17:42:41.713724Z"
    }
   },
   "outputs": [],
   "source": [
    "std_X_test = std.transform(X_test)"
   ]
  },
  {
   "cell_type": "code",
   "execution_count": 16,
   "id": "72db1561",
   "metadata": {
    "ExecuteTime": {
     "end_time": "2022-12-27T17:42:41.745028Z",
     "start_time": "2022-12-27T17:42:41.729882Z"
    }
   },
   "outputs": [],
   "source": [
    "Y_pred_ols = LR.predict(std_X_test)"
   ]
  },
  {
   "cell_type": "code",
   "execution_count": 17,
   "id": "56faf261",
   "metadata": {
    "ExecuteTime": {
     "end_time": "2022-12-27T17:42:41.762093Z",
     "start_time": "2022-12-27T17:42:41.746634Z"
    }
   },
   "outputs": [
    {
     "name": "stdout",
     "output_type": "stream",
     "text": [
      "0.7688120322202453\n"
     ]
    }
   ],
   "source": [
    "r2_ols = r2_score(Y_test, Y_pred_ols)\n",
    "print(r2_ols)\n",
    "Model_scores = {'OLS': r2_ols}"
   ]
  },
  {
   "cell_type": "code",
   "execution_count": 18,
   "id": "ebf784fe",
   "metadata": {
    "ExecuteTime": {
     "end_time": "2022-12-27T17:42:41.778316Z",
     "start_time": "2022-12-27T17:42:41.763919Z"
    }
   },
   "outputs": [
    {
     "name": "stdout",
     "output_type": "stream",
     "text": [
      "367.86832976661213\n"
     ]
    }
   ],
   "source": [
    "LR_rmse = mean_squared_error(Y_test, Y_pred_ols, squared=False)\n",
    "print(LR_rmse)"
   ]
  },
  {
   "cell_type": "code",
   "execution_count": 19,
   "id": "f530bda5",
   "metadata": {
    "ExecuteTime": {
     "end_time": "2022-12-27T17:42:41.937432Z",
     "start_time": "2022-12-27T17:42:41.779986Z"
    }
   },
   "outputs": [
    {
     "data": {
      "image/png": "[encoded data removed]",
      "text/plain": [
       "<Figure size 432x288 with 1 Axes>"
      ]
     },
     "metadata": {
      "needs_background": "light"
     },
     "output_type": "display_data"
    }
   ],
   "source": [
    "Predicted = plt.scatter(range(0,211,1), Y_pred_ols, c='red')\n",
    "Actual = plt.scatter(range(0,211,1), Y_test, c='blue', alpha=0.5)\n",
    "plt.title(\"Actual VS. Predicted\")\n",
    "plt.xlabel(\"Data Point\")\n",
    "plt.ylabel('Calories')\n",
    "plt.legend((Predicted, Actual),(\"Predicted\", \"Actual\") )\n",
    "plt.grid()\n",
    "plt.show()"
   ]
  },
  {
   "cell_type": "code",
   "execution_count": 20,
   "id": "4b9cf2f4",
   "metadata": {
    "ExecuteTime": {
     "end_time": "2022-12-27T17:42:42.014468Z",
     "start_time": "2022-12-27T17:42:41.939157Z"
    }
   },
   "outputs": [
    {
     "data": {
      "image/png": "[encoded data removed]",
      "text/plain": [
       "<Figure size 432x288 with 1 Axes>"
      ]
     },
     "metadata": {
      "needs_background": "light"
     },
     "output_type": "display_data"
    }
   ],
   "source": [
    "fig, ax = plt.subplots()\n",
    "\n",
    "ax.scatter(Y_test, Y_pred_ols)\n",
    "plt.xlabel(\"Acutal Calories\")\n",
    "plt.ylabel('Predicted Calories')\n",
    "plt.title(\"Actual VS. Predicted\")\n",
    "plt.grid()\n",
    "plt.show()"
   ]
  },
  {
   "cell_type": "code",
   "execution_count": 21,
   "id": "96bec4ee",
   "metadata": {
    "ExecuteTime": {
     "end_time": "2022-12-27T17:42:42.024943Z",
     "start_time": "2022-12-27T17:42:42.015387Z"
    }
   },
   "outputs": [],
   "source": [
    "LRnn = LinearRegression(positive=True)\n",
    "Y_pred_LRnn = LRnn.fit(std_X_train, Y_train).predict(std_X_test)"
   ]
  },
  {
   "cell_type": "code",
   "execution_count": 22,
   "id": "b40ff1e5",
   "metadata": {
    "ExecuteTime": {
     "end_time": "2022-12-27T17:42:42.036014Z",
     "start_time": "2022-12-27T17:42:42.024943Z"
    }
   },
   "outputs": [
    {
     "data": {
      "text/plain": [
       "array([[  0.        ,   0.        ,   0.        ,   0.        ,\n",
       "        276.2613741 , 408.74106488,  46.82570091,   0.        ,\n",
       "         87.23297805]])"
      ]
     },
     "execution_count": 22,
     "metadata": {},
     "output_type": "execute_result"
    }
   ],
   "source": [
    "LRnn.coef_"
   ]
  },
  {
   "cell_type": "code",
   "execution_count": 23,
   "id": "4315be21",
   "metadata": {
    "ExecuteTime": {
     "end_time": "2022-12-27T17:42:42.051279Z",
     "start_time": "2022-12-27T17:42:42.036014Z"
    }
   },
   "outputs": [
    {
     "name": "stdout",
     "output_type": "stream",
     "text": [
      "0.5800670402098242\n"
     ]
    }
   ],
   "source": [
    "r2_LRnn = r2_score(Y_test, Y_pred_LRnn)\n",
    "print(r2_LRnn)"
   ]
  },
  {
   "cell_type": "code",
   "execution_count": 24,
   "id": "fe52aca2",
   "metadata": {
    "ExecuteTime": {
     "end_time": "2022-12-27T17:42:42.083579Z",
     "start_time": "2022-12-27T17:42:42.053171Z"
    }
   },
   "outputs": [
    {
     "name": "stdout",
     "output_type": "stream",
     "text": [
      "[0.56453535 0.54775045 0.53384819 0.49540168 0.5014409 ]\n"
     ]
    }
   ],
   "source": [
    "scores = cross_val_score(LRnn, std_X_train, Y_train)\n",
    "print(scores)"
   ]
  },
  {
   "cell_type": "code",
   "execution_count": 25,
   "id": "1d446879",
   "metadata": {
    "ExecuteTime": {
     "end_time": "2022-12-27T17:42:42.091636Z",
     "start_time": "2022-12-27T17:42:42.084581Z"
    },
    "scrolled": true
   },
   "outputs": [
    {
     "name": "stdout",
     "output_type": "stream",
     "text": [
      "495.79228938106553\n"
     ]
    }
   ],
   "source": [
    "LRnn_rmse = mean_squared_error(Y_test, Y_pred_LRnn, squared=False)\n",
    "print(LRnn_rmse)"
   ]
  },
  {
   "cell_type": "code",
   "execution_count": 26,
   "id": "11a8adec",
   "metadata": {
    "ExecuteTime": {
     "end_time": "2022-12-27T17:42:42.174359Z",
     "start_time": "2022-12-27T17:42:42.093359Z"
    }
   },
   "outputs": [
    {
     "data": {
      "image/png": "[encoded data removed]",
      "text/plain": [
       "<Figure size 432x288 with 1 Axes>"
      ]
     },
     "metadata": {
      "needs_background": "light"
     },
     "output_type": "display_data"
    }
   ],
   "source": [
    "fig, ax = plt.subplots()\n",
    "\n",
    "ax.scatter(range(0,211,1), Y_pred_LRnn, c='red')\n",
    "ax.scatter(range(0,211,1), Y_test, c='blue')\n",
    "plt.show()"
   ]
  },
  {
   "cell_type": "code",
   "execution_count": 27,
   "id": "83807539",
   "metadata": {
    "ExecuteTime": {
     "end_time": "2022-12-27T17:42:42.265107Z",
     "start_time": "2022-12-27T17:42:42.178413Z"
    }
   },
   "outputs": [
    {
     "data": {
      "image/png": "[encoded data removed]",
      "text/plain": [
       "<Figure size 432x288 with 1 Axes>"
      ]
     },
     "metadata": {
      "needs_background": "light"
     },
     "output_type": "display_data"
    }
   ],
   "source": [
    "plt.scatter(Y_test, Y_pred_LRnn)\n",
    "plt.xlabel(\"Acutal Calories\")\n",
    "plt.ylabel('Predicted Calories')\n",
    "plt.title(\"Actual VS. Predicted\")\n",
    "plt.grid()\n",
    "plt.show()"
   ]
  },
  {
   "cell_type": "code",
   "execution_count": 28,
   "id": "5c4fa7ac",
   "metadata": {
    "ExecuteTime": {
     "end_time": "2022-12-27T17:42:42.272665Z",
     "start_time": "2022-12-27T17:42:42.266030Z"
    }
   },
   "outputs": [],
   "source": [
    "lasso_mod = Lasso() "
   ]
  },
  {
   "cell_type": "code",
   "execution_count": 29,
   "id": "983c7fe8",
   "metadata": {
    "ExecuteTime": {
     "end_time": "2022-12-27T17:42:42.284742Z",
     "start_time": "2022-12-27T17:42:42.273196Z"
    }
   },
   "outputs": [
    {
     "data": {
      "text/plain": [
       "{'alpha': 1.0,\n",
       " 'copy_X': True,\n",
       " 'fit_intercept': True,\n",
       " 'max_iter': 1000,\n",
       " 'normalize': 'deprecated',\n",
       " 'positive': False,\n",
       " 'precompute': False,\n",
       " 'random_state': None,\n",
       " 'selection': 'cyclic',\n",
       " 'tol': 0.0001,\n",
       " 'warm_start': False}"
      ]
     },
     "execution_count": 29,
     "metadata": {},
     "output_type": "execute_result"
    }
   ],
   "source": [
    "lasso_mod.get_params()"
   ]
  },
  {
   "cell_type": "code",
   "execution_count": 30,
   "id": "0b038086",
   "metadata": {
    "ExecuteTime": {
     "end_time": "2022-12-27T17:42:42.300308Z",
     "start_time": "2022-12-27T17:42:42.286253Z"
    }
   },
   "outputs": [],
   "source": [
    "Y_pred_lasso = lasso_mod.fit(std_X_train, Y_train).predict(std_X_test)"
   ]
  },
  {
   "cell_type": "code",
   "execution_count": 31,
   "id": "a00f496b",
   "metadata": {
    "ExecuteTime": {
     "end_time": "2022-12-27T17:42:42.308193Z",
     "start_time": "2022-12-27T17:42:42.301396Z"
    }
   },
   "outputs": [
    {
     "data": {
      "text/plain": [
       "array([-1789.78435303,  2507.2039006 ,  -883.28531928,  -233.74045104,\n",
       "           0.        ,   650.29748754,   172.8909221 ,    -6.20768432,\n",
       "          63.45989315])"
      ]
     },
     "execution_count": 31,
     "metadata": {},
     "output_type": "execute_result"
    }
   ],
   "source": [
    "lasso_mod.coef_"
   ]
  },
  {
   "cell_type": "code",
   "execution_count": 32,
   "id": "d5619a0e",
   "metadata": {
    "ExecuteTime": {
     "end_time": "2022-12-27T17:42:42.323486Z",
     "start_time": "2022-12-27T17:42:42.308193Z"
    }
   },
   "outputs": [
    {
     "data": {
      "text/plain": [
       "array([2357.2906793])"
      ]
     },
     "execution_count": 32,
     "metadata": {},
     "output_type": "execute_result"
    }
   ],
   "source": [
    "lasso_mod.intercept_"
   ]
  },
  {
   "cell_type": "code",
   "execution_count": 33,
   "id": "7aa4777c",
   "metadata": {
    "ExecuteTime": {
     "end_time": "2022-12-27T17:42:42.340904Z",
     "start_time": "2022-12-27T17:42:42.325088Z"
    }
   },
   "outputs": [
    {
     "name": "stdout",
     "output_type": "stream",
     "text": [
      "0.7690587310269521\n"
     ]
    }
   ],
   "source": [
    "r2_lasso = r2_score(Y_test, Y_pred_lasso)\n",
    "print(r2_lasso)\n",
    "Model_scores['Lasso'] = r2_lasso"
   ]
  },
  {
   "cell_type": "code",
   "execution_count": 34,
   "id": "7fba27fb",
   "metadata": {
    "ExecuteTime": {
     "end_time": "2022-12-27T17:42:42.369628Z",
     "start_time": "2022-12-27T17:42:42.342913Z"
    }
   },
   "outputs": [
    {
     "name": "stdout",
     "output_type": "stream",
     "text": [
      "[0.74064313 0.74329956 0.7885927  0.72874465 0.77657508]\n",
      "0.7555710239378987\n"
     ]
    }
   ],
   "source": [
    "scores = cross_val_score(lasso_mod, std_X_train, Y_train)\n",
    "print(scores)\n",
    "print(scores.mean())"
   ]
  },
  {
   "cell_type": "code",
   "execution_count": 35,
   "id": "88740ab2",
   "metadata": {
    "ExecuteTime": {
     "end_time": "2022-12-27T17:42:42.385538Z",
     "start_time": "2022-12-27T17:42:42.369628Z"
    }
   },
   "outputs": [
    {
     "name": "stdout",
     "output_type": "stream",
     "text": [
      "367.67200272126854\n"
     ]
    }
   ],
   "source": [
    "lasso_rmse = mean_squared_error(Y_test, Y_pred_lasso, squared=False)\n",
    "print(lasso_rmse)"
   ]
  },
  {
   "cell_type": "code",
   "execution_count": 36,
   "id": "44f1096c",
   "metadata": {
    "ExecuteTime": {
     "end_time": "2022-12-27T17:42:42.493909Z",
     "start_time": "2022-12-27T17:42:42.387550Z"
    }
   },
   "outputs": [
    {
     "data": {
      "image/png": "[encoded data removed]",
      "text/plain": [
       "<Figure size 432x288 with 1 Axes>"
      ]
     },
     "metadata": {
      "needs_background": "light"
     },
     "output_type": "display_data"
    }
   ],
   "source": [
    "fig, ax = plt.subplots()\n",
    "\n",
    "ax.scatter(range(0,211,1), Y_pred_lasso, c='red')\n",
    "ax.scatter(range(0,211,1), Y_test, c='blue')\n",
    "plt.title(\"Actual VS. Predicted\")\n",
    "plt.xlabel(\"Data Point\")\n",
    "plt.ylabel('Calories')\n",
    "plt.legend((Predicted, Actual),(\"Predicted\", \"Actual\") )\n",
    "plt.grid()\n",
    "plt.show()"
   ]
  },
  {
   "cell_type": "code",
   "execution_count": 37,
   "id": "3b3f9a86",
   "metadata": {
    "ExecuteTime": {
     "end_time": "2022-12-27T17:42:42.586904Z",
     "start_time": "2022-12-27T17:42:42.494906Z"
    }
   },
   "outputs": [
    {
     "data": {
      "image/png": "[encoded data removed]",
      "text/plain": [
       "<Figure size 432x288 with 1 Axes>"
      ]
     },
     "metadata": {
      "needs_background": "light"
     },
     "output_type": "display_data"
    }
   ],
   "source": [
    "fig, ax = plt.subplots()\n",
    "\n",
    "l = plt.scatter(Y_test, Y_pred_lasso, c='blue', alpha=0.6)\n",
    "o = plt.scatter(Y_test, Y_pred_ols, c='red', alpha=0.7)\n",
    "plt.xlabel(\"Acutal Calories\")\n",
    "plt.ylabel('Predicted Calories')\n",
    "plt.title(\"Actual VS. Predicted\")\n",
    "plt.legend((l,o ),( \"Lasso\", \"OLS\") )\n",
    "plt.grid()\n",
    "plt.show()"
   ]
  },
  {
   "cell_type": "code",
   "execution_count": 38,
   "id": "81ada576",
   "metadata": {
    "ExecuteTime": {
     "end_time": "2022-12-27T17:42:42.761429Z",
     "start_time": "2022-12-27T17:42:42.588407Z"
    },
    "scrolled": true
   },
   "outputs": [
    {
     "data": {
      "image/png": "[encoded data removed]",
      "text/plain": [
       "<Figure size 432x288 with 1 Axes>"
      ]
     },
     "metadata": {
      "needs_background": "light"
     },
     "output_type": "display_data"
    }
   ],
   "source": [
    "fig, ax = plt.subplots()\n",
    "a = ax.scatter(range(0,211,1), Y_test, c='yellow', alpha=0.5)\n",
    "l = ax.scatter(range(0,211,1), Y_pred_lasso, c='red', alpha=0.5)\n",
    "o = ax.scatter(range(0,211,1), Y_pred_ols, c='blue', alpha=0.5)\n",
    "plt.title(\"Actual vs. OLS and LASSO\")\n",
    "plt.xlabel(\"Data Point\")\n",
    "plt.ylabel('Calories')\n",
    "plt.legend((a,l,o),(\"Actual\", \"Lasso\", \"OLS\") )\n",
    "plt.grid()\n",
    "plt.show()"
   ]
  },
  {
   "cell_type": "code",
   "execution_count": 39,
   "id": "b6f5e3ba",
   "metadata": {
    "ExecuteTime": {
     "end_time": "2022-12-27T17:42:42.773444Z",
     "start_time": "2022-12-27T17:42:42.763072Z"
    }
   },
   "outputs": [
    {
     "data": {
      "text/plain": [
       "array([[-1590.87734904,  2168.42379349,  -739.17177142,  -243.82577749,\n",
       "           83.86535517,   615.99540263,   206.2145847 ,   -32.68290905,\n",
       "           65.29226681]])"
      ]
     },
     "execution_count": 39,
     "metadata": {},
     "output_type": "execute_result"
    }
   ],
   "source": [
    "ridge_mod = Ridge()\n",
    "Y_pred_ridge = ridge_mod.fit(std_X_train, Y_train).predict(std_X_test)\n",
    "ridge_mod.coef_"
   ]
  },
  {
   "cell_type": "code",
   "execution_count": 40,
   "id": "ebf18a79",
   "metadata": {
    "ExecuteTime": {
     "end_time": "2022-12-27T17:42:42.788999Z",
     "start_time": "2022-12-27T17:42:42.774392Z"
    }
   },
   "outputs": [
    {
     "name": "stdout",
     "output_type": "stream",
     "text": [
      "0.7666632254693292\n"
     ]
    }
   ],
   "source": [
    "r2_ridge = r2_score(Y_test, Y_pred_ridge)\n",
    "print(r2_ridge)\n",
    "Model_scores['Ridge'] = r2_ridge"
   ]
  },
  {
   "cell_type": "code",
   "execution_count": 41,
   "id": "b6f7d33e",
   "metadata": {
    "ExecuteTime": {
     "end_time": "2022-12-27T17:42:42.809762Z",
     "start_time": "2022-12-27T17:42:42.789997Z"
    }
   },
   "outputs": [
    {
     "name": "stdout",
     "output_type": "stream",
     "text": [
      "[0.73962687 0.73520772 0.77839942 0.71206636 0.77175607]\n",
      "0.7474112890709209\n"
     ]
    }
   ],
   "source": [
    "scores = cross_val_score(ridge_mod, std_X_train, Y_train)\n",
    "print(scores)\n",
    "print(scores.mean())"
   ]
  },
  {
   "cell_type": "code",
   "execution_count": 42,
   "id": "b93f1350",
   "metadata": {
    "ExecuteTime": {
     "end_time": "2022-12-27T17:42:42.824509Z",
     "start_time": "2022-12-27T17:42:42.811069Z"
    }
   },
   "outputs": [
    {
     "name": "stdout",
     "output_type": "stream",
     "text": [
      "369.5739757066175\n"
     ]
    }
   ],
   "source": [
    "ridge_rmse = mean_squared_error(Y_test, Y_pred_ridge, squared=False)\n",
    "print(ridge_rmse)"
   ]
  },
  {
   "cell_type": "code",
   "execution_count": 43,
   "id": "2358dbdf",
   "metadata": {
    "ExecuteTime": {
     "end_time": "2022-12-27T17:42:42.840051Z",
     "start_time": "2022-12-27T17:42:42.826640Z"
    }
   },
   "outputs": [],
   "source": [
    "score_df = pd.DataFrame.from_dict(Model_scores, orient= 'index')"
   ]
  },
  {
   "cell_type": "code",
   "execution_count": 44,
   "id": "0bef64f1",
   "metadata": {
    "ExecuteTime": {
     "end_time": "2022-12-27T17:42:42.858038Z",
     "start_time": "2022-12-27T17:42:42.842047Z"
    }
   },
   "outputs": [
    {
     "name": "stdout",
     "output_type": "stream",
     "text": [
      "              0\n",
      "OLS    0.768812\n",
      "Lasso  0.769059\n",
      "Ridge  0.766663\n"
     ]
    }
   ],
   "source": [
    "print(score_df)"
   ]
  },
  {
   "cell_type": "code",
   "execution_count": 45,
   "id": "9c2026ae",
   "metadata": {
    "ExecuteTime": {
     "end_time": "2022-12-27T17:42:42.976485Z",
     "start_time": "2022-12-27T17:42:42.859217Z"
    }
   },
   "outputs": [
    {
     "data": {
      "image/png": "[encoded data removed]",
      "text/plain": [
       "<Figure size 432x288 with 1 Axes>"
      ]
     },
     "metadata": {
      "needs_background": "light"
     },
     "output_type": "display_data"
    }
   ],
   "source": [
    "fig, ax = plt.subplots()\n",
    "\n",
    "ax.scatter(range(0,211,1), Y_pred_ridge, c='red')\n",
    "ax.scatter(range(0,211,1), Y_test, c='blue')\n",
    "plt.title(\"Actual VS. Predicted\")\n",
    "plt.xlabel(\"Data Point\")\n",
    "plt.ylabel('Calories')\n",
    "plt.legend((Predicted, Actual),(\"Predicted\", \"Actual\") )\n",
    "plt.grid()\n",
    "plt.show()"
   ]
  },
  {
   "cell_type": "code",
   "execution_count": 46,
   "id": "6165ea27",
   "metadata": {
    "ExecuteTime": {
     "end_time": "2022-12-27T17:42:43.064951Z",
     "start_time": "2022-12-27T17:42:42.978415Z"
    }
   },
   "outputs": [
    {
     "data": {
      "image/png": "[encoded data removed]",
      "text/plain": [
       "<Figure size 432x288 with 1 Axes>"
      ]
     },
     "metadata": {
      "needs_background": "light"
     },
     "output_type": "display_data"
    }
   ],
   "source": [
    "plt.scatter(Y_test, Y_pred_ridge)\n",
    "plt.xlabel(\"Acutal Calories\")\n",
    "plt.ylabel('Predicted Calories')\n",
    "plt.title(\"Actual VS. Predicted\")\n",
    "plt.grid()\n",
    "plt.show()"
   ]
  },
  {
   "cell_type": "code",
   "execution_count": 47,
   "id": "4cd2fd44",
   "metadata": {
    "ExecuteTime": {
     "end_time": "2022-12-27T17:42:43.179387Z",
     "start_time": "2022-12-27T17:42:43.065857Z"
    }
   },
   "outputs": [
    {
     "data": {
      "image/png": "[encoded data removed]",
      "text/plain": [
       "<Figure size 432x288 with 1 Axes>"
      ]
     },
     "metadata": {
      "needs_background": "light"
     },
     "output_type": "display_data"
    }
   ],
   "source": [
    "fig, ax = plt.subplots()\n",
    "\n",
    "ax.scatter(range(0,211,1), Y_pred_ridge, c='red')\n",
    "ax.scatter(range(0,211,1), Y_pred_lasso, c='blue')\n",
    "plt.title(\"Ridge VS. Lasso\")\n",
    "plt.xlabel(\"Data Point\")\n",
    "plt.ylabel('Calories')\n",
    "plt.legend((Predicted, Actual),(\"Ridge\", \"Lasso\") )\n",
    "plt.grid()\n",
    "plt.show()"
   ]
  },
  {
   "cell_type": "code",
   "execution_count": 48,
   "id": "026fd276",
   "metadata": {
    "ExecuteTime": {
     "end_time": "2022-12-27T17:42:43.190286Z",
     "start_time": "2022-12-27T17:42:43.180388Z"
    }
   },
   "outputs": [],
   "source": [
    "knn = KNeighborsRegressor()\n",
    "Y_pred_knn = knn.fit(std_X_train, Y_train).predict(std_X_test)"
   ]
  },
  {
   "cell_type": "code",
   "execution_count": 49,
   "id": "78330f83",
   "metadata": {
    "ExecuteTime": {
     "end_time": "2022-12-27T17:42:43.217233Z",
     "start_time": "2022-12-27T17:42:43.190286Z"
    }
   },
   "outputs": [
    {
     "name": "stdout",
     "output_type": "stream",
     "text": [
      "[0.50198851 0.65355783 0.65102873 0.52833958 0.60340219]\n"
     ]
    }
   ],
   "source": [
    "scores = cross_val_score(knn, std_X_train, Y_train)\n",
    "print(scores)"
   ]
  },
  {
   "cell_type": "code",
   "execution_count": 50,
   "id": "f40f2489",
   "metadata": {
    "ExecuteTime": {
     "end_time": "2022-12-27T17:42:43.233337Z",
     "start_time": "2022-12-27T17:42:43.218605Z"
    }
   },
   "outputs": [
    {
     "name": "stdout",
     "output_type": "stream",
     "text": [
      "447.6370641850689\n"
     ]
    }
   ],
   "source": [
    "knn_rmse = mean_squared_error(Y_test, Y_pred_knn, squared=False)\n",
    "print(knn_rmse)"
   ]
  },
  {
   "cell_type": "code",
   "execution_count": 51,
   "id": "4123a623",
   "metadata": {
    "ExecuteTime": {
     "end_time": "2022-12-27T17:42:43.313895Z",
     "start_time": "2022-12-27T17:42:43.235255Z"
    }
   },
   "outputs": [
    {
     "data": {
      "image/png": "[encoded data removed]",
      "text/plain": [
       "<Figure size 432x288 with 1 Axes>"
      ]
     },
     "metadata": {
      "needs_background": "light"
     },
     "output_type": "display_data"
    }
   ],
   "source": [
    "fig, ax = plt.subplots()\n",
    "\n",
    "ax.scatter(range(0,211,1), Y_pred_knn, c='red')\n",
    "ax.scatter(range(0,211,1), Y_test, c='blue')\n",
    "plt.show()"
   ]
  },
  {
   "cell_type": "code",
   "execution_count": 52,
   "id": "15c7cc8c",
   "metadata": {
    "ExecuteTime": {
     "end_time": "2022-12-27T17:42:43.539567Z",
     "start_time": "2022-12-27T17:42:43.315848Z"
    }
   },
   "outputs": [],
   "source": [
    "RF = RandomForestRegressor()\n",
    "Y_pred_RF = RF.fit(std_X_train, Y_train.values.ravel()).predict(std_X_test)"
   ]
  },
  {
   "cell_type": "code",
   "execution_count": 53,
   "id": "46de14a6",
   "metadata": {
    "ExecuteTime": {
     "end_time": "2022-12-27T17:42:44.512418Z",
     "start_time": "2022-12-27T17:42:43.540457Z"
    }
   },
   "outputs": [
    {
     "name": "stdout",
     "output_type": "stream",
     "text": [
      "[0.61315676 0.71680141 0.73370845 0.58844042 0.67216552]\n"
     ]
    }
   ],
   "source": [
    "scores = cross_val_score(RF, std_X_train, Y_train.values.ravel())\n",
    "print(scores)"
   ]
  },
  {
   "cell_type": "code",
   "execution_count": 54,
   "id": "37af8274",
   "metadata": {
    "ExecuteTime": {
     "end_time": "2022-12-27T17:42:44.612347Z",
     "start_time": "2022-12-27T17:42:44.512418Z"
    }
   },
   "outputs": [],
   "source": [
    "GBM = GradientBoostingRegressor()\n",
    "Y_pred_GBM = GBM.fit(std_X_train, Y_train.values.ravel()).predict(std_X_test)"
   ]
  },
  {
   "cell_type": "code",
   "execution_count": 55,
   "id": "5067f22c",
   "metadata": {
    "ExecuteTime": {
     "end_time": "2022-12-27T17:42:44.979912Z",
     "start_time": "2022-12-27T17:42:44.613691Z"
    },
    "scrolled": true
   },
   "outputs": [
    {
     "name": "stdout",
     "output_type": "stream",
     "text": [
      "[0.67075433 0.71653182 0.71357362 0.61504212 0.66378194]\n"
     ]
    }
   ],
   "source": [
    "scores = cross_val_score(GBM, std_X_train, Y_train.values.ravel())\n",
    "print(scores)"
   ]
  },
  {
   "cell_type": "code",
   "execution_count": 56,
   "id": "449f7680",
   "metadata": {
    "ExecuteTime": {
     "end_time": "2022-12-27T17:42:45.062234Z",
     "start_time": "2022-12-27T17:42:44.981951Z"
    },
    "scrolled": true
   },
   "outputs": [
    {
     "data": {
      "image/png": "[encoded data removed]",
      "text/plain": [
       "<Figure size 432x288 with 1 Axes>"
      ]
     },
     "metadata": {
      "needs_background": "light"
     },
     "output_type": "display_data"
    }
   ],
   "source": [
    "fig, ax = plt.subplots()\n",
    "\n",
    "ax.scatter(range(0,25,1), Y_pred_GBM[0:25], c='red')\n",
    "ax.scatter(range(0,25,1), Y_test[0:25], c='blue')\n",
    "plt.show()"
   ]
  },
  {
   "cell_type": "code",
   "execution_count": 57,
   "id": "6239d582",
   "metadata": {
    "ExecuteTime": {
     "end_time": "2022-12-27T17:42:45.146546Z",
     "start_time": "2022-12-27T17:42:45.064319Z"
    }
   },
   "outputs": [
    {
     "data": {
      "image/png": "[encoded data removed]",
      "text/plain": [
       "<Figure size 432x288 with 1 Axes>"
      ]
     },
     "metadata": {
      "needs_background": "light"
     },
     "output_type": "display_data"
    }
   ],
   "source": [
    "fig, ax = plt.subplots()\n",
    "\n",
    "ax.scatter(Y_test, Y_pred_GBM)\n",
    "plt.grid()\n",
    "plt.show()"
   ]
  },
  {
   "cell_type": "code",
   "execution_count": 58,
   "id": "6a27ac07",
   "metadata": {
    "ExecuteTime": {
     "end_time": "2022-12-27T17:42:45.155121Z",
     "start_time": "2022-12-27T17:42:45.148626Z"
    }
   },
   "outputs": [
    {
     "name": "stdout",
     "output_type": "stream",
     "text": [
      "409.52984574386153\n"
     ]
    }
   ],
   "source": [
    "GBM_rmse = mean_squared_error(Y_test, Y_pred_GBM, squared=False)\n",
    "print(GBM_rmse)"
   ]
  },
  {
   "cell_type": "code",
   "execution_count": 59,
   "id": "cbe49c70",
   "metadata": {
    "ExecuteTime": {
     "end_time": "2022-12-27T17:42:45.170873Z",
     "start_time": "2022-12-27T17:42:45.155121Z"
    }
   },
   "outputs": [],
   "source": [
    "select_feature = RFE(LR, n_features_to_select=4)\n",
    "selected = select_feature.fit(std_X_train, Y_train)"
   ]
  },
  {
   "cell_type": "code",
   "execution_count": 60,
   "id": "5632dcf7",
   "metadata": {
    "ExecuteTime": {
     "end_time": "2022-12-27T17:42:45.187157Z",
     "start_time": "2022-12-27T17:42:45.171871Z"
    }
   },
   "outputs": [
    {
     "data": {
      "text/plain": [
       "array([ True,  True,  True, False, False,  True, False, False, False])"
      ]
     },
     "execution_count": 60,
     "metadata": {},
     "output_type": "execute_result"
    }
   ],
   "source": [
    "selected.support_"
   ]
  },
  {
   "cell_type": "code",
   "execution_count": 61,
   "id": "54828d5d",
   "metadata": {
    "ExecuteTime": {
     "end_time": "2022-12-27T17:42:45.202298Z",
     "start_time": "2022-12-27T17:42:45.187157Z"
    }
   },
   "outputs": [
    {
     "data": {
      "text/plain": [
       "0.748008323740775"
      ]
     },
     "execution_count": 61,
     "metadata": {},
     "output_type": "execute_result"
    }
   ],
   "source": [
    "selected.score(std_X_train, Y_train)"
   ]
  },
  {
   "cell_type": "code",
   "execution_count": 62,
   "id": "13b31784",
   "metadata": {
    "ExecuteTime": {
     "end_time": "2022-12-27T17:42:45.217636Z",
     "start_time": "2022-12-27T17:42:45.203217Z"
    }
   },
   "outputs": [],
   "source": [
    "Y_pred_select = selected.predict(std_X_test)"
   ]
  },
  {
   "cell_type": "code",
   "execution_count": 63,
   "id": "82f6a424",
   "metadata": {
    "ExecuteTime": {
     "end_time": "2022-12-27T17:42:45.233700Z",
     "start_time": "2022-12-27T17:42:45.217636Z"
    }
   },
   "outputs": [
    {
     "name": "stdout",
     "output_type": "stream",
     "text": [
      "0.7348888080879632\n"
     ]
    }
   ],
   "source": [
    "r2_select = r2_score(Y_test, Y_pred_select)\n",
    "print(r2_select)"
   ]
  },
  {
   "cell_type": "code",
   "execution_count": 64,
   "id": "bc403ca8",
   "metadata": {
    "ExecuteTime": {
     "end_time": "2022-12-27T17:42:45.251017Z",
     "start_time": "2022-12-27T17:42:45.234697Z"
    }
   },
   "outputs": [],
   "source": [
    "select_features = RFE(ridge_mod, n_features_to_select=4)\n",
    "selected2 = select_features.fit(std_X_train, Y_train)"
   ]
  },
  {
   "cell_type": "code",
   "execution_count": 65,
   "id": "25dd77ce",
   "metadata": {
    "ExecuteTime": {
     "end_time": "2022-12-27T17:42:45.266162Z",
     "start_time": "2022-12-27T17:42:45.251017Z"
    }
   },
   "outputs": [
    {
     "data": {
      "text/plain": [
       "array([ True,  True,  True, False, False,  True, False, False, False])"
      ]
     },
     "execution_count": 65,
     "metadata": {},
     "output_type": "execute_result"
    }
   ],
   "source": [
    "selected2.support_"
   ]
  },
  {
   "cell_type": "code",
   "execution_count": 66,
   "id": "eeb522ce",
   "metadata": {
    "ExecuteTime": {
     "end_time": "2022-12-27T17:42:45.288617Z",
     "start_time": "2022-12-27T17:42:45.267159Z"
    }
   },
   "outputs": [
    {
     "data": {
      "text/plain": [
       "0.7435557690929551"
      ]
     },
     "execution_count": 66,
     "metadata": {},
     "output_type": "execute_result"
    }
   ],
   "source": [
    "selected2.score(std_X_train, Y_train)"
   ]
  },
  {
   "cell_type": "code",
   "execution_count": 67,
   "id": "2f5fe1d2",
   "metadata": {
    "ExecuteTime": {
     "end_time": "2022-12-27T17:42:45.316111Z",
     "start_time": "2022-12-27T17:42:45.289152Z"
    }
   },
   "outputs": [
    {
     "data": {
      "text/plain": [
       "SVR(kernel='linear')"
      ]
     },
     "execution_count": 67,
     "metadata": {},
     "output_type": "execute_result"
    }
   ],
   "source": [
    "svm_mod = SVR(kernel='linear')\n",
    "svm_mod.fit(std_X_train, Y_train.values.ravel())"
   ]
  },
  {
   "cell_type": "code",
   "execution_count": 68,
   "id": "a532343c",
   "metadata": {
    "ExecuteTime": {
     "end_time": "2022-12-27T17:42:45.397604Z",
     "start_time": "2022-12-27T17:42:45.317026Z"
    }
   },
   "outputs": [
    {
     "name": "stdout",
     "output_type": "stream",
     "text": [
      "[0.47899999 0.42524868 0.39152372 0.41170125 0.36026595]\n"
     ]
    }
   ],
   "source": [
    "scores = cross_val_score(svm_mod, std_X_train, Y_train.values.ravel())\n",
    "print(scores)"
   ]
  },
  {
   "cell_type": "code",
   "execution_count": 69,
   "id": "e194dc00",
   "metadata": {
    "ExecuteTime": {
     "end_time": "2022-12-27T17:42:45.417594Z",
     "start_time": "2022-12-27T17:42:45.398600Z"
    }
   },
   "outputs": [],
   "source": [
    "Y_pred_svm = svm_mod.predict(std_X_test)"
   ]
  },
  {
   "cell_type": "code",
   "execution_count": 70,
   "id": "ef56a658",
   "metadata": {
    "ExecuteTime": {
     "end_time": "2022-12-27T17:42:45.433650Z",
     "start_time": "2022-12-27T17:42:45.418292Z"
    }
   },
   "outputs": [
    {
     "name": "stdout",
     "output_type": "stream",
     "text": [
      "0.4152167918984766\n"
     ]
    }
   ],
   "source": [
    "r2_svm = r2_score(Y_test, Y_pred_svm)\n",
    "print(r2_svm)"
   ]
  },
  {
   "cell_type": "code",
   "execution_count": 71,
   "id": "d4717fd5",
   "metadata": {
    "ExecuteTime": {
     "end_time": "2022-12-27T17:42:45.513848Z",
     "start_time": "2022-12-27T17:42:45.435484Z"
    }
   },
   "outputs": [
    {
     "data": {
      "image/png": "[encoded data removed]",
      "text/plain": [
       "<Figure size 432x288 with 1 Axes>"
      ]
     },
     "metadata": {
      "needs_background": "light"
     },
     "output_type": "display_data"
    }
   ],
   "source": [
    "fig, ax = plt.subplots()\n",
    "\n",
    "ax.scatter(range(0,25,1), Y_pred_svm[0:25], c='red')\n",
    "ax.scatter(range(0,25,1), Y_test[0:25], c='blue')\n",
    "plt.show()"
   ]
  },
  {
   "cell_type": "code",
   "execution_count": 72,
   "id": "37c37303",
   "metadata": {
    "ExecuteTime": {
     "end_time": "2022-12-27T17:42:45.598497Z",
     "start_time": "2022-12-27T17:42:45.515754Z"
    }
   },
   "outputs": [
    {
     "data": {
      "image/png": "[encoded data removed]",
      "text/plain": [
       "<Figure size 432x288 with 1 Axes>"
      ]
     },
     "metadata": {
      "needs_background": "light"
     },
     "output_type": "display_data"
    }
   ],
   "source": [
    "fig, ax = plt.subplots()\n",
    "\n",
    "ax.scatter(Y_test, Y_pred_svm)\n",
    "plt.grid()\n",
    "plt.show()"
   ]
  },
  {
   "cell_type": "code",
   "execution_count": 73,
   "id": "612cdee4",
   "metadata": {
    "ExecuteTime": {
     "end_time": "2022-12-27T17:42:45.606052Z",
     "start_time": "2022-12-27T17:42:45.600452Z"
    }
   },
   "outputs": [
    {
     "data": {
      "text/plain": [
       "{'copy_X': True,\n",
       " 'fit_intercept': True,\n",
       " 'n_jobs': None,\n",
       " 'normalize': 'deprecated',\n",
       " 'positive': False}"
      ]
     },
     "execution_count": 73,
     "metadata": {},
     "output_type": "execute_result"
    }
   ],
   "source": [
    "LR.get_params()"
   ]
  },
  {
   "cell_type": "code",
   "execution_count": 74,
   "id": "1ae19543",
   "metadata": {
    "ExecuteTime": {
     "end_time": "2022-12-27T17:42:45.621784Z",
     "start_time": "2022-12-27T17:42:45.608156Z"
    }
   },
   "outputs": [],
   "source": [
    "lr_params = { \"fit_intercept\" : Categorical([True, False]), \n",
    "            \"positive\" : Categorical([True,False])}"
   ]
  },
  {
   "cell_type": "code",
   "execution_count": 75,
   "id": "a6c392c7",
   "metadata": {
    "ExecuteTime": {
     "end_time": "2022-12-27T17:42:45.635660Z",
     "start_time": "2022-12-27T17:42:45.621784Z"
    }
   },
   "outputs": [],
   "source": [
    "lin_reg_search = BayesSearchCV(LR, lr_params, n_iter=10, cv=5, random_state=63)"
   ]
  },
  {
   "cell_type": "code",
   "execution_count": 76,
   "id": "981fcaf8",
   "metadata": {
    "ExecuteTime": {
     "end_time": "2022-12-27T17:42:46.156168Z",
     "start_time": "2022-12-27T17:42:45.635660Z"
    }
   },
   "outputs": [
    {
     "data": {
      "text/plain": [
       "BayesSearchCV(cv=5, estimator=LinearRegression(), n_iter=10, random_state=63,\n",
       "              search_spaces={'fit_intercept': Categorical(categories=(True, False), prior=None),\n",
       "                             'positive': Categorical(categories=(True, False), prior=None)})"
      ]
     },
     "execution_count": 76,
     "metadata": {},
     "output_type": "execute_result"
    }
   ],
   "source": [
    "lin_reg_search.fit(std_X_train, Y_train)"
   ]
  },
  {
   "cell_type": "code",
   "execution_count": 77,
   "id": "bd6ee9a1",
   "metadata": {
    "ExecuteTime": {
     "end_time": "2022-12-27T17:42:46.167569Z",
     "start_time": "2022-12-27T17:42:46.156168Z"
    }
   },
   "outputs": [
    {
     "data": {
      "text/plain": [
       "OrderedDict([('fit_intercept', True), ('positive', False)])"
      ]
     },
     "execution_count": 77,
     "metadata": {},
     "output_type": "execute_result"
    }
   ],
   "source": [
    "lin_reg_search.best_params_"
   ]
  },
  {
   "cell_type": "code",
   "execution_count": 78,
   "id": "2a514640",
   "metadata": {
    "ExecuteTime": {
     "end_time": "2022-12-27T17:42:46.183462Z",
     "start_time": "2022-12-27T17:42:46.168131Z"
    }
   },
   "outputs": [
    {
     "data": {
      "text/plain": [
       "0.754399328059695"
      ]
     },
     "execution_count": 78,
     "metadata": {},
     "output_type": "execute_result"
    }
   ],
   "source": [
    "lin_reg_search.best_score_"
   ]
  },
  {
   "cell_type": "code",
   "execution_count": 79,
   "id": "022d3a7e",
   "metadata": {
    "ExecuteTime": {
     "end_time": "2022-12-27T17:42:46.188196Z",
     "start_time": "2022-12-27T17:42:46.184459Z"
    }
   },
   "outputs": [],
   "source": [
    "Y_pred_lrs =lin_reg_search.predict(std_X_test)"
   ]
  },
  {
   "cell_type": "code",
   "execution_count": 80,
   "id": "a64d2878",
   "metadata": {
    "ExecuteTime": {
     "end_time": "2022-12-27T17:42:46.202340Z",
     "start_time": "2022-12-27T17:42:46.188730Z"
    }
   },
   "outputs": [
    {
     "name": "stdout",
     "output_type": "stream",
     "text": [
      "0.7688120322202453\n"
     ]
    }
   ],
   "source": [
    "lin_reg_search_score = r2_score(Y_test, Y_pred_lrs)\n",
    "print(lin_reg_search_score)"
   ]
  },
  {
   "cell_type": "code",
   "execution_count": 81,
   "id": "1d0abdef",
   "metadata": {
    "ExecuteTime": {
     "end_time": "2022-12-27T17:42:46.217456Z",
     "start_time": "2022-12-27T17:42:46.209945Z"
    }
   },
   "outputs": [
    {
     "data": {
      "text/plain": [
       "{'alpha': 1.0,\n",
       " 'copy_X': True,\n",
       " 'fit_intercept': True,\n",
       " 'max_iter': 1000,\n",
       " 'normalize': 'deprecated',\n",
       " 'positive': False,\n",
       " 'precompute': False,\n",
       " 'random_state': None,\n",
       " 'selection': 'cyclic',\n",
       " 'tol': 0.0001,\n",
       " 'warm_start': False}"
      ]
     },
     "execution_count": 81,
     "metadata": {},
     "output_type": "execute_result"
    }
   ],
   "source": [
    "lasso_mod.get_params()"
   ]
  },
  {
   "cell_type": "code",
   "execution_count": 82,
   "id": "02c5c611",
   "metadata": {
    "ExecuteTime": {
     "end_time": "2022-12-27T17:42:46.225503Z",
     "start_time": "2022-12-27T17:42:46.218453Z"
    }
   },
   "outputs": [],
   "source": [
    "lasso_params = { \"alpha\" : Real(1e-3, 5), \"warm_start\" : Categorical([True, False]) }"
   ]
  },
  {
   "cell_type": "code",
   "execution_count": 83,
   "id": "59dae5d3",
   "metadata": {
    "ExecuteTime": {
     "end_time": "2022-12-27T17:42:46.241102Z",
     "start_time": "2022-12-27T17:42:46.225503Z"
    }
   },
   "outputs": [],
   "source": [
    "lasso_reg_search = BayesSearchCV(lasso_mod, lasso_params, cv=5, random_state=63)"
   ]
  },
  {
   "cell_type": "code",
   "execution_count": 84,
   "id": "784fa776",
   "metadata": {
    "ExecuteTime": {
     "end_time": "2022-12-27T17:43:21.290627Z",
     "start_time": "2022-12-27T17:42:46.242644Z"
    }
   },
   "outputs": [
    {
     "data": {
      "text/plain": [
       "BayesSearchCV(cv=5, estimator=Lasso(), random_state=63,\n",
       "              search_spaces={'alpha': Real(low=0.001, high=5, prior='uniform', transform='normalize'),\n",
       "                             'warm_start': Categorical(categories=(True, False), prior=None)})"
      ]
     },
     "execution_count": 84,
     "metadata": {},
     "output_type": "execute_result"
    }
   ],
   "source": [
    "lasso_reg_search.fit(std_X_train, Y_train)"
   ]
  },
  {
   "cell_type": "code",
   "execution_count": 85,
   "id": "cbf66960",
   "metadata": {
    "ExecuteTime": {
     "end_time": "2022-12-27T17:43:21.301239Z",
     "start_time": "2022-12-27T17:43:21.292212Z"
    }
   },
   "outputs": [
    {
     "data": {
      "text/plain": [
       "OrderedDict([('alpha', 0.7595937231571843), ('warm_start', True)])"
      ]
     },
     "execution_count": 85,
     "metadata": {},
     "output_type": "execute_result"
    }
   ],
   "source": [
    "lasso_reg_search.best_params_"
   ]
  },
  {
   "cell_type": "code",
   "execution_count": 86,
   "id": "996a8361",
   "metadata": {
    "ExecuteTime": {
     "end_time": "2022-12-27T17:43:21.329742Z",
     "start_time": "2022-12-27T17:43:21.303007Z"
    }
   },
   "outputs": [
    {
     "data": {
      "text/plain": [
       "{'mean_fit_time': array([0.00318661, 0.00468349, 0.0027359 , 0.00218172, 0.0023922 ,\n",
       "        0.00189476, 0.00210819, 0.00322814, 0.00486121, 0.00239196,\n",
       "        0.00310068, 0.        , 0.00310163, 0.00312533, 0.0004673 ,\n",
       "        0.00235796, 0.0031003 , 0.00322561, 0.00310063, 0.00310082,\n",
       "        0.00310054, 0.00213346, 0.00312495, 0.00562673, 0.00373588,\n",
       "        0.00310049, 0.00310059, 0.        , 0.00312462, 0.00010071,\n",
       "        0.00310063, 0.00312529, 0.00280824, 0.0031003 , 0.        ,\n",
       "        0.00090075, 0.00470161, 0.        , 0.00388246, 0.        ,\n",
       "        0.00632653, 0.        , 0.        , 0.00310063, 0.00233502,\n",
       "        0.00632677, 0.00310054, 0.00600772, 0.00310082, 0.00141683]),\n",
       " 'std_fit_time': array([0.00392986, 0.00606976, 0.00021193, 0.00076592, 0.00048869,\n",
       "        0.00019708, 0.00047834, 0.00076127, 0.00049816, 0.00048831,\n",
       "        0.00620136, 0.        , 0.00405655, 0.00625067, 0.0009346 ,\n",
       "        0.00050062, 0.0062006 , 0.00645123, 0.00620127, 0.00620165,\n",
       "        0.00620108, 0.00031506, 0.00489285, 0.00696195, 0.00650192,\n",
       "        0.00620098, 0.00620117, 0.        , 0.00624924, 0.00020142,\n",
       "        0.00620127, 0.00625057, 0.00445723, 0.0062006 , 0.        ,\n",
       "        0.00180149, 0.00622714, 0.        , 0.00669241, 0.        ,\n",
       "        0.00775093, 0.        , 0.        , 0.00620127, 0.00041635,\n",
       "        0.00775123, 0.00620108, 0.0049493 , 0.00620165, 0.00283365]),\n",
       " 'mean_score_time': array([0.        , 0.00083079, 0.00122824, 0.00089903, 0.00039887,\n",
       "        0.00043297, 0.00085616, 0.00117307, 0.00182128, 0.00119605,\n",
       "        0.        , 0.00471878, 0.        , 0.        , 0.        ,\n",
       "        0.00100427, 0.        , 0.        , 0.        , 0.        ,\n",
       "        0.        , 0.00079145, 0.00033717, 0.00070157, 0.00041404,\n",
       "        0.00322642, 0.        , 0.00320148, 0.        , 0.        ,\n",
       "        0.        , 0.00010056, 0.        , 0.        , 0.00322614,\n",
       "        0.00312533, 0.        , 0.00322666, 0.00034318, 0.0031251 ,\n",
       "        0.        , 0.00312476, 0.        , 0.        , 0.00092583,\n",
       "        0.        , 0.00312514, 0.00060959, 0.        , 0.        ]),\n",
       " 'std_score_time': array([0.        , 0.00063262, 0.00044336, 0.00049081, 0.00048852,\n",
       "        0.00053305, 0.00023069, 0.00052986, 0.00020817, 0.0003988 ,\n",
       "        0.        , 0.00626622, 0.        , 0.        , 0.        ,\n",
       "        0.00021685, 0.        , 0.        , 0.        , 0.        ,\n",
       "        0.        , 0.00048274, 0.00046589, 0.00140314, 0.00060749,\n",
       "        0.00645285, 0.        , 0.00397177, 0.        , 0.        ,\n",
       "        0.        , 0.00020113, 0.        , 0.        , 0.00645227,\n",
       "        0.00625067, 0.        , 0.00645332, 0.00047542, 0.00625019,\n",
       "        0.        , 0.00624952, 0.        , 0.        , 0.0002709 ,\n",
       "        0.        , 0.00625029, 0.00049776, 0.        , 0.        ]),\n",
       " 'param_alpha': masked_array(data=[1.0250628153511887, 0.8645124664719112,\n",
       "                    0.39488900647110137, 2.722464496474783,\n",
       "                    4.29892474762983, 2.503853669993063, 4.023758872428164,\n",
       "                    2.8786847488548952, 0.6554069396781077,\n",
       "                    1.059261809200892, 0.7286736169375893,\n",
       "                    2.706327812641635, 1.6389053303412404,\n",
       "                    0.775314386815654, 1.247135940163612,\n",
       "                    3.785412205680293, 1.9345300720174237,\n",
       "                    0.3606912557854814, 3.1550150894481344,\n",
       "                    1.2249063732355479, 3.8191108451422733,\n",
       "                    0.7690040022245215, 0.7505198639230458,\n",
       "                    1.658632427162758, 0.16763905931451484,\n",
       "                    0.7590869564139336, 0.44053540009860737,\n",
       "                    4.240111970698237, 0.740637661261202,\n",
       "                    1.3446941129318306, 1.7567882364301248,\n",
       "                    0.7595937231571843, 0.7481964678288662,\n",
       "                    2.0893854557066702, 1.7800307258166828,\n",
       "                    2.995660460864654, 0.30849469095118287,\n",
       "                    0.7582861194951509, 1.1051426980540568,\n",
       "                    3.902139155553722, 0.7647867761861749,\n",
       "                    4.240217909502487, 4.665172966896966,\n",
       "                    4.896399875057333, 1.92042945653757,\n",
       "                    3.8541363472632932, 1.1652950067458832,\n",
       "                    0.5431438755967016, 0.7608701826999548,\n",
       "                    1.4146998897980791],\n",
       "              mask=[False, False, False, False, False, False, False, False,\n",
       "                    False, False, False, False, False, False, False, False,\n",
       "                    False, False, False, False, False, False, False, False,\n",
       "                    False, False, False, False, False, False, False, False,\n",
       "                    False, False, False, False, False, False, False, False,\n",
       "                    False, False, False, False, False, False, False, False,\n",
       "                    False, False],\n",
       "        fill_value='?',\n",
       "             dtype=object),\n",
       " 'param_warm_start': masked_array(data=[True, False, True, False, True, True, True, False,\n",
       "                    True, False, False, True, False, True, True, False,\n",
       "                    True, True, False, False, False, True, False, True,\n",
       "                    True, True, True, False, False, True, False, True,\n",
       "                    False, False, False, False, True, True, True, False,\n",
       "                    True, True, True, True, True, False, False, False,\n",
       "                    False, True],\n",
       "              mask=[False, False, False, False, False, False, False, False,\n",
       "                    False, False, False, False, False, False, False, False,\n",
       "                    False, False, False, False, False, False, False, False,\n",
       "                    False, False, False, False, False, False, False, False,\n",
       "                    False, False, False, False, False, False, False, False,\n",
       "                    False, False, False, False, False, False, False, False,\n",
       "                    False, False],\n",
       "        fill_value='?',\n",
       "             dtype=object),\n",
       " 'params': [OrderedDict([('alpha', 1.0250628153511887), ('warm_start', True)]),\n",
       "  OrderedDict([('alpha', 0.8645124664719112), ('warm_start', False)]),\n",
       "  OrderedDict([('alpha', 0.39488900647110137), ('warm_start', True)]),\n",
       "  OrderedDict([('alpha', 2.722464496474783), ('warm_start', False)]),\n",
       "  OrderedDict([('alpha', 4.29892474762983), ('warm_start', True)]),\n",
       "  OrderedDict([('alpha', 2.503853669993063), ('warm_start', True)]),\n",
       "  OrderedDict([('alpha', 4.023758872428164), ('warm_start', True)]),\n",
       "  OrderedDict([('alpha', 2.8786847488548952), ('warm_start', False)]),\n",
       "  OrderedDict([('alpha', 0.6554069396781077), ('warm_start', True)]),\n",
       "  OrderedDict([('alpha', 1.059261809200892), ('warm_start', False)]),\n",
       "  OrderedDict([('alpha', 0.7286736169375893), ('warm_start', False)]),\n",
       "  OrderedDict([('alpha', 2.706327812641635), ('warm_start', True)]),\n",
       "  OrderedDict([('alpha', 1.6389053303412404), ('warm_start', False)]),\n",
       "  OrderedDict([('alpha', 0.775314386815654), ('warm_start', True)]),\n",
       "  OrderedDict([('alpha', 1.247135940163612), ('warm_start', True)]),\n",
       "  OrderedDict([('alpha', 3.785412205680293), ('warm_start', False)]),\n",
       "  OrderedDict([('alpha', 1.9345300720174237), ('warm_start', True)]),\n",
       "  OrderedDict([('alpha', 0.3606912557854814), ('warm_start', True)]),\n",
       "  OrderedDict([('alpha', 3.1550150894481344), ('warm_start', False)]),\n",
       "  OrderedDict([('alpha', 1.2249063732355479), ('warm_start', False)]),\n",
       "  OrderedDict([('alpha', 3.8191108451422733), ('warm_start', False)]),\n",
       "  OrderedDict([('alpha', 0.7690040022245215), ('warm_start', True)]),\n",
       "  OrderedDict([('alpha', 0.7505198639230458), ('warm_start', False)]),\n",
       "  OrderedDict([('alpha', 1.658632427162758), ('warm_start', True)]),\n",
       "  OrderedDict([('alpha', 0.16763905931451484), ('warm_start', True)]),\n",
       "  OrderedDict([('alpha', 0.7590869564139336), ('warm_start', True)]),\n",
       "  OrderedDict([('alpha', 0.44053540009860737), ('warm_start', True)]),\n",
       "  OrderedDict([('alpha', 4.240111970698237), ('warm_start', False)]),\n",
       "  OrderedDict([('alpha', 0.740637661261202), ('warm_start', False)]),\n",
       "  OrderedDict([('alpha', 1.3446941129318306), ('warm_start', True)]),\n",
       "  OrderedDict([('alpha', 1.7567882364301248), ('warm_start', False)]),\n",
       "  OrderedDict([('alpha', 0.7595937231571843), ('warm_start', True)]),\n",
       "  OrderedDict([('alpha', 0.7481964678288662), ('warm_start', False)]),\n",
       "  OrderedDict([('alpha', 2.0893854557066702), ('warm_start', False)]),\n",
       "  OrderedDict([('alpha', 1.7800307258166828), ('warm_start', False)]),\n",
       "  OrderedDict([('alpha', 2.995660460864654), ('warm_start', False)]),\n",
       "  OrderedDict([('alpha', 0.30849469095118287), ('warm_start', True)]),\n",
       "  OrderedDict([('alpha', 0.7582861194951509), ('warm_start', True)]),\n",
       "  OrderedDict([('alpha', 1.1051426980540568), ('warm_start', True)]),\n",
       "  OrderedDict([('alpha', 3.902139155553722), ('warm_start', False)]),\n",
       "  OrderedDict([('alpha', 0.7647867761861749), ('warm_start', True)]),\n",
       "  OrderedDict([('alpha', 4.240217909502487), ('warm_start', True)]),\n",
       "  OrderedDict([('alpha', 4.665172966896966), ('warm_start', True)]),\n",
       "  OrderedDict([('alpha', 4.896399875057333), ('warm_start', True)]),\n",
       "  OrderedDict([('alpha', 1.92042945653757), ('warm_start', True)]),\n",
       "  OrderedDict([('alpha', 3.8541363472632932), ('warm_start', False)]),\n",
       "  OrderedDict([('alpha', 1.1652950067458832), ('warm_start', False)]),\n",
       "  OrderedDict([('alpha', 0.5431438755967016), ('warm_start', False)]),\n",
       "  OrderedDict([('alpha', 0.7608701826999548), ('warm_start', False)]),\n",
       "  OrderedDict([('alpha', 1.4146998897980791), ('warm_start', True)])],\n",
       " 'split0_test_score': array([0.74086915, 0.73922538, 0.7317273 , 0.74487597, 0.73363014,\n",
       "        0.74503248, 0.73687238, 0.74455488, 0.73638377, 0.74115902,\n",
       "        0.7374703 , 0.74489931, 0.74319338, 0.73811093, 0.74207304,\n",
       "        0.73924471, 0.74393201, 0.73102409, 0.74355916, 0.74200469,\n",
       "        0.73893446, 0.73802635, 0.73777495, 0.74324555, 0.72664361,\n",
       "        0.73789204, 0.73263366, 0.73436789, 0.7376384 , 0.74236713,\n",
       "        0.7434989 , 0.73789951, 0.73774332, 0.74439043, 0.74355742,\n",
       "        0.74420014, 0.72990802, 0.73788128, 0.74151871, 0.73813347,\n",
       "        0.73796964, 0.73436659, 0.72847296, 0.72472208, 0.74389888,\n",
       "        0.73860217, 0.74181862, 0.73453019, 0.73791663, 0.74257199]),\n",
       " 'split1_test_score': array([0.74331233, 0.74321704, 0.74304893, 0.74199786, 0.73779928,\n",
       "        0.74236445, 0.73872892, 0.7417035 , 0.74309825, 0.7433284 ,\n",
       "        0.74311117, 0.74202666, 0.74330038, 0.74315012, 0.74339049,\n",
       "        0.7394666 , 0.74307299, 0.74303658, 0.74111735, 0.74338542,\n",
       "        0.73936625, 0.74314501, 0.74312975, 0.74328825, 0.74294143,\n",
       "        0.74313688, 0.74306322, 0.73800455, 0.74312142, 0.74340517,\n",
       "        0.74322127, 0.7431373 , 0.74312781, 0.74291541, 0.74320393,\n",
       "        0.74146573, 0.7430151 , 0.74313622, 0.74334756, 0.73911311,\n",
       "        0.74314157, 0.73800419, 0.73643287, 0.73549396, 0.74308597,\n",
       "        0.73926005, 0.74336883, 0.74308667, 0.74313835, 0.74340832]),\n",
       " 'split2_test_score': array([0.78851291, 0.7890107 , 0.79040738, 0.7812116 , 0.77140191,\n",
       "        0.78234475, 0.77332127, 0.78036764, 0.78965675, 0.78840234,\n",
       "        0.78943118, 0.78129705, 0.78629699, 0.7892844 , 0.7877684 ,\n",
       "        0.77491335, 0.78503724, 0.79049998, 0.77880596, 0.78784576,\n",
       "        0.77469178, 0.78930444, 0.78936286, 0.78620691, 0.79099692,\n",
       "        0.78933588, 0.79028167, 0.77181983, 0.78939385, 0.78742087,\n",
       "        0.7858009 , 0.78933407, 0.78937004, 0.78434199, 0.7857028 ,\n",
       "        0.77971751, 0.7906387 , 0.78933836, 0.78825182, 0.77414143,\n",
       "        0.78931775, 0.77181908, 0.76871138, 0.76693238, 0.78509909,\n",
       "        0.77446093, 0.78805013, 0.78999019, 0.78933012, 0.78716379]),\n",
       " 'split3_test_score': array([0.72844899, 0.73031317, 0.73534314, 0.70421208, 0.67892807,\n",
       "        0.70779899, 0.68172336, 0.701565  , 0.73263034, 0.72804213,\n",
       "        0.73183259, 0.70448249, 0.72063999, 0.73131702, 0.72574876,\n",
       "        0.68481308, 0.71649289, 0.73568483, 0.69671088, 0.7260255 ,\n",
       "        0.6841447 , 0.73138691, 0.73159155, 0.72037177, 0.73755157,\n",
       "        0.7314971 , 0.73488189, 0.6795372 , 0.73170082, 0.72451763,\n",
       "        0.71901723, 0.7314915 , 0.7316177 , 0.71422078, 0.71869208,\n",
       "        0.69953691, 0.73620005, 0.73150594, 0.72749147, 0.68291513,\n",
       "        0.73143356, 0.67953612, 0.67499602, 0.67238604, 0.71669714,\n",
       "        0.68344664, 0.72675997, 0.73382292, 0.73147741, 0.72361803]),\n",
       " 'split4_test_score': array([0.77655886, 0.77664582, 0.77666999, 0.76894887, 0.75871625,\n",
       "        0.77010959, 0.7607376 , 0.76808077, 0.77669903, 0.77653517,\n",
       "        0.77668812, 0.76903666, 0.77451305, 0.77667683, 0.77620316,\n",
       "        0.76240874, 0.77308625, 0.77665826, 0.76646647, 0.77627088,\n",
       "        0.76217646, 0.77667855, 0.77668326, 0.77442184, 0.77655743,\n",
       "        0.77668114, 0.77668274, 0.75915734, 0.77668555, 0.77580363,\n",
       "        0.77395966, 0.77668101, 0.7766838 , 0.77228672, 0.77384834,\n",
       "        0.76740958, 0.77663681, 0.77668134, 0.77650054, 0.76159966,\n",
       "        0.77667967, 0.75915655, 0.75587116, 0.75398419, 0.77315736,\n",
       "        0.76193424, 0.77644241, 0.77669951, 0.77668069, 0.77550842]),\n",
       " 'mean_test_score': array([0.75554045, 0.75568242, 0.75543935, 0.74824928, 0.73609513,\n",
       "        0.74953005, 0.73827671, 0.74725436, 0.75569363, 0.75549341,\n",
       "        0.75570667, 0.74834843, 0.75358876, 0.75570786, 0.75503677,\n",
       "        0.7401693 , 0.75232428, 0.75538075, 0.74533196, 0.75510645,\n",
       "        0.73986273, 0.75570825, 0.75570847, 0.75350687, 0.75493819,\n",
       "        0.75570861, 0.75550864, 0.73657736, 0.75570801, 0.75470289,\n",
       "        0.75309959, 0.75570868, 0.75570854, 0.75163107, 0.75300091,\n",
       "        0.74646597, 0.75527974, 0.75570863, 0.75542202, 0.73918056,\n",
       "        0.75570844, 0.73657651, 0.73289688, 0.73070373, 0.75238769,\n",
       "        0.73954081, 0.75528799, 0.7556259 , 0.75570864, 0.75445411]),\n",
       " 'std_test_score': array([0.02292456, 0.02289129, 0.02363534, 0.02647536, 0.03173432,\n",
       "        0.02574249, 0.03141042, 0.02704014, 0.0230571 , 0.02294684,\n",
       "        0.0229728 , 0.02641854, 0.02369469, 0.02293183, 0.02315538,\n",
       "        0.03087848, 0.02425326, 0.0237472 , 0.02811438, 0.02312806,\n",
       "        0.03103731, 0.02293674, 0.02295221, 0.023725  , 0.02455371,\n",
       "        0.02294479, 0.02349946, 0.03166192, 0.02296115, 0.02326657,\n",
       "        0.02389929, 0.02294421, 0.02295409, 0.02459504, 0.02394279,\n",
       "        0.02748372, 0.02393558, 0.02294543, 0.02298395, 0.03127868,\n",
       "        0.02294009, 0.03166205, 0.03223377, 0.03260115, 0.02422318,\n",
       "        0.03120384, 0.02305735, 0.02324923, 0.0229432 , 0.02335494]),\n",
       " 'rank_test_score': array([15, 13, 18, 37, 48, 35, 45, 38, 12, 17, 11, 36, 28, 10, 24, 41, 33,\n",
       "        20, 40, 23, 42,  8,  6, 29, 25,  4, 16, 46,  9, 26, 30,  1,  5, 34,\n",
       "        31, 39, 22,  3, 19, 44,  7, 47, 49, 50, 32, 43, 21, 14,  2, 27])}"
      ]
     },
     "execution_count": 86,
     "metadata": {},
     "output_type": "execute_result"
    }
   ],
   "source": [
    "lasso_reg_search.cv_results_"
   ]
  },
  {
   "cell_type": "code",
   "execution_count": 87,
   "id": "a3c0df03",
   "metadata": {
    "ExecuteTime": {
     "end_time": "2022-12-27T17:43:21.346620Z",
     "start_time": "2022-12-27T17:43:21.331498Z"
    }
   },
   "outputs": [
    {
     "data": {
      "text/plain": [
       "0.7557086788126341"
      ]
     },
     "execution_count": 87,
     "metadata": {},
     "output_type": "execute_result"
    }
   ],
   "source": [
    "lasso_reg_search.best_score_"
   ]
  },
  {
   "cell_type": "code",
   "execution_count": 88,
   "id": "6340160d",
   "metadata": {
    "ExecuteTime": {
     "end_time": "2022-12-27T17:43:21.362312Z",
     "start_time": "2022-12-27T17:43:21.348077Z"
    }
   },
   "outputs": [],
   "source": [
    "Y_pred_lasso_tuned = lasso_reg_search.predict(std_X_test)"
   ]
  },
  {
   "cell_type": "code",
   "execution_count": 89,
   "id": "0229d9c1",
   "metadata": {
    "ExecuteTime": {
     "end_time": "2022-12-27T17:43:21.380297Z",
     "start_time": "2022-12-27T17:43:21.364260Z"
    }
   },
   "outputs": [
    {
     "name": "stdout",
     "output_type": "stream",
     "text": [
      "0.7692655786466531\n"
     ]
    }
   ],
   "source": [
    "lasso_score = r2_score(Y_test, Y_pred_lasso_tuned)\n",
    "print(lasso_score)"
   ]
  },
  {
   "cell_type": "code",
   "execution_count": 90,
   "id": "44083b83",
   "metadata": {
    "ExecuteTime": {
     "end_time": "2022-12-27T17:43:21.520974Z",
     "start_time": "2022-12-27T17:43:21.382309Z"
    }
   },
   "outputs": [
    {
     "data": {
      "image/png": "[encoded data removed]",
      "text/plain": [
       "<Figure size 432x288 with 1 Axes>"
      ]
     },
     "metadata": {
      "needs_background": "light"
     },
     "output_type": "display_data"
    }
   ],
   "source": [
    "tl = plt.scatter(range(0,211,1), Y_pred_lasso_tuned, c='red')\n",
    "dl = plt.scatter(range(0,211,1), Y_pred_lasso, c='blue')\n",
    "#ad = plt.scatter(range(0,211,1), Y_test_, c='green')\n",
    "plt.title(\"Tuned VS. default\")\n",
    "plt.xlabel(\"Data Point\")\n",
    "plt.ylabel('Calories')\n",
    "plt.legend((tl, dl),(\"Tuned\", \"Default\") )\n",
    "plt.grid()\n",
    "plt.show()"
   ]
  },
  {
   "cell_type": "code",
   "execution_count": 91,
   "id": "48e92839",
   "metadata": {
    "ExecuteTime": {
     "end_time": "2022-12-27T17:43:21.660973Z",
     "start_time": "2022-12-27T17:43:21.522046Z"
    }
   },
   "outputs": [
    {
     "data": {
      "image/png": "[encoded data removed]",
      "text/plain": [
       "<Figure size 432x288 with 1 Axes>"
      ]
     },
     "metadata": {
      "needs_background": "light"
     },
     "output_type": "display_data"
    }
   ],
   "source": [
    "\n",
    "tl = plt.scatter(Y_test, Y_pred_lasso_tuned, c=\"red\")\n",
    "dl = plt.scatter(Y_test, Y_pred_lasso, c=\"blue\", alpha=0.7)\n",
    "plt.xlabel(\"Acutal Calories\")\n",
    "plt.ylabel('Predicted Calories')\n",
    "plt.title(\"Actual VS. Predicted\")\n",
    "plt.legend((tl, dl,),(\"Tuned\", \"Default\") )\n",
    "plt.grid()\n",
    "plt.show()"
   ]
  },
  {
   "cell_type": "code",
   "execution_count": 92,
   "id": "79523783",
   "metadata": {
    "ExecuteTime": {
     "end_time": "2022-12-27T17:43:21.674617Z",
     "start_time": "2022-12-27T17:43:21.662530Z"
    }
   },
   "outputs": [
    {
     "data": {
      "text/plain": [
       "{'algorithm': 'auto',\n",
       " 'leaf_size': 30,\n",
       " 'metric': 'minkowski',\n",
       " 'metric_params': None,\n",
       " 'n_jobs': None,\n",
       " 'n_neighbors': 5,\n",
       " 'p': 2,\n",
       " 'weights': 'uniform'}"
      ]
     },
     "execution_count": 92,
     "metadata": {},
     "output_type": "execute_result"
    }
   ],
   "source": [
    "knn.get_params()"
   ]
  },
  {
   "cell_type": "code",
   "execution_count": 93,
   "id": "2a27c80d",
   "metadata": {
    "ExecuteTime": {
     "end_time": "2022-12-27T17:43:21.688913Z",
     "start_time": "2022-12-27T17:43:21.676678Z"
    }
   },
   "outputs": [],
   "source": [
    "knn_params = { \"n_neighbors\" : Integer(2,15), \"weights\" : Categorical(['uniform', 'distance']),\n",
    "              \"algorithm\" : Categorical(['auto', 'ball_tree', 'kd_tree', 'brute']), \"leaf_size\" : Integer(5,40), \n",
    "            \"p\" : Real(1,3) }"
   ]
  },
  {
   "cell_type": "code",
   "execution_count": 94,
   "id": "cf50d823",
   "metadata": {
    "ExecuteTime": {
     "end_time": "2022-12-27T17:43:21.701664Z",
     "start_time": "2022-12-27T17:43:21.689946Z"
    }
   },
   "outputs": [],
   "source": [
    "knn_reg_search = BayesSearchCV(knn, knn_params, cv=5 )"
   ]
  },
  {
   "cell_type": "code",
   "execution_count": 95,
   "id": "0900d042",
   "metadata": {
    "ExecuteTime": {
     "end_time": "2022-12-27T17:44:23.224258Z",
     "start_time": "2022-12-27T17:43:21.701664Z"
    }
   },
   "outputs": [
    {
     "name": "stderr",
     "output_type": "stream",
     "text": [
      "C:\\Users\\63sha\\anaconda3\\lib\\site-packages\\skopt\\optimizer\\optimizer.py:449: UserWarning: The objective has been evaluated at this point before.\n",
      "  warnings.warn(\"The objective has been evaluated \"\n"
     ]
    },
    {
     "data": {
      "text/plain": [
       "BayesSearchCV(cv=5, estimator=KNeighborsRegressor(),\n",
       "              search_spaces={'algorithm': Categorical(categories=('auto', 'ball_tree', 'kd_tree', 'brute'), prior=None),\n",
       "                             'leaf_size': Integer(low=5, high=40, prior='uniform', transform='normalize'),\n",
       "                             'n_neighbors': Integer(low=2, high=15, prior='uniform', transform='normalize'),\n",
       "                             'p': Real(low=1, high=3, prior='uniform', transform='normalize'),\n",
       "                             'weights': Categorical(categories=('uniform', 'distance'), prior=None)})"
      ]
     },
     "execution_count": 95,
     "metadata": {},
     "output_type": "execute_result"
    }
   ],
   "source": [
    "knn_reg_search.fit(std_X_train, Y_train)"
   ]
  },
  {
   "cell_type": "code",
   "execution_count": 96,
   "id": "bd2bf8f8",
   "metadata": {
    "ExecuteTime": {
     "end_time": "2022-12-27T17:44:23.232393Z",
     "start_time": "2022-12-27T17:44:23.225773Z"
    }
   },
   "outputs": [
    {
     "data": {
      "text/plain": [
       "OrderedDict([('algorithm', 'auto'),\n",
       "             ('leaf_size', 5),\n",
       "             ('n_neighbors', 4),\n",
       "             ('p', 2.781130601231312),\n",
       "             ('weights', 'distance')])"
      ]
     },
     "execution_count": 96,
     "metadata": {},
     "output_type": "execute_result"
    }
   ],
   "source": [
    "knn_reg_search.best_params_"
   ]
  },
  {
   "cell_type": "code",
   "execution_count": 97,
   "id": "77a477f6",
   "metadata": {
    "ExecuteTime": {
     "end_time": "2022-12-27T17:44:23.247735Z",
     "start_time": "2022-12-27T17:44:23.235038Z"
    }
   },
   "outputs": [
    {
     "data": {
      "text/plain": [
       "0.6241133906044566"
      ]
     },
     "execution_count": 97,
     "metadata": {},
     "output_type": "execute_result"
    }
   ],
   "source": [
    "knn_reg_search.best_score_"
   ]
  },
  {
   "cell_type": "code",
   "execution_count": 98,
   "id": "6e161148",
   "metadata": {
    "ExecuteTime": {
     "end_time": "2022-12-27T17:44:23.264131Z",
     "start_time": "2022-12-27T17:44:23.250308Z"
    }
   },
   "outputs": [
    {
     "data": {
      "text/plain": [
       "{'alpha': 1.0,\n",
       " 'copy_X': True,\n",
       " 'fit_intercept': True,\n",
       " 'max_iter': None,\n",
       " 'normalize': 'deprecated',\n",
       " 'positive': False,\n",
       " 'random_state': None,\n",
       " 'solver': 'auto',\n",
       " 'tol': 0.001}"
      ]
     },
     "execution_count": 98,
     "metadata": {},
     "output_type": "execute_result"
    }
   ],
   "source": [
    "ridge_mod.get_params()"
   ]
  },
  {
   "cell_type": "code",
   "execution_count": 99,
   "id": "ddcaafe5",
   "metadata": {
    "ExecuteTime": {
     "end_time": "2022-12-27T17:44:23.281843Z",
     "start_time": "2022-12-27T17:44:23.266528Z"
    }
   },
   "outputs": [],
   "source": [
    "ridge_params = { \"alpha\" : Real(1e-3, 5), \"solver\" : Categorical(['auto', 'svd', 'cholesky', 'lsqr', 'sparse_cg', 'sag',\n",
    "                                                                 'saga'])}"
   ]
  },
  {
   "cell_type": "code",
   "execution_count": 100,
   "id": "5f75eeb2",
   "metadata": {
    "ExecuteTime": {
     "end_time": "2022-12-27T17:44:23.298150Z",
     "start_time": "2022-12-27T17:44:23.284085Z"
    }
   },
   "outputs": [],
   "source": [
    "ridge_reg_search = BayesSearchCV(ridge_mod, ridge_params, cv=5 )"
   ]
  },
  {
   "cell_type": "code",
   "execution_count": 101,
   "id": "8a8858cf",
   "metadata": {
    "ExecuteTime": {
     "end_time": "2022-12-27T17:44:59.790601Z",
     "start_time": "2022-12-27T17:44:23.300421Z"
    }
   },
   "outputs": [
    {
     "name": "stderr",
     "output_type": "stream",
     "text": [
      "C:\\Users\\63sha\\anaconda3\\lib\\site-packages\\skopt\\optimizer\\optimizer.py:449: UserWarning: The objective has been evaluated at this point before.\n",
      "  warnings.warn(\"The objective has been evaluated \"\n",
      "C:\\Users\\63sha\\anaconda3\\lib\\site-packages\\skopt\\optimizer\\optimizer.py:449: UserWarning: The objective has been evaluated at this point before.\n",
      "  warnings.warn(\"The objective has been evaluated \"\n",
      "C:\\Users\\63sha\\anaconda3\\lib\\site-packages\\skopt\\optimizer\\optimizer.py:449: UserWarning: The objective has been evaluated at this point before.\n",
      "  warnings.warn(\"The objective has been evaluated \"\n",
      "C:\\Users\\63sha\\anaconda3\\lib\\site-packages\\skopt\\optimizer\\optimizer.py:449: UserWarning: The objective has been evaluated at this point before.\n",
      "  warnings.warn(\"The objective has been evaluated \"\n",
      "C:\\Users\\63sha\\anaconda3\\lib\\site-packages\\skopt\\optimizer\\optimizer.py:449: UserWarning: The objective has been evaluated at this point before.\n",
      "  warnings.warn(\"The objective has been evaluated \"\n",
      "C:\\Users\\63sha\\anaconda3\\lib\\site-packages\\skopt\\optimizer\\optimizer.py:449: UserWarning: The objective has been evaluated at this point before.\n",
      "  warnings.warn(\"The objective has been evaluated \"\n"
     ]
    },
    {
     "data": {
      "text/plain": [
       "BayesSearchCV(cv=5, estimator=Ridge(),\n",
       "              search_spaces={'alpha': Real(low=0.001, high=5, prior='uniform', transform='normalize'),\n",
       "                             'solver': Categorical(categories=('auto', 'svd', 'cholesky', 'lsqr', 'sparse_cg', 'sag', 'saga'), prior=None)})"
      ]
     },
     "execution_count": 101,
     "metadata": {},
     "output_type": "execute_result"
    }
   ],
   "source": [
    "ridge_reg_search.fit(std_X_train, Y_train)"
   ]
  },
  {
   "cell_type": "code",
   "execution_count": 102,
   "id": "870d19cc",
   "metadata": {
    "ExecuteTime": {
     "end_time": "2022-12-27T17:44:59.803598Z",
     "start_time": "2022-12-27T17:44:59.793952Z"
    }
   },
   "outputs": [
    {
     "data": {
      "text/plain": [
       "OrderedDict([('alpha', 0.20722312085123257), ('solver', 'auto')])"
      ]
     },
     "execution_count": 102,
     "metadata": {},
     "output_type": "execute_result"
    }
   ],
   "source": [
    "ridge_reg_search.best_params_"
   ]
  },
  {
   "cell_type": "code",
   "execution_count": 103,
   "id": "79623f0b",
   "metadata": {
    "ExecuteTime": {
     "end_time": "2022-12-27T17:44:59.819140Z",
     "start_time": "2022-12-27T17:44:59.805178Z"
    }
   },
   "outputs": [
    {
     "data": {
      "text/plain": [
       "0.7555670811939013"
      ]
     },
     "execution_count": 103,
     "metadata": {},
     "output_type": "execute_result"
    }
   ],
   "source": [
    "ridge_reg_search.best_score_"
   ]
  },
  {
   "cell_type": "code",
   "execution_count": 104,
   "id": "6b96cd70",
   "metadata": {
    "ExecuteTime": {
     "end_time": "2022-12-27T17:44:59.837209Z",
     "start_time": "2022-12-27T17:44:59.821133Z"
    }
   },
   "outputs": [],
   "source": [
    "Y_pred_ridge_tuned = ridge_reg_search.predict(std_X_test)"
   ]
  },
  {
   "cell_type": "code",
   "execution_count": 105,
   "id": "be0ee5fe",
   "metadata": {
    "ExecuteTime": {
     "end_time": "2022-12-27T17:44:59.852854Z",
     "start_time": "2022-12-27T17:44:59.837209Z"
    }
   },
   "outputs": [
    {
     "name": "stdout",
     "output_type": "stream",
     "text": [
      "0.769086495144111\n"
     ]
    }
   ],
   "source": [
    "ridge_score = r2_score(Y_test, Y_pred_ridge_tuned)\n",
    "print(ridge_score)"
   ]
  },
  {
   "cell_type": "code",
   "execution_count": 106,
   "id": "9a3e4fab",
   "metadata": {
    "ExecuteTime": {
     "end_time": "2022-12-27T17:45:00.014487Z",
     "start_time": "2022-12-27T17:44:59.853847Z"
    }
   },
   "outputs": [
    {
     "data": {
      "image/png": "[encoded data removed]",
      "text/plain": [
       "<Figure size 432x288 with 1 Axes>"
      ]
     },
     "metadata": {
      "needs_background": "light"
     },
     "output_type": "display_data"
    }
   ],
   "source": [
    "tr = plt.scatter(range(0,211,1), Y_pred_ridge_tuned, c='red')\n",
    "dr = plt.scatter(range(0,211,1), Y_pred_ridge, c='blue', alpha=0.5)\n",
    "#ad = plt.scatter(range(0,211,1), Y_test_, c='green')\n",
    "plt.title(\"Tuned VS. default\")\n",
    "plt.xlabel(\"Data Point\")\n",
    "plt.ylabel('Calories')\n",
    "plt.legend((tl, dl),(\"Tuned\", \"Default\") )\n",
    "plt.grid()\n",
    "plt.show()"
   ]
  },
  {
   "cell_type": "code",
   "execution_count": 107,
   "id": "b2d0f416",
   "metadata": {
    "ExecuteTime": {
     "end_time": "2022-12-27T17:45:00.029322Z",
     "start_time": "2022-12-27T17:45:00.018529Z"
    }
   },
   "outputs": [
    {
     "data": {
      "text/plain": [
       "{'alpha': 0.9,\n",
       " 'ccp_alpha': 0.0,\n",
       " 'criterion': 'friedman_mse',\n",
       " 'init': None,\n",
       " 'learning_rate': 0.1,\n",
       " 'loss': 'squared_error',\n",
       " 'max_depth': 3,\n",
       " 'max_features': None,\n",
       " 'max_leaf_nodes': None,\n",
       " 'min_impurity_decrease': 0.0,\n",
       " 'min_samples_leaf': 1,\n",
       " 'min_samples_split': 2,\n",
       " 'min_weight_fraction_leaf': 0.0,\n",
       " 'n_estimators': 100,\n",
       " 'n_iter_no_change': None,\n",
       " 'random_state': None,\n",
       " 'subsample': 1.0,\n",
       " 'tol': 0.0001,\n",
       " 'validation_fraction': 0.1,\n",
       " 'verbose': 0,\n",
       " 'warm_start': False}"
      ]
     },
     "execution_count": 107,
     "metadata": {},
     "output_type": "execute_result"
    }
   ],
   "source": [
    "GBM.get_params()"
   ]
  },
  {
   "cell_type": "code",
   "execution_count": 108,
   "id": "084fea94",
   "metadata": {
    "ExecuteTime": {
     "end_time": "2022-12-27T17:45:00.044898Z",
     "start_time": "2022-12-27T17:45:00.029322Z"
    }
   },
   "outputs": [],
   "source": [
    "GBM_params = { \"loss\" : Categorical(['squared_error', 'absolute_error', 'huber', 'quantile']), \"learning_rate\" : Real(0.01, 3),\n",
    "              \"n_estimators\" : Integer(50,250), \"subsample\" : Real(0.01, 1), \"min_samples_split\" : Real(0.01, 1),\n",
    "              \"min_samples_leaf\" : Integer(1,10), \"min_weight_fraction_leaf\" : Real(0.01, 0.5), \"max_depth\" : Integer(1,10), \n",
    "              \"min_impurity_decrease\" : Real(0.01, 5), \"max_features\" : Real(0.01, 1), \"alpha\" : Real(0.01,0.99)}"
   ]
  },
  {
   "cell_type": "code",
   "execution_count": 109,
   "id": "9a2962cd",
   "metadata": {
    "ExecuteTime": {
     "end_time": "2022-12-27T17:45:00.057008Z",
     "start_time": "2022-12-27T17:45:00.047284Z"
    }
   },
   "outputs": [],
   "source": [
    "GBM_reg_search = BayesSearchCV(GBM, GBM_params, cv=5 )"
   ]
  },
  {
   "cell_type": "code",
   "execution_count": 110,
   "id": "9053a62a",
   "metadata": {
    "ExecuteTime": {
     "end_time": "2022-12-27T17:46:18.407250Z",
     "start_time": "2022-12-27T17:45:00.057008Z"
    }
   },
   "outputs": [
    {
     "data": {
      "text/plain": [
       "BayesSearchCV(cv=5, estimator=GradientBoostingRegressor(),\n",
       "              search_spaces={'alpha': Real(low=0.01, high=0.99, prior='uniform', transform='normalize'),\n",
       "                             'learning_rate': Real(low=0.01, high=3, prior='uniform', transform='normalize'),\n",
       "                             'loss': Categorical(categories=('squared_error', 'absolute_error', 'huber', 'quantile'), prior=None),\n",
       "                             'max_depth': Integer(low=1, high=10, p...\n",
       "                             'min_samples_leaf': Integer(low=1, high=10, prior='uniform', transform='normalize'),\n",
       "                             'min_samples_split': Real(low=0.01, high=1, prior='uniform', transform='normalize'),\n",
       "                             'min_weight_fraction_leaf': Real(low=0.01, high=0.5, prior='uniform', transform='normalize'),\n",
       "                             'n_estimators': Integer(low=50, high=250, prior='uniform', transform='normalize'),\n",
       "                             'subsample': Real(low=0.01, high=1, prior='uniform', transform='normalize')})"
      ]
     },
     "execution_count": 110,
     "metadata": {},
     "output_type": "execute_result"
    }
   ],
   "source": [
    "GBM_reg_search.fit(std_X_train, Y_train.values.ravel())"
   ]
  },
  {
   "cell_type": "code",
   "execution_count": 111,
   "id": "16a2a28a",
   "metadata": {
    "ExecuteTime": {
     "end_time": "2022-12-27T17:46:18.417099Z",
     "start_time": "2022-12-27T17:46:18.409304Z"
    }
   },
   "outputs": [
    {
     "data": {
      "text/plain": [
       "OrderedDict([('alpha', 0.14564949556812695),\n",
       "             ('learning_rate', 1.4245146392748023),\n",
       "             ('loss', 'absolute_error'),\n",
       "             ('max_depth', 2),\n",
       "             ('max_features', 0.6877352914802453),\n",
       "             ('min_impurity_decrease', 4.997007946720449),\n",
       "             ('min_samples_leaf', 8),\n",
       "             ('min_samples_split', 0.3928248714643852),\n",
       "             ('min_weight_fraction_leaf', 0.15910835799995232),\n",
       "             ('n_estimators', 176),\n",
       "             ('subsample', 1.0)])"
      ]
     },
     "execution_count": 111,
     "metadata": {},
     "output_type": "execute_result"
    }
   ],
   "source": [
    "GBM_reg_search.best_params_"
   ]
  },
  {
   "cell_type": "code",
   "execution_count": 112,
   "id": "ebb854d6",
   "metadata": {
    "ExecuteTime": {
     "end_time": "2022-12-27T17:46:18.428841Z",
     "start_time": "2022-12-27T17:46:18.419729Z"
    }
   },
   "outputs": [
    {
     "data": {
      "text/plain": [
       "0.4684406493243194"
      ]
     },
     "execution_count": 112,
     "metadata": {},
     "output_type": "execute_result"
    }
   ],
   "source": [
    "GBM_reg_search.best_score_"
   ]
  },
  {
   "cell_type": "code",
   "execution_count": 113,
   "id": "8e44b49a",
   "metadata": {
    "ExecuteTime": {
     "end_time": "2022-12-27T17:46:18.443573Z",
     "start_time": "2022-12-27T17:46:18.428841Z"
    }
   },
   "outputs": [
    {
     "data": {
      "text/plain": [
       "{'C': 1.0,\n",
       " 'cache_size': 200,\n",
       " 'coef0': 0.0,\n",
       " 'degree': 3,\n",
       " 'epsilon': 0.1,\n",
       " 'gamma': 'scale',\n",
       " 'kernel': 'linear',\n",
       " 'max_iter': -1,\n",
       " 'shrinking': True,\n",
       " 'tol': 0.001,\n",
       " 'verbose': False}"
      ]
     },
     "execution_count": 113,
     "metadata": {},
     "output_type": "execute_result"
    }
   ],
   "source": [
    "svm_mod.get_params()"
   ]
  },
  {
   "cell_type": "code",
   "execution_count": 114,
   "id": "58f94538",
   "metadata": {
    "ExecuteTime": {
     "end_time": "2022-12-27T17:46:18.457502Z",
     "start_time": "2022-12-27T17:46:18.443573Z"
    }
   },
   "outputs": [],
   "source": [
    "svm = SVR()"
   ]
  },
  {
   "cell_type": "code",
   "execution_count": 115,
   "id": "f8a2de28",
   "metadata": {
    "ExecuteTime": {
     "end_time": "2022-12-27T17:46:18.472998Z",
     "start_time": "2022-12-27T17:46:18.457502Z"
    }
   },
   "outputs": [],
   "source": [
    "svm_params = { \"kernel\" : Categorical(['linear', 'poly', 'rbf', 'sigmoid']), \"degree\" : Integer(1,10), \n",
    "              \"gamma\" : Real(1e-3, 1), \"coef0\" : Real(0,2), \"C\" : Real(0.1, 5), \"epsilon\" : Real(0.01, 1) }"
   ]
  },
  {
   "cell_type": "code",
   "execution_count": 116,
   "id": "9eb2efdf",
   "metadata": {
    "ExecuteTime": {
     "end_time": "2022-12-27T17:46:18.488600Z",
     "start_time": "2022-12-27T17:46:18.473984Z"
    }
   },
   "outputs": [],
   "source": [
    "svm_reg_search =  BayesSearchCV(svm, svm_params, cv=5 )"
   ]
  },
  {
   "cell_type": "code",
   "execution_count": 117,
   "id": "683007cd",
   "metadata": {
    "ExecuteTime": {
     "end_time": "2022-12-27T17:47:24.667668Z",
     "start_time": "2022-12-27T17:46:18.489298Z"
    }
   },
   "outputs": [
    {
     "data": {
      "text/plain": [
       "BayesSearchCV(cv=5, estimator=SVR(),\n",
       "              search_spaces={'C': Real(low=0.1, high=5, prior='uniform', transform='normalize'),\n",
       "                             'coef0': Real(low=0, high=2, prior='uniform', transform='normalize'),\n",
       "                             'degree': Integer(low=1, high=10, prior='uniform', transform='normalize'),\n",
       "                             'epsilon': Real(low=0.01, high=1, prior='uniform', transform='normalize'),\n",
       "                             'gamma': Real(low=0.001, high=1, prior='uniform', transform='normalize'),\n",
       "                             'kernel': Categorical(categories=('linear', 'poly', 'rbf', 'sigmoid'), prior=None)})"
      ]
     },
     "execution_count": 117,
     "metadata": {},
     "output_type": "execute_result"
    }
   ],
   "source": [
    "svm_reg_search.fit(std_X_train, Y_train.values.ravel())"
   ]
  },
  {
   "cell_type": "code",
   "execution_count": 118,
   "id": "de635659",
   "metadata": {
    "ExecuteTime": {
     "end_time": "2022-12-27T17:47:24.678774Z",
     "start_time": "2022-12-27T17:47:24.669235Z"
    }
   },
   "outputs": [
    {
     "data": {
      "text/plain": [
       "OrderedDict([('C', 5.0),\n",
       "             ('coef0', 1.480011170780389),\n",
       "             ('degree', 2),\n",
       "             ('epsilon', 1.0),\n",
       "             ('gamma', 0.4913807100188245),\n",
       "             ('kernel', 'linear')])"
      ]
     },
     "execution_count": 118,
     "metadata": {},
     "output_type": "execute_result"
    }
   ],
   "source": [
    "svm_reg_search.best_params_"
   ]
  },
  {
   "cell_type": "code",
   "execution_count": 119,
   "id": "de8fc102",
   "metadata": {
    "ExecuteTime": {
     "end_time": "2022-12-27T17:47:24.693069Z",
     "start_time": "2022-12-27T17:47:24.678774Z"
    }
   },
   "outputs": [
    {
     "data": {
      "text/plain": [
       "0.5150377589485787"
      ]
     },
     "execution_count": 119,
     "metadata": {},
     "output_type": "execute_result"
    }
   ],
   "source": [
    "svm_reg_search.best_score_"
   ]
  },
  {
   "cell_type": "code",
   "execution_count": null,
   "id": "67e332e2",
   "metadata": {},
   "outputs": [],
   "source": []
  }
 ],
 "metadata": {
  "kernelspec": {
   "display_name": "Python 3 (ipykernel)",
   "language": "python",
   "name": "python3"
  },
  "language_info": {
   "codemirror_mode": {
    "name": "ipython",
    "version": 3
   },
   "file_extension": ".py",
   "mimetype": "text/x-python",
   "name": "python",
   "nbconvert_exporter": "python",
   "pygments_lexer": "ipython3",
   "version": "3.9.12"
  }
 },
 "nbformat": 4,
 "nbformat_minor": 5
}
