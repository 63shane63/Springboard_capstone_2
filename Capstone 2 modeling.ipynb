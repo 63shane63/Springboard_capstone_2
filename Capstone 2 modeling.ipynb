{
 "cells": [
  {
   "cell_type": "code",
   "execution_count": 1,
   "id": "65ad8cf9",
   "metadata": {},
   "outputs": [],
   "source": [
    "import pandas as pd\n",
    "import seaborn as sns\n",
    "import numpy as np\n",
    "import matplotlib.pyplot as plt\n",
    "from sklearn.model_selection import train_test_split\n",
    "from sklearn.preprocessing import StandardScaler\n",
    "from sklearn.linear_model import LinearRegression\n",
    "from sklearn.linear_model import Lasso\n",
    "from sklearn.linear_model import Ridge\n",
    "from sklearn.neighbors import KNeighborsRegressor\n",
    "from sklearn.model_selection import cross_val_score\n",
    "from sklearn.metrics import r2_score\n",
    "from sklearn.metrics import mean_squared_error\n",
    "from sklearn.ensemble import RandomForestRegressor\n",
    "from sklearn.ensemble import GradientBoostingRegressor\n",
    "from sklearn.svm import SVR\n",
    "from sklearn.feature_selection import RFE\n",
    "from sklearn.pipeline import make_pipeline\n",
    "from sklearn.model_selection import GridSearchCV\n",
    "from skopt import BayesSearchCV\n",
    "from skopt.space import Real, Categorical, Integer"
   ]
  },
  {
   "cell_type": "code",
   "execution_count": 2,
   "id": "c00cc0e1",
   "metadata": {},
   "outputs": [],
   "source": [
    "X_data = pd.read_csv('X_data', index_col='Unnamed: 0')"
   ]
  },
  {
   "cell_type": "code",
   "execution_count": 3,
   "id": "7b04338f",
   "metadata": {
    "scrolled": true
   },
   "outputs": [
    {
     "data": {
      "text/html": [
       "<div>\n",
       "<style scoped>\n",
       "    .dataframe tbody tr th:only-of-type {\n",
       "        vertical-align: middle;\n",
       "    }\n",
       "\n",
       "    .dataframe tbody tr th {\n",
       "        vertical-align: top;\n",
       "    }\n",
       "\n",
       "    .dataframe thead th {\n",
       "        text-align: right;\n",
       "    }\n",
       "</style>\n",
       "<table border=\"1\" class=\"dataframe\">\n",
       "  <thead>\n",
       "    <tr style=\"text-align: right;\">\n",
       "      <th></th>\n",
       "      <th>Steps</th>\n",
       "      <th>Distance</th>\n",
       "      <th>High_Activity_Dist</th>\n",
       "      <th>Mod_Activity_dist</th>\n",
       "      <th>Light_Activity_dist</th>\n",
       "      <th>High_Activity_Min</th>\n",
       "      <th>Mod_Activity_Min</th>\n",
       "      <th>Light_Activity_Min</th>\n",
       "      <th>Sed_Min</th>\n",
       "    </tr>\n",
       "  </thead>\n",
       "  <tbody>\n",
       "    <tr>\n",
       "      <th>0</th>\n",
       "      <td>13162.0</td>\n",
       "      <td>8.50</td>\n",
       "      <td>1.88</td>\n",
       "      <td>0.55</td>\n",
       "      <td>6.06</td>\n",
       "      <td>25.0</td>\n",
       "      <td>13.0</td>\n",
       "      <td>328.0</td>\n",
       "      <td>728.0</td>\n",
       "    </tr>\n",
       "    <tr>\n",
       "      <th>1</th>\n",
       "      <td>10735.0</td>\n",
       "      <td>6.97</td>\n",
       "      <td>1.57</td>\n",
       "      <td>0.69</td>\n",
       "      <td>4.71</td>\n",
       "      <td>21.0</td>\n",
       "      <td>19.0</td>\n",
       "      <td>217.0</td>\n",
       "      <td>776.0</td>\n",
       "    </tr>\n",
       "    <tr>\n",
       "      <th>2</th>\n",
       "      <td>10460.0</td>\n",
       "      <td>6.74</td>\n",
       "      <td>2.44</td>\n",
       "      <td>0.40</td>\n",
       "      <td>3.91</td>\n",
       "      <td>30.0</td>\n",
       "      <td>11.0</td>\n",
       "      <td>181.0</td>\n",
       "      <td>1218.0</td>\n",
       "    </tr>\n",
       "    <tr>\n",
       "      <th>3</th>\n",
       "      <td>9762.0</td>\n",
       "      <td>6.28</td>\n",
       "      <td>2.14</td>\n",
       "      <td>1.26</td>\n",
       "      <td>2.83</td>\n",
       "      <td>29.0</td>\n",
       "      <td>34.0</td>\n",
       "      <td>209.0</td>\n",
       "      <td>726.0</td>\n",
       "    </tr>\n",
       "    <tr>\n",
       "      <th>4</th>\n",
       "      <td>12669.0</td>\n",
       "      <td>8.16</td>\n",
       "      <td>2.71</td>\n",
       "      <td>0.41</td>\n",
       "      <td>5.04</td>\n",
       "      <td>36.0</td>\n",
       "      <td>10.0</td>\n",
       "      <td>221.0</td>\n",
       "      <td>773.0</td>\n",
       "    </tr>\n",
       "  </tbody>\n",
       "</table>\n",
       "</div>"
      ],
      "text/plain": [
       "     Steps  Distance  High_Activity_Dist  Mod_Activity_dist  \\\n",
       "0  13162.0      8.50                1.88               0.55   \n",
       "1  10735.0      6.97                1.57               0.69   \n",
       "2  10460.0      6.74                2.44               0.40   \n",
       "3   9762.0      6.28                2.14               1.26   \n",
       "4  12669.0      8.16                2.71               0.41   \n",
       "\n",
       "   Light_Activity_dist  High_Activity_Min  Mod_Activity_Min  \\\n",
       "0                 6.06               25.0              13.0   \n",
       "1                 4.71               21.0              19.0   \n",
       "2                 3.91               30.0              11.0   \n",
       "3                 2.83               29.0              34.0   \n",
       "4                 5.04               36.0              10.0   \n",
       "\n",
       "   Light_Activity_Min  Sed_Min  \n",
       "0               328.0    728.0  \n",
       "1               217.0    776.0  \n",
       "2               181.0   1218.0  \n",
       "3               209.0    726.0  \n",
       "4               221.0    773.0  "
      ]
     },
     "execution_count": 3,
     "metadata": {},
     "output_type": "execute_result"
    }
   ],
   "source": [
    "X_data.head()"
   ]
  },
  {
   "cell_type": "code",
   "execution_count": 4,
   "id": "08f05c7a",
   "metadata": {},
   "outputs": [
    {
     "data": {
      "text/plain": [
       "(844, 9)"
      ]
     },
     "execution_count": 4,
     "metadata": {},
     "output_type": "execute_result"
    }
   ],
   "source": [
    "X_data.shape"
   ]
  },
  {
   "cell_type": "code",
   "execution_count": 5,
   "id": "57db0c0c",
   "metadata": {},
   "outputs": [],
   "source": [
    "Y_data = pd.read_csv('Y_data', usecols=[1])"
   ]
  },
  {
   "cell_type": "code",
   "execution_count": 6,
   "id": "c74a18f2",
   "metadata": {},
   "outputs": [
    {
     "data": {
      "text/html": [
       "<div>\n",
       "<style scoped>\n",
       "    .dataframe tbody tr th:only-of-type {\n",
       "        vertical-align: middle;\n",
       "    }\n",
       "\n",
       "    .dataframe tbody tr th {\n",
       "        vertical-align: top;\n",
       "    }\n",
       "\n",
       "    .dataframe thead th {\n",
       "        text-align: right;\n",
       "    }\n",
       "</style>\n",
       "<table border=\"1\" class=\"dataframe\">\n",
       "  <thead>\n",
       "    <tr style=\"text-align: right;\">\n",
       "      <th></th>\n",
       "      <th>Calories</th>\n",
       "    </tr>\n",
       "  </thead>\n",
       "  <tbody>\n",
       "    <tr>\n",
       "      <th>0</th>\n",
       "      <td>1985.0</td>\n",
       "    </tr>\n",
       "    <tr>\n",
       "      <th>1</th>\n",
       "      <td>1797.0</td>\n",
       "    </tr>\n",
       "    <tr>\n",
       "      <th>2</th>\n",
       "      <td>1776.0</td>\n",
       "    </tr>\n",
       "    <tr>\n",
       "      <th>3</th>\n",
       "      <td>1745.0</td>\n",
       "    </tr>\n",
       "    <tr>\n",
       "      <th>4</th>\n",
       "      <td>1863.0</td>\n",
       "    </tr>\n",
       "  </tbody>\n",
       "</table>\n",
       "</div>"
      ],
      "text/plain": [
       "   Calories\n",
       "0    1985.0\n",
       "1    1797.0\n",
       "2    1776.0\n",
       "3    1745.0\n",
       "4    1863.0"
      ]
     },
     "execution_count": 6,
     "metadata": {},
     "output_type": "execute_result"
    }
   ],
   "source": [
    "Y_data.head()"
   ]
  },
  {
   "cell_type": "code",
   "execution_count": 7,
   "id": "5bc1a98a",
   "metadata": {},
   "outputs": [
    {
     "data": {
      "text/plain": [
       "(844, 1)"
      ]
     },
     "execution_count": 7,
     "metadata": {},
     "output_type": "execute_result"
    }
   ],
   "source": [
    "Y_data.shape"
   ]
  },
  {
   "cell_type": "code",
   "execution_count": 8,
   "id": "33d25a99",
   "metadata": {},
   "outputs": [],
   "source": [
    "X_train, X_test, Y_train, Y_test = train_test_split(X_data, Y_data, test_size=0.25, random_state=63)"
   ]
  },
  {
   "cell_type": "code",
   "execution_count": 9,
   "id": "57331f30",
   "metadata": {},
   "outputs": [],
   "source": [
    "std = StandardScaler()\n",
    "std.fit(X_train)\n",
    "std_X_train = std.transform(X_train)"
   ]
  },
  {
   "cell_type": "code",
   "execution_count": 10,
   "id": "996e067a",
   "metadata": {},
   "outputs": [
    {
     "data": {
      "text/plain": [
       "LinearRegression()"
      ]
     },
     "execution_count": 10,
     "metadata": {},
     "output_type": "execute_result"
    }
   ],
   "source": [
    "LR = LinearRegression()\n",
    "LR.fit(std_X_train, Y_train)"
   ]
  },
  {
   "cell_type": "code",
   "execution_count": 11,
   "id": "753019b1",
   "metadata": {},
   "outputs": [
    {
     "data": {
      "text/plain": [
       "{'copy_X': True,\n",
       " 'fit_intercept': True,\n",
       " 'n_jobs': None,\n",
       " 'normalize': 'deprecated',\n",
       " 'positive': False}"
      ]
     },
     "execution_count": 11,
     "metadata": {},
     "output_type": "execute_result"
    }
   ],
   "source": [
    "LR.get_params()"
   ]
  },
  {
   "cell_type": "code",
   "execution_count": 12,
   "id": "3361cc8d",
   "metadata": {},
   "outputs": [
    {
     "data": {
      "text/plain": [
       "array([[-1.88473424e+03,  2.70546070e+03, -9.82787400e+02,\n",
       "        -2.60720635e+02, -5.12830490e+01,  6.67896504e+02,\n",
       "         1.80345243e+02,  1.29784354e+00,  6.42199129e+01]])"
      ]
     },
     "execution_count": 12,
     "metadata": {},
     "output_type": "execute_result"
    }
   ],
   "source": [
    "LR.coef_"
   ]
  },
  {
   "cell_type": "code",
   "execution_count": 13,
   "id": "f66a675f",
   "metadata": {},
   "outputs": [
    {
     "name": "stdout",
     "output_type": "stream",
     "text": [
      "[0.72227196 0.74282364 0.79139297 0.73908667 0.77642141]\n"
     ]
    }
   ],
   "source": [
    "scores = cross_val_score(LR, std_X_train, Y_train)\n",
    "print(scores)"
   ]
  },
  {
   "cell_type": "code",
   "execution_count": 14,
   "id": "544f840a",
   "metadata": {},
   "outputs": [],
   "source": [
    "std_X_test = std.transform(X_test)"
   ]
  },
  {
   "cell_type": "code",
   "execution_count": 15,
   "id": "72db1561",
   "metadata": {},
   "outputs": [],
   "source": [
    "Y_pred_ols = LR.predict(std_X_test)"
   ]
  },
  {
   "cell_type": "code",
   "execution_count": 16,
   "id": "56faf261",
   "metadata": {},
   "outputs": [
    {
     "name": "stdout",
     "output_type": "stream",
     "text": [
      "0.7688120322202453\n"
     ]
    }
   ],
   "source": [
    "r2_ols = r2_score(Y_test, Y_pred_ols)\n",
    "print(r2_ols)"
   ]
  },
  {
   "cell_type": "code",
   "execution_count": 17,
   "id": "ebf784fe",
   "metadata": {},
   "outputs": [
    {
     "name": "stdout",
     "output_type": "stream",
     "text": [
      "367.86832976661213\n"
     ]
    }
   ],
   "source": [
    "LR_rmse = mean_squared_error(Y_test, Y_pred_ols, squared=False)\n",
    "print(LR_rmse)"
   ]
  },
  {
   "cell_type": "code",
   "execution_count": 18,
   "id": "f530bda5",
   "metadata": {},
   "outputs": [
    {
     "data": {
      "image/png": "[encoded data removed]",
      "text/plain": [
       "<Figure size 432x288 with 1 Axes>"
      ]
     },
     "metadata": {
      "needs_background": "light"
     },
     "output_type": "display_data"
    }
   ],
   "source": [
    "fig, ax = plt.subplots()\n",
    "\n",
    "ax.scatter(range(0,211,1), Y_pred_ols, c='red')\n",
    "ax.scatter(range(0,211,1), Y_test, c='blue')\n",
    "plt.show()"
   ]
  },
  {
   "cell_type": "code",
   "execution_count": 19,
   "id": "96bec4ee",
   "metadata": {},
   "outputs": [],
   "source": [
    "LRnn = LinearRegression(positive=True)\n",
    "Y_pred_LRnn = LRnn.fit(std_X_train, Y_train).predict(std_X_test)"
   ]
  },
  {
   "cell_type": "code",
   "execution_count": 20,
   "id": "b40ff1e5",
   "metadata": {},
   "outputs": [
    {
     "data": {
      "text/plain": [
       "array([[  0.        ,   0.        ,   0.        ,   0.        ,\n",
       "        276.2613741 , 408.74106488,  46.82570091,   0.        ,\n",
       "         87.23297805]])"
      ]
     },
     "execution_count": 20,
     "metadata": {},
     "output_type": "execute_result"
    }
   ],
   "source": [
    "LRnn.coef_"
   ]
  },
  {
   "cell_type": "code",
   "execution_count": 21,
   "id": "4315be21",
   "metadata": {},
   "outputs": [
    {
     "name": "stdout",
     "output_type": "stream",
     "text": [
      "0.5800670402098242\n"
     ]
    }
   ],
   "source": [
    "r2_LRnn = r2_score(Y_test, Y_pred_LRnn)\n",
    "print(r2_LRnn)"
   ]
  },
  {
   "cell_type": "code",
   "execution_count": 22,
   "id": "fe52aca2",
   "metadata": {},
   "outputs": [
    {
     "name": "stdout",
     "output_type": "stream",
     "text": [
      "[0.56453535 0.54775045 0.53384819 0.49540168 0.5014409 ]\n"
     ]
    }
   ],
   "source": [
    "scores = cross_val_score(LRnn, std_X_train, Y_train)\n",
    "print(scores)"
   ]
  },
  {
   "cell_type": "code",
   "execution_count": 23,
   "id": "1d446879",
   "metadata": {
    "scrolled": true
   },
   "outputs": [
    {
     "name": "stdout",
     "output_type": "stream",
     "text": [
      "495.79228938106553\n"
     ]
    }
   ],
   "source": [
    "LRnn_rmse = mean_squared_error(Y_test, Y_pred_LRnn, squared=False)\n",
    "print(LRnn_rmse)"
   ]
  },
  {
   "cell_type": "code",
   "execution_count": 24,
   "id": "11a8adec",
   "metadata": {},
   "outputs": [
    {
     "data": {
      "image/png": "[encoded data removed]",
      "text/plain": [
       "<Figure size 432x288 with 1 Axes>"
      ]
     },
     "metadata": {
      "needs_background": "light"
     },
     "output_type": "display_data"
    }
   ],
   "source": [
    "fig, ax = plt.subplots()\n",
    "\n",
    "ax.scatter(range(0,211,1), Y_pred_LRnn, c='red')\n",
    "ax.scatter(range(0,211,1), Y_test, c='blue')\n",
    "plt.show()"
   ]
  },
  {
   "cell_type": "code",
   "execution_count": 25,
   "id": "5c4fa7ac",
   "metadata": {},
   "outputs": [],
   "source": [
    "lasso_mod = Lasso()"
   ]
  },
  {
   "cell_type": "code",
   "execution_count": 26,
   "id": "983c7fe8",
   "metadata": {},
   "outputs": [
    {
     "data": {
      "text/plain": [
       "{'alpha': 1.0,\n",
       " 'copy_X': True,\n",
       " 'fit_intercept': True,\n",
       " 'max_iter': 1000,\n",
       " 'normalize': 'deprecated',\n",
       " 'positive': False,\n",
       " 'precompute': False,\n",
       " 'random_state': None,\n",
       " 'selection': 'cyclic',\n",
       " 'tol': 0.0001,\n",
       " 'warm_start': False}"
      ]
     },
     "execution_count": 26,
     "metadata": {},
     "output_type": "execute_result"
    }
   ],
   "source": [
    "lasso_mod.get_params()"
   ]
  },
  {
   "cell_type": "code",
   "execution_count": 27,
   "id": "0b038086",
   "metadata": {},
   "outputs": [],
   "source": [
    "Y_pred_lasso = lasso_mod.fit(std_X_train, Y_train).predict(std_X_test)"
   ]
  },
  {
   "cell_type": "code",
   "execution_count": 28,
   "id": "a00f496b",
   "metadata": {},
   "outputs": [
    {
     "data": {
      "text/plain": [
       "array([-1789.78435303,  2507.2039006 ,  -883.28531928,  -233.74045104,\n",
       "           0.        ,   650.29748754,   172.8909221 ,    -6.20768432,\n",
       "          63.45989315])"
      ]
     },
     "execution_count": 28,
     "metadata": {},
     "output_type": "execute_result"
    }
   ],
   "source": [
    "lasso_mod.coef_"
   ]
  },
  {
   "cell_type": "code",
   "execution_count": 29,
   "id": "7aa4777c",
   "metadata": {},
   "outputs": [
    {
     "name": "stdout",
     "output_type": "stream",
     "text": [
      "0.7690587310269521\n"
     ]
    }
   ],
   "source": [
    "r2_lasso = r2_score(Y_test, Y_pred_lasso)\n",
    "print(r2_lasso)"
   ]
  },
  {
   "cell_type": "code",
   "execution_count": 30,
   "id": "7fba27fb",
   "metadata": {},
   "outputs": [
    {
     "name": "stdout",
     "output_type": "stream",
     "text": [
      "[0.74064313 0.74329956 0.7885927  0.72874465 0.77657508]\n"
     ]
    }
   ],
   "source": [
    "scores = cross_val_score(lasso_mod, std_X_train, Y_train)\n",
    "print(scores)"
   ]
  },
  {
   "cell_type": "code",
   "execution_count": 31,
   "id": "88740ab2",
   "metadata": {},
   "outputs": [
    {
     "name": "stdout",
     "output_type": "stream",
     "text": [
      "367.67200272126854\n"
     ]
    }
   ],
   "source": [
    "lasso_rmse = mean_squared_error(Y_test, Y_pred_lasso, squared=False)\n",
    "print(lasso_rmse)"
   ]
  },
  {
   "cell_type": "code",
   "execution_count": 32,
   "id": "44f1096c",
   "metadata": {},
   "outputs": [
    {
     "data": {
      "image/png": "[encoded data removed]",
      "text/plain": [
       "<Figure size 432x288 with 1 Axes>"
      ]
     },
     "metadata": {
      "needs_background": "light"
     },
     "output_type": "display_data"
    }
   ],
   "source": [
    "fig, ax = plt.subplots()\n",
    "\n",
    "ax.scatter(range(0,211,1), Y_pred_lasso, c='red')\n",
    "ax.scatter(range(0,211,1), Y_test, c='blue')\n",
    "plt.show()"
   ]
  },
  {
   "cell_type": "code",
   "execution_count": 33,
   "id": "b6f5e3ba",
   "metadata": {},
   "outputs": [
    {
     "data": {
      "text/plain": [
       "array([[-1590.87734904,  2168.42379349,  -739.17177142,  -243.82577749,\n",
       "           83.86535517,   615.99540263,   206.2145847 ,   -32.68290905,\n",
       "           65.29226681]])"
      ]
     },
     "execution_count": 33,
     "metadata": {},
     "output_type": "execute_result"
    }
   ],
   "source": [
    "ridge_mod = Ridge()\n",
    "Y_pred_ridge = ridge_mod.fit(std_X_train, Y_train).predict(std_X_test)\n",
    "ridge_mod.coef_"
   ]
  },
  {
   "cell_type": "code",
   "execution_count": 34,
   "id": "ebf18a79",
   "metadata": {},
   "outputs": [
    {
     "name": "stdout",
     "output_type": "stream",
     "text": [
      "0.7666632254693292\n"
     ]
    }
   ],
   "source": [
    "r2_ridge = r2_score(Y_test, Y_pred_ridge)\n",
    "print(r2_ridge)"
   ]
  },
  {
   "cell_type": "code",
   "execution_count": 35,
   "id": "b6f7d33e",
   "metadata": {},
   "outputs": [
    {
     "name": "stdout",
     "output_type": "stream",
     "text": [
      "[0.73962687 0.73520772 0.77839942 0.71206636 0.77175607]\n"
     ]
    }
   ],
   "source": [
    "scores = cross_val_score(ridge_mod, std_X_train, Y_train)\n",
    "print(scores)"
   ]
  },
  {
   "cell_type": "code",
   "execution_count": 36,
   "id": "b93f1350",
   "metadata": {},
   "outputs": [
    {
     "name": "stdout",
     "output_type": "stream",
     "text": [
      "369.5739757066175\n"
     ]
    }
   ],
   "source": [
    "ridge_rmse = mean_squared_error(Y_test, Y_pred_ridge, squared=False)\n",
    "print(ridge_rmse)"
   ]
  },
  {
   "cell_type": "code",
   "execution_count": 37,
   "id": "4cd2fd44",
   "metadata": {},
   "outputs": [
    {
     "data": {
      "image/png": "[encoded data removed]",
      "text/plain": [
       "<Figure size 432x288 with 1 Axes>"
      ]
     },
     "metadata": {
      "needs_background": "light"
     },
     "output_type": "display_data"
    }
   ],
   "source": [
    "fig, ax = plt.subplots()\n",
    "\n",
    "ax.scatter(range(0,211,1), Y_pred_ridge, c='red')\n",
    "ax.scatter(range(0,211,1), Y_test, c='blue')\n",
    "plt.show()"
   ]
  },
  {
   "cell_type": "code",
   "execution_count": 38,
   "id": "026fd276",
   "metadata": {},
   "outputs": [],
   "source": [
    "knn = KNeighborsRegressor()\n",
    "Y_pred_knn = knn.fit(std_X_train, Y_train).predict(std_X_test)"
   ]
  },
  {
   "cell_type": "code",
   "execution_count": 39,
   "id": "78330f83",
   "metadata": {},
   "outputs": [
    {
     "name": "stdout",
     "output_type": "stream",
     "text": [
      "[0.50198851 0.65355783 0.65102873 0.52833958 0.60340219]\n"
     ]
    }
   ],
   "source": [
    "scores = cross_val_score(knn, std_X_train, Y_train)\n",
    "print(scores)"
   ]
  },
  {
   "cell_type": "code",
   "execution_count": 40,
   "id": "f40f2489",
   "metadata": {},
   "outputs": [
    {
     "name": "stdout",
     "output_type": "stream",
     "text": [
      "447.6370641850689\n"
     ]
    }
   ],
   "source": [
    "knn_rmse = mean_squared_error(Y_test, Y_pred_knn, squared=False)\n",
    "print(knn_rmse)"
   ]
  },
  {
   "cell_type": "code",
   "execution_count": 41,
   "id": "4123a623",
   "metadata": {},
   "outputs": [
    {
     "data": {
      "image/png": "[encoded data removed]",
      "text/plain": [
       "<Figure size 432x288 with 1 Axes>"
      ]
     },
     "metadata": {
      "needs_background": "light"
     },
     "output_type": "display_data"
    }
   ],
   "source": [
    "fig, ax = plt.subplots()\n",
    "\n",
    "ax.scatter(range(0,211,1), Y_pred_knn, c='red')\n",
    "ax.scatter(range(0,211,1), Y_test, c='blue')\n",
    "plt.show()"
   ]
  },
  {
   "cell_type": "code",
   "execution_count": 42,
   "id": "15c7cc8c",
   "metadata": {},
   "outputs": [],
   "source": [
    "RF = RandomForestRegressor()\n",
    "Y_pred_RF = RF.fit(std_X_train, Y_train.values.ravel()).predict(std_X_test)"
   ]
  },
  {
   "cell_type": "code",
   "execution_count": 43,
   "id": "46de14a6",
   "metadata": {},
   "outputs": [
    {
     "name": "stdout",
     "output_type": "stream",
     "text": [
      "[0.62338581 0.72326369 0.73357535 0.58828586 0.67283653]\n"
     ]
    }
   ],
   "source": [
    "scores = cross_val_score(RF, std_X_train, Y_train.values.ravel())\n",
    "print(scores)"
   ]
  },
  {
   "cell_type": "code",
   "execution_count": 44,
   "id": "37af8274",
   "metadata": {},
   "outputs": [],
   "source": [
    "GBM = GradientBoostingRegressor()\n",
    "Y_pred_GBM = GBM.fit(std_X_train, Y_train.values.ravel()).predict(std_X_test)"
   ]
  },
  {
   "cell_type": "code",
   "execution_count": 45,
   "id": "5067f22c",
   "metadata": {
    "scrolled": true
   },
   "outputs": [
    {
     "name": "stdout",
     "output_type": "stream",
     "text": [
      "[0.67261196 0.71940004 0.71425543 0.61666649 0.66313459]\n"
     ]
    }
   ],
   "source": [
    "scores = cross_val_score(GBM, std_X_train, Y_train.values.ravel())\n",
    "print(scores)"
   ]
  },
  {
   "cell_type": "code",
   "execution_count": 46,
   "id": "449f7680",
   "metadata": {
    "scrolled": true
   },
   "outputs": [
    {
     "data": {
      "image/png": "[encoded data removed]",
      "text/plain": [
       "<Figure size 432x288 with 1 Axes>"
      ]
     },
     "metadata": {
      "needs_background": "light"
     },
     "output_type": "display_data"
    }
   ],
   "source": [
    "fig, ax = plt.subplots()\n",
    "\n",
    "ax.scatter(range(0,25,1), Y_pred_GBM[0:25], c='red')\n",
    "ax.scatter(range(0,25,1), Y_test[0:25], c='blue')\n",
    "plt.show()"
   ]
  },
  {
   "cell_type": "code",
   "execution_count": 47,
   "id": "6a27ac07",
   "metadata": {},
   "outputs": [
    {
     "name": "stdout",
     "output_type": "stream",
     "text": [
      "408.95214592346923\n"
     ]
    }
   ],
   "source": [
    "GBM_rmse = mean_squared_error(Y_test, Y_pred_GBM, squared=False)\n",
    "print(GBM_rmse)"
   ]
  },
  {
   "cell_type": "code",
   "execution_count": 48,
   "id": "cbe49c70",
   "metadata": {},
   "outputs": [],
   "source": [
    "select_feature = RFE(LR, n_features_to_select=4)\n",
    "selected = select_feature.fit(std_X_train, Y_train)"
   ]
  },
  {
   "cell_type": "code",
   "execution_count": 49,
   "id": "5632dcf7",
   "metadata": {},
   "outputs": [
    {
     "data": {
      "text/plain": [
       "array([ True,  True,  True, False, False,  True, False, False, False])"
      ]
     },
     "execution_count": 49,
     "metadata": {},
     "output_type": "execute_result"
    }
   ],
   "source": [
    "selected.support_"
   ]
  },
  {
   "cell_type": "code",
   "execution_count": 50,
   "id": "54828d5d",
   "metadata": {},
   "outputs": [
    {
     "data": {
      "text/plain": [
       "0.748008323740775"
      ]
     },
     "execution_count": 50,
     "metadata": {},
     "output_type": "execute_result"
    }
   ],
   "source": [
    "selected.score(std_X_train, Y_train)"
   ]
  },
  {
   "cell_type": "code",
   "execution_count": 51,
   "id": "13b31784",
   "metadata": {},
   "outputs": [],
   "source": [
    "Y_pred_select = selected.predict(std_X_test)"
   ]
  },
  {
   "cell_type": "code",
   "execution_count": 52,
   "id": "82f6a424",
   "metadata": {},
   "outputs": [
    {
     "name": "stdout",
     "output_type": "stream",
     "text": [
      "0.7348888080879632\n"
     ]
    }
   ],
   "source": [
    "r2_select = r2_score(Y_test, Y_pred_select)\n",
    "print(r2_select)"
   ]
  },
  {
   "cell_type": "code",
   "execution_count": 53,
   "id": "bc403ca8",
   "metadata": {},
   "outputs": [],
   "source": [
    "select_features = RFE(lasso_mod, n_features_to_select=4)\n",
    "selected2 = select_features.fit(std_X_train, Y_train)"
   ]
  },
  {
   "cell_type": "code",
   "execution_count": 54,
   "id": "25dd77ce",
   "metadata": {},
   "outputs": [
    {
     "data": {
      "text/plain": [
       "array([ True,  True,  True, False, False,  True, False, False, False])"
      ]
     },
     "execution_count": 54,
     "metadata": {},
     "output_type": "execute_result"
    }
   ],
   "source": [
    "selected2.support_"
   ]
  },
  {
   "cell_type": "code",
   "execution_count": 55,
   "id": "eeb522ce",
   "metadata": {},
   "outputs": [
    {
     "data": {
      "text/plain": [
       "0.7474701199988745"
      ]
     },
     "execution_count": 55,
     "metadata": {},
     "output_type": "execute_result"
    }
   ],
   "source": [
    "selected2.score(std_X_train, Y_train)"
   ]
  },
  {
   "cell_type": "code",
   "execution_count": 56,
   "id": "2f5fe1d2",
   "metadata": {},
   "outputs": [
    {
     "data": {
      "text/plain": [
       "SVR(kernel='linear')"
      ]
     },
     "execution_count": 56,
     "metadata": {},
     "output_type": "execute_result"
    }
   ],
   "source": [
    "svm_mod = SVR(kernel='linear')\n",
    "svm_mod.fit(std_X_train, Y_train.values.ravel())"
   ]
  },
  {
   "cell_type": "code",
   "execution_count": 57,
   "id": "a532343c",
   "metadata": {},
   "outputs": [
    {
     "name": "stdout",
     "output_type": "stream",
     "text": [
      "[0.47899999 0.42524868 0.39152372 0.41170125 0.36026595]\n"
     ]
    }
   ],
   "source": [
    "scores = cross_val_score(svm_mod, std_X_train, Y_train.values.ravel())\n",
    "print(scores)"
   ]
  },
  {
   "cell_type": "code",
   "execution_count": 58,
   "id": "e194dc00",
   "metadata": {},
   "outputs": [],
   "source": [
    "Y_pred_svm = svm_mod.predict(std_X_test)"
   ]
  },
  {
   "cell_type": "code",
   "execution_count": 59,
   "id": "ef56a658",
   "metadata": {},
   "outputs": [
    {
     "name": "stdout",
     "output_type": "stream",
     "text": [
      "0.4152167918984766\n"
     ]
    }
   ],
   "source": [
    "r2_svm = r2_score(Y_test, Y_pred_svm)\n",
    "print(r2_svm)"
   ]
  },
  {
   "cell_type": "code",
   "execution_count": 60,
   "id": "d4717fd5",
   "metadata": {},
   "outputs": [
    {
     "data": {
      "image/png": "[encoded data removed]",
      "text/plain": [
       "<Figure size 432x288 with 1 Axes>"
      ]
     },
     "metadata": {
      "needs_background": "light"
     },
     "output_type": "display_data"
    }
   ],
   "source": [
    "fig, ax = plt.subplots()\n",
    "\n",
    "ax.scatter(range(0,25,1), Y_pred_svm[0:25], c='red')\n",
    "ax.scatter(range(0,25,1), Y_test[0:25], c='blue')\n",
    "plt.show()"
   ]
  },
  {
   "cell_type": "code",
   "execution_count": 61,
   "id": "612cdee4",
   "metadata": {},
   "outputs": [
    {
     "data": {
      "text/plain": [
       "{'copy_X': True,\n",
       " 'fit_intercept': True,\n",
       " 'n_jobs': None,\n",
       " 'normalize': 'deprecated',\n",
       " 'positive': False}"
      ]
     },
     "execution_count": 61,
     "metadata": {},
     "output_type": "execute_result"
    }
   ],
   "source": [
    "LR.get_params()"
   ]
  },
  {
   "cell_type": "code",
   "execution_count": 62,
   "id": "1ae19543",
   "metadata": {},
   "outputs": [],
   "source": [
    "lr_params = { \"fit_intercept\" : Categorical([True, False]), \n",
    "            \"positive\" : Categorical([True,False])}"
   ]
  },
  {
   "cell_type": "code",
   "execution_count": 63,
   "id": "a6c392c7",
   "metadata": {},
   "outputs": [],
   "source": [
    "lin_reg_search = BayesSearchCV(LR, lr_params, n_iter=10, cv=5 )"
   ]
  },
  {
   "cell_type": "code",
   "execution_count": 64,
   "id": "981fcaf8",
   "metadata": {},
   "outputs": [
    {
     "data": {
      "text/plain": [
       "BayesSearchCV(cv=5, estimator=LinearRegression(), n_iter=10,\n",
       "              search_spaces={'fit_intercept': Categorical(categories=(True, False), prior=None),\n",
       "                             'positive': Categorical(categories=(True, False), prior=None)})"
      ]
     },
     "execution_count": 64,
     "metadata": {},
     "output_type": "execute_result"
    }
   ],
   "source": [
    "lin_reg_search.fit(std_X_train, Y_train)"
   ]
  },
  {
   "cell_type": "code",
   "execution_count": 65,
   "id": "bd6ee9a1",
   "metadata": {},
   "outputs": [
    {
     "data": {
      "text/plain": [
       "OrderedDict([('fit_intercept', True), ('positive', False)])"
      ]
     },
     "execution_count": 65,
     "metadata": {},
     "output_type": "execute_result"
    }
   ],
   "source": [
    "lin_reg_search.best_params_"
   ]
  },
  {
   "cell_type": "code",
   "execution_count": 66,
   "id": "2a514640",
   "metadata": {},
   "outputs": [
    {
     "data": {
      "text/plain": [
       "0.754399328059695"
      ]
     },
     "execution_count": 66,
     "metadata": {},
     "output_type": "execute_result"
    }
   ],
   "source": [
    "lin_reg_search.best_score_"
   ]
  },
  {
   "cell_type": "code",
   "execution_count": 67,
   "id": "022d3a7e",
   "metadata": {},
   "outputs": [],
   "source": [
    "Y_pred_lrs =lin_reg_search.predict(std_X_test)"
   ]
  },
  {
   "cell_type": "code",
   "execution_count": 68,
   "id": "a64d2878",
   "metadata": {},
   "outputs": [
    {
     "name": "stdout",
     "output_type": "stream",
     "text": [
      "0.7688120322202453\n"
     ]
    }
   ],
   "source": [
    "lin_reg_search_score = r2_score(Y_test, Y_pred_lrs)\n",
    "print(lin_reg_search_score)"
   ]
  },
  {
   "cell_type": "code",
   "execution_count": 69,
   "id": "1d0abdef",
   "metadata": {},
   "outputs": [
    {
     "data": {
      "text/plain": [
       "{'alpha': 1.0,\n",
       " 'copy_X': True,\n",
       " 'fit_intercept': True,\n",
       " 'max_iter': 1000,\n",
       " 'normalize': 'deprecated',\n",
       " 'positive': False,\n",
       " 'precompute': False,\n",
       " 'random_state': None,\n",
       " 'selection': 'cyclic',\n",
       " 'tol': 0.0001,\n",
       " 'warm_start': False}"
      ]
     },
     "execution_count": 69,
     "metadata": {},
     "output_type": "execute_result"
    }
   ],
   "source": [
    "lasso_mod.get_params()"
   ]
  },
  {
   "cell_type": "code",
   "execution_count": 70,
   "id": "02c5c611",
   "metadata": {},
   "outputs": [],
   "source": [
    "lasso_params = { \"alpha\" : Real(1e-3, 5), \"warm_start\" : Categorical([True, False]) }"
   ]
  },
  {
   "cell_type": "code",
   "execution_count": 71,
   "id": "59dae5d3",
   "metadata": {},
   "outputs": [],
   "source": [
    "lasso_reg_search = BayesSearchCV(lasso_mod, lasso_params, cv=5 )"
   ]
  },
  {
   "cell_type": "code",
   "execution_count": 72,
   "id": "784fa776",
   "metadata": {},
   "outputs": [
    {
     "data": {
      "text/plain": [
       "BayesSearchCV(cv=5, estimator=Lasso(),\n",
       "              search_spaces={'alpha': Real(low=0.001, high=5, prior='uniform', transform='normalize'),\n",
       "                             'warm_start': Categorical(categories=(True, False), prior=None)})"
      ]
     },
     "execution_count": 72,
     "metadata": {},
     "output_type": "execute_result"
    }
   ],
   "source": [
    "lasso_reg_search.fit(std_X_train, Y_train)"
   ]
  },
  {
   "cell_type": "code",
   "execution_count": 73,
   "id": "cbf66960",
   "metadata": {},
   "outputs": [
    {
     "data": {
      "text/plain": [
       "OrderedDict([('alpha', 0.7558900276975216), ('warm_start', True)])"
      ]
     },
     "execution_count": 73,
     "metadata": {},
     "output_type": "execute_result"
    }
   ],
   "source": [
    "lasso_reg_search.best_params_"
   ]
  },
  {
   "cell_type": "code",
   "execution_count": 74,
   "id": "a3c0df03",
   "metadata": {},
   "outputs": [
    {
     "data": {
      "text/plain": [
       "0.755708662695697"
      ]
     },
     "execution_count": 74,
     "metadata": {},
     "output_type": "execute_result"
    }
   ],
   "source": [
    "lasso_reg_search.best_score_"
   ]
  },
  {
   "cell_type": "code",
   "execution_count": 75,
   "id": "6340160d",
   "metadata": {},
   "outputs": [],
   "source": [
    "Y_pred_lasso = lasso_reg_search.predict(std_X_test)"
   ]
  },
  {
   "cell_type": "code",
   "execution_count": 76,
   "id": "0229d9c1",
   "metadata": {},
   "outputs": [
    {
     "name": "stdout",
     "output_type": "stream",
     "text": [
      "0.769268262043018\n"
     ]
    }
   ],
   "source": [
    "lasso_score = r2_score(Y_test, Y_pred_lasso)\n",
    "print(lasso_score)"
   ]
  },
  {
   "cell_type": "code",
   "execution_count": 77,
   "id": "79523783",
   "metadata": {},
   "outputs": [
    {
     "data": {
      "text/plain": [
       "{'algorithm': 'auto',\n",
       " 'leaf_size': 30,\n",
       " 'metric': 'minkowski',\n",
       " 'metric_params': None,\n",
       " 'n_jobs': None,\n",
       " 'n_neighbors': 5,\n",
       " 'p': 2,\n",
       " 'weights': 'uniform'}"
      ]
     },
     "execution_count": 77,
     "metadata": {},
     "output_type": "execute_result"
    }
   ],
   "source": [
    "knn.get_params()"
   ]
  },
  {
   "cell_type": "code",
   "execution_count": 78,
   "id": "2a27c80d",
   "metadata": {},
   "outputs": [],
   "source": [
    "knn_params = { \"n_neighbors\" : Integer(2,15), \"weights\" : Categorical(['uniform', 'distance']),\n",
    "              \"algorithm\" : Categorical(['auto', 'ball_tree', 'kd_tree', 'brute']), \"leaf_size\" : Integer(5,40), \n",
    "            \"p\" : Real(1,3) }"
   ]
  },
  {
   "cell_type": "code",
   "execution_count": 79,
   "id": "cf50d823",
   "metadata": {},
   "outputs": [],
   "source": [
    "knn_reg_search = BayesSearchCV(knn, knn_params, cv=5 )"
   ]
  },
  {
   "cell_type": "code",
   "execution_count": 80,
   "id": "0900d042",
   "metadata": {},
   "outputs": [
    {
     "name": "stderr",
     "output_type": "stream",
     "text": [
      "C:\\Users\\63sha\\anaconda3\\lib\\site-packages\\skopt\\optimizer\\optimizer.py:449: UserWarning: The objective has been evaluated at this point before.\n",
      "  warnings.warn(\"The objective has been evaluated \"\n"
     ]
    },
    {
     "data": {
      "text/plain": [
       "BayesSearchCV(cv=5, estimator=KNeighborsRegressor(),\n",
       "              search_spaces={'algorithm': Categorical(categories=('auto', 'ball_tree', 'kd_tree', 'brute'), prior=None),\n",
       "                             'leaf_size': Integer(low=5, high=40, prior='uniform', transform='normalize'),\n",
       "                             'n_neighbors': Integer(low=2, high=15, prior='uniform', transform='normalize'),\n",
       "                             'p': Real(low=1, high=3, prior='uniform', transform='normalize'),\n",
       "                             'weights': Categorical(categories=('uniform', 'distance'), prior=None)})"
      ]
     },
     "execution_count": 80,
     "metadata": {},
     "output_type": "execute_result"
    }
   ],
   "source": [
    "knn_reg_search.fit(std_X_train, Y_train)"
   ]
  },
  {
   "cell_type": "code",
   "execution_count": 81,
   "id": "bd2bf8f8",
   "metadata": {},
   "outputs": [
    {
     "data": {
      "text/plain": [
       "OrderedDict([('algorithm', 'ball_tree'),\n",
       "             ('leaf_size', 23),\n",
       "             ('n_neighbors', 4),\n",
       "             ('p', 2.7555317133503086),\n",
       "             ('weights', 'distance')])"
      ]
     },
     "execution_count": 81,
     "metadata": {},
     "output_type": "execute_result"
    }
   ],
   "source": [
    "knn_reg_search.best_params_"
   ]
  },
  {
   "cell_type": "code",
   "execution_count": 82,
   "id": "77a477f6",
   "metadata": {},
   "outputs": [
    {
     "data": {
      "text/plain": [
       "0.6242998867067875"
      ]
     },
     "execution_count": 82,
     "metadata": {},
     "output_type": "execute_result"
    }
   ],
   "source": [
    "knn_reg_search.best_score_"
   ]
  },
  {
   "cell_type": "code",
   "execution_count": 83,
   "id": "6e161148",
   "metadata": {},
   "outputs": [
    {
     "data": {
      "text/plain": [
       "{'alpha': 1.0,\n",
       " 'copy_X': True,\n",
       " 'fit_intercept': True,\n",
       " 'max_iter': None,\n",
       " 'normalize': 'deprecated',\n",
       " 'positive': False,\n",
       " 'random_state': None,\n",
       " 'solver': 'auto',\n",
       " 'tol': 0.001}"
      ]
     },
     "execution_count": 83,
     "metadata": {},
     "output_type": "execute_result"
    }
   ],
   "source": [
    "ridge_mod.get_params()"
   ]
  },
  {
   "cell_type": "code",
   "execution_count": 84,
   "id": "ddcaafe5",
   "metadata": {},
   "outputs": [],
   "source": [
    "ridge_params = { \"alpha\" : Real(1e-3, 5), \"solver\" : Categorical(['auto', 'svd', 'cholesky', 'lsqr', 'sparse_cg', 'sag',\n",
    "                                                                 'saga'])}"
   ]
  },
  {
   "cell_type": "code",
   "execution_count": 85,
   "id": "5f75eeb2",
   "metadata": {},
   "outputs": [],
   "source": [
    "ridge_reg_search = BayesSearchCV(ridge_mod, ridge_params, cv=5 )"
   ]
  },
  {
   "cell_type": "code",
   "execution_count": 86,
   "id": "8a8858cf",
   "metadata": {},
   "outputs": [
    {
     "data": {
      "text/plain": [
       "BayesSearchCV(cv=5, estimator=Ridge(),\n",
       "              search_spaces={'alpha': Real(low=0.001, high=5, prior='uniform', transform='normalize'),\n",
       "                             'solver': Categorical(categories=('auto', 'svd', 'cholesky', 'lsqr', 'sparse_cg', 'sag', 'saga'), prior=None)})"
      ]
     },
     "execution_count": 86,
     "metadata": {},
     "output_type": "execute_result"
    }
   ],
   "source": [
    "ridge_reg_search.fit(std_X_train, Y_train)"
   ]
  },
  {
   "cell_type": "code",
   "execution_count": 87,
   "id": "870d19cc",
   "metadata": {},
   "outputs": [
    {
     "data": {
      "text/plain": [
       "OrderedDict([('alpha', 0.21088516215055533), ('solver', 'sparse_cg')])"
      ]
     },
     "execution_count": 87,
     "metadata": {},
     "output_type": "execute_result"
    }
   ],
   "source": [
    "ridge_reg_search.best_params_"
   ]
  },
  {
   "cell_type": "code",
   "execution_count": 88,
   "id": "79623f0b",
   "metadata": {},
   "outputs": [
    {
     "data": {
      "text/plain": [
       "0.755567125187547"
      ]
     },
     "execution_count": 88,
     "metadata": {},
     "output_type": "execute_result"
    }
   ],
   "source": [
    "ridge_reg_search.best_score_"
   ]
  },
  {
   "cell_type": "code",
   "execution_count": 89,
   "id": "6b96cd70",
   "metadata": {},
   "outputs": [],
   "source": [
    "Y_pred_ridge = ridge_reg_search.predict(std_X_test)"
   ]
  },
  {
   "cell_type": "code",
   "execution_count": 90,
   "id": "be0ee5fe",
   "metadata": {},
   "outputs": [
    {
     "name": "stdout",
     "output_type": "stream",
     "text": [
      "0.7690866893082947\n"
     ]
    }
   ],
   "source": [
    "ridge_score = r2_score(Y_test, Y_pred_ridge)\n",
    "print(ridge_score)"
   ]
  },
  {
   "cell_type": "code",
   "execution_count": 91,
   "id": "b2d0f416",
   "metadata": {},
   "outputs": [
    {
     "data": {
      "text/plain": [
       "{'alpha': 0.9,\n",
       " 'ccp_alpha': 0.0,\n",
       " 'criterion': 'friedman_mse',\n",
       " 'init': None,\n",
       " 'learning_rate': 0.1,\n",
       " 'loss': 'squared_error',\n",
       " 'max_depth': 3,\n",
       " 'max_features': None,\n",
       " 'max_leaf_nodes': None,\n",
       " 'min_impurity_decrease': 0.0,\n",
       " 'min_samples_leaf': 1,\n",
       " 'min_samples_split': 2,\n",
       " 'min_weight_fraction_leaf': 0.0,\n",
       " 'n_estimators': 100,\n",
       " 'n_iter_no_change': None,\n",
       " 'random_state': None,\n",
       " 'subsample': 1.0,\n",
       " 'tol': 0.0001,\n",
       " 'validation_fraction': 0.1,\n",
       " 'verbose': 0,\n",
       " 'warm_start': False}"
      ]
     },
     "execution_count": 91,
     "metadata": {},
     "output_type": "execute_result"
    }
   ],
   "source": [
    "GBM.get_params()"
   ]
  },
  {
   "cell_type": "code",
   "execution_count": 92,
   "id": "084fea94",
   "metadata": {},
   "outputs": [],
   "source": [
    "GBM_params = { \"loss\" : Categorical(['squared_error', 'absolute_error', 'huber', 'quantile']), \"learning_rate\" : Real(0.01, 3),\n",
    "              \"n_estimators\" : Integer(50,250), \"subsample\" : Real(0.01, 1), \"min_samples_split\" : Real(0.01, 1),\n",
    "              \"min_samples_leaf\" : Integer(1,10), \"min_weight_fraction_leaf\" : Real(0.01, 0.5), \"max_depth\" : Integer(1,10), \n",
    "              \"min_impurity_decrease\" : Real(0.01, 5), \"max_features\" : Real(0.01, 1), \"alpha\" : Real(0.01,0.99)}"
   ]
  },
  {
   "cell_type": "code",
   "execution_count": 93,
   "id": "9a2962cd",
   "metadata": {},
   "outputs": [],
   "source": [
    "GBM_reg_search = BayesSearchCV(GBM, GBM_params, cv=5 )"
   ]
  },
  {
   "cell_type": "code",
   "execution_count": 94,
   "id": "9053a62a",
   "metadata": {},
   "outputs": [
    {
     "data": {
      "text/plain": [
       "BayesSearchCV(cv=5, estimator=GradientBoostingRegressor(),\n",
       "              search_spaces={'alpha': Real(low=0.01, high=0.99, prior='uniform', transform='normalize'),\n",
       "                             'learning_rate': Real(low=0.01, high=3, prior='uniform', transform='normalize'),\n",
       "                             'loss': Categorical(categories=('squared_error', 'absolute_error', 'huber', 'quantile'), prior=None),\n",
       "                             'max_depth': Integer(low=1, high=10, p...\n",
       "                             'min_samples_leaf': Integer(low=1, high=10, prior='uniform', transform='normalize'),\n",
       "                             'min_samples_split': Real(low=0.01, high=1, prior='uniform', transform='normalize'),\n",
       "                             'min_weight_fraction_leaf': Real(low=0.01, high=0.5, prior='uniform', transform='normalize'),\n",
       "                             'n_estimators': Integer(low=50, high=250, prior='uniform', transform='normalize'),\n",
       "                             'subsample': Real(low=0.01, high=1, prior='uniform', transform='normalize')})"
      ]
     },
     "execution_count": 94,
     "metadata": {},
     "output_type": "execute_result"
    }
   ],
   "source": [
    "GBM_reg_search.fit(std_X_train, Y_train.values.ravel())"
   ]
  },
  {
   "cell_type": "code",
   "execution_count": 95,
   "id": "16a2a28a",
   "metadata": {},
   "outputs": [
    {
     "data": {
      "text/plain": [
       "OrderedDict([('alpha', 0.49010506219687483),\n",
       "             ('learning_rate', 0.7945956722127381),\n",
       "             ('loss', 'huber'),\n",
       "             ('max_depth', 8),\n",
       "             ('max_features', 0.6717312975370129),\n",
       "             ('min_impurity_decrease', 2.033115987170933),\n",
       "             ('min_samples_leaf', 4),\n",
       "             ('min_samples_split', 0.16120305749518216),\n",
       "             ('min_weight_fraction_leaf', 0.2528527207248502),\n",
       "             ('n_estimators', 141),\n",
       "             ('subsample', 0.1795756003907998)])"
      ]
     },
     "execution_count": 95,
     "metadata": {},
     "output_type": "execute_result"
    }
   ],
   "source": [
    "GBM_reg_search.best_params_"
   ]
  },
  {
   "cell_type": "code",
   "execution_count": 96,
   "id": "ebb854d6",
   "metadata": {},
   "outputs": [
    {
     "data": {
      "text/plain": [
       "0.33847202870527476"
      ]
     },
     "execution_count": 96,
     "metadata": {},
     "output_type": "execute_result"
    }
   ],
   "source": [
    "GBM_reg_search.best_score_"
   ]
  },
  {
   "cell_type": "code",
   "execution_count": 97,
   "id": "8e44b49a",
   "metadata": {},
   "outputs": [
    {
     "data": {
      "text/plain": [
       "{'C': 1.0,\n",
       " 'cache_size': 200,\n",
       " 'coef0': 0.0,\n",
       " 'degree': 3,\n",
       " 'epsilon': 0.1,\n",
       " 'gamma': 'scale',\n",
       " 'kernel': 'linear',\n",
       " 'max_iter': -1,\n",
       " 'shrinking': True,\n",
       " 'tol': 0.001,\n",
       " 'verbose': False}"
      ]
     },
     "execution_count": 97,
     "metadata": {},
     "output_type": "execute_result"
    }
   ],
   "source": [
    "svm_mod.get_params()"
   ]
  },
  {
   "cell_type": "code",
   "execution_count": 98,
   "id": "58f94538",
   "metadata": {},
   "outputs": [],
   "source": [
    "svm = SVR()"
   ]
  },
  {
   "cell_type": "code",
   "execution_count": 99,
   "id": "f8a2de28",
   "metadata": {},
   "outputs": [],
   "source": [
    "svm_params = { \"kernel\" : Categorical(['linear', 'poly', 'rbf', 'sigmoid']), \"degree\" : Integer(1,10), \n",
    "              \"gamma\" : Real(1e-3, 1), \"coef0\" : Real(0,2), \"C\" : Real(0.1, 5), \"epsilon\" : Real(0.01, 1) }"
   ]
  },
  {
   "cell_type": "code",
   "execution_count": 100,
   "id": "9eb2efdf",
   "metadata": {},
   "outputs": [],
   "source": [
    "svm_reg_search =  BayesSearchCV(svm, svm_params, cv=5 )"
   ]
  },
  {
   "cell_type": "code",
   "execution_count": 101,
   "id": "683007cd",
   "metadata": {},
   "outputs": [
    {
     "data": {
      "text/plain": [
       "BayesSearchCV(cv=5, estimator=SVR(),\n",
       "              search_spaces={'C': Real(low=0.1, high=5, prior='uniform', transform='normalize'),\n",
       "                             'coef0': Real(low=0, high=2, prior='uniform', transform='normalize'),\n",
       "                             'degree': Integer(low=1, high=10, prior='uniform', transform='normalize'),\n",
       "                             'epsilon': Real(low=0.01, high=1, prior='uniform', transform='normalize'),\n",
       "                             'gamma': Real(low=0.001, high=1, prior='uniform', transform='normalize'),\n",
       "                             'kernel': Categorical(categories=('linear', 'poly', 'rbf', 'sigmoid'), prior=None)})"
      ]
     },
     "execution_count": 101,
     "metadata": {},
     "output_type": "execute_result"
    }
   ],
   "source": [
    "svm_reg_search.fit(std_X_train, Y_train.values.ravel())"
   ]
  },
  {
   "cell_type": "code",
   "execution_count": 102,
   "id": "de635659",
   "metadata": {},
   "outputs": [
    {
     "data": {
      "text/plain": [
       "OrderedDict([('C', 3.49691907603591),\n",
       "             ('coef0', 1.955984306291129),\n",
       "             ('degree', 5),\n",
       "             ('epsilon', 0.5348915990639318),\n",
       "             ('gamma', 0.13985841410597288),\n",
       "             ('kernel', 'linear')])"
      ]
     },
     "execution_count": 102,
     "metadata": {},
     "output_type": "execute_result"
    }
   ],
   "source": [
    "svm_reg_search.best_params_"
   ]
  },
  {
   "cell_type": "code",
   "execution_count": 103,
   "id": "de8fc102",
   "metadata": {},
   "outputs": [
    {
     "data": {
      "text/plain": [
       "0.48980103990273804"
      ]
     },
     "execution_count": 103,
     "metadata": {},
     "output_type": "execute_result"
    }
   ],
   "source": [
    "svm_reg_search.best_score_"
   ]
  },
  {
   "cell_type": "code",
   "execution_count": null,
   "id": "67e332e2",
   "metadata": {},
   "outputs": [],
   "source": []
  }
 ],
 "metadata": {
  "kernelspec": {
   "display_name": "Python 3 (ipykernel)",
   "language": "python",
   "name": "python3"
  },
  "language_info": {
   "codemirror_mode": {
    "name": "ipython",
    "version": 3
   },
   "file_extension": ".py",
   "mimetype": "text/x-python",
   "name": "python",
   "nbconvert_exporter": "python",
   "pygments_lexer": "ipython3",
   "version": "3.9.12"
  }
 },
 "nbformat": 4,
 "nbformat_minor": 5
}
