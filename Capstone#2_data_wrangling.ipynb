{
 "cells": [
  {
   "cell_type": "markdown",
   "id": "3f029bde",
   "metadata": {},
   "source": [
    "## Importing packages needed"
   ]
  },
  {
   "cell_type": "code",
   "execution_count": 1,
   "id": "f389abd1",
   "metadata": {
    "ExecuteTime": {
     "end_time": "2022-12-22T19:26:16.667578Z",
     "start_time": "2022-12-22T19:26:15.636161Z"
    }
   },
   "outputs": [],
   "source": [
    "import os\n",
    "import pandas as pd\n",
    "import matplotlib.pyplot as plt\n",
    "import glob\n",
    "from pathlib import Path"
   ]
  },
  {
   "cell_type": "markdown",
   "id": "bf43f993",
   "metadata": {},
   "source": [
    "## Importing FitBit Data"
   ]
  },
  {
   "cell_type": "code",
   "execution_count": 2,
   "id": "a6cf0dad",
   "metadata": {
    "ExecuteTime": {
     "end_time": "2022-12-22T19:26:20.441326Z",
     "start_time": "2022-12-22T19:26:16.668891Z"
    }
   },
   "outputs": [],
   "source": [
    "filepath = r'C:\\Users\\63sha\\OneDrive\\Desktop\\Springboard\\Capstone_2\\Fitabase Data 4.12.16-5.12.16'\n",
    "\n",
    "files = glob.glob( filepath + \"\\*.csv\")\n",
    "\n",
    "# creating dictionary to name and store all csv files\n",
    "\n",
    "df_dict = dict()\n",
    "\n",
    "for filename in files:\n",
    "    \n",
    "    name_df = os.path.basename(filename)\n",
    "    name_df = name_df.replace('_merged.csv','')\n",
    "    df_dict[name_df] = pd.read_csv(filename)\n",
    "\n",
    "\n"
   ]
  },
  {
   "cell_type": "code",
   "execution_count": 3,
   "id": "7335b4a8",
   "metadata": {
    "ExecuteTime": {
     "end_time": "2022-12-22T19:26:20.457269Z",
     "start_time": "2022-12-22T19:26:20.443234Z"
    }
   },
   "outputs": [
    {
     "name": "stdout",
     "output_type": "stream",
     "text": [
      "dict_keys(['dailyActivity', 'dailyCalories', 'dailyIntensities', 'dailySteps', 'heartrate_seconds', 'hourlyCalories', 'hourlyIntensities', 'hourlySteps', 'minuteCaloriesNarrow', 'minuteCaloriesWide', 'minuteIntensitiesNarrow', 'minuteIntensitiesWide', 'minuteMETsNarrow', 'minuteSleep', 'minuteStepsNarrow', 'minuteStepsWide', 'sleepDay', 'weightLogInfo'])\n"
     ]
    }
   ],
   "source": [
    "# list of our dataframes\n",
    "\n",
    "print(df_dict.keys())"
   ]
  },
  {
   "cell_type": "markdown",
   "id": "9bc8111c",
   "metadata": {},
   "source": [
    "## Our first dataframe"
   ]
  },
  {
   "cell_type": "code",
   "execution_count": 4,
   "id": "6750ae92",
   "metadata": {
    "ExecuteTime": {
     "end_time": "2022-12-22T19:26:20.473257Z",
     "start_time": "2022-12-22T19:26:20.458185Z"
    }
   },
   "outputs": [
    {
     "name": "stdout",
     "output_type": "stream",
     "text": [
      "             Id ActivityDate  TotalSteps  TotalDistance  TrackerDistance  \\\n",
      "0    1503960366    4/12/2016       13162       8.500000         8.500000   \n",
      "1    1503960366    4/13/2016       10735       6.970000         6.970000   \n",
      "2    1503960366    4/14/2016       10460       6.740000         6.740000   \n",
      "3    1503960366    4/15/2016        9762       6.280000         6.280000   \n",
      "4    1503960366    4/16/2016       12669       8.160000         8.160000   \n",
      "..          ...          ...         ...            ...              ...   \n",
      "935  8877689391     5/8/2016       10686       8.110000         8.110000   \n",
      "936  8877689391     5/9/2016       20226      18.250000        18.250000   \n",
      "937  8877689391    5/10/2016       10733       8.150000         8.150000   \n",
      "938  8877689391    5/11/2016       21420      19.559999        19.559999   \n",
      "939  8877689391    5/12/2016        8064       6.120000         6.120000   \n",
      "\n",
      "     LoggedActivitiesDistance  VeryActiveDistance  ModeratelyActiveDistance  \\\n",
      "0                         0.0                1.88                      0.55   \n",
      "1                         0.0                1.57                      0.69   \n",
      "2                         0.0                2.44                      0.40   \n",
      "3                         0.0                2.14                      1.26   \n",
      "4                         0.0                2.71                      0.41   \n",
      "..                        ...                 ...                       ...   \n",
      "935                       0.0                1.08                      0.20   \n",
      "936                       0.0               11.10                      0.80   \n",
      "937                       0.0                1.35                      0.46   \n",
      "938                       0.0               13.22                      0.41   \n",
      "939                       0.0                1.82                      0.04   \n",
      "\n",
      "     LightActiveDistance  SedentaryActiveDistance  VeryActiveMinutes  \\\n",
      "0                   6.06                     0.00                 25   \n",
      "1                   4.71                     0.00                 21   \n",
      "2                   3.91                     0.00                 30   \n",
      "3                   2.83                     0.00                 29   \n",
      "4                   5.04                     0.00                 36   \n",
      "..                   ...                      ...                ...   \n",
      "935                 6.80                     0.00                 17   \n",
      "936                 6.24                     0.05                 73   \n",
      "937                 6.28                     0.00                 18   \n",
      "938                 5.89                     0.00                 88   \n",
      "939                 4.25                     0.00                 23   \n",
      "\n",
      "     FairlyActiveMinutes  LightlyActiveMinutes  SedentaryMinutes  Calories  \n",
      "0                     13                   328               728      1985  \n",
      "1                     19                   217               776      1797  \n",
      "2                     11                   181              1218      1776  \n",
      "3                     34                   209               726      1745  \n",
      "4                     10                   221               773      1863  \n",
      "..                   ...                   ...               ...       ...  \n",
      "935                    4                   245              1174      2847  \n",
      "936                   19                   217              1131      3710  \n",
      "937                   11                   224              1187      2832  \n",
      "938                   12                   213              1127      3832  \n",
      "939                    1                   137               770      1849  \n",
      "\n",
      "[940 rows x 15 columns]\n"
     ]
    }
   ],
   "source": [
    "# Take a look at our first dataframe\n",
    "\n",
    "print(df_dict['dailyActivity'])"
   ]
  },
  {
   "cell_type": "code",
   "execution_count": 5,
   "id": "500800eb",
   "metadata": {
    "ExecuteTime": {
     "end_time": "2022-12-22T19:26:20.489099Z",
     "start_time": "2022-12-22T19:26:20.475248Z"
    }
   },
   "outputs": [],
   "source": [
    "# naming and separating our first dataframe from our dictionary\n",
    "\n",
    "dirtyDA = df_dict['dailyActivity']"
   ]
  },
  {
   "cell_type": "code",
   "execution_count": 6,
   "id": "641669c8",
   "metadata": {
    "ExecuteTime": {
     "end_time": "2022-12-22T19:26:20.505140Z",
     "start_time": "2022-12-22T19:26:20.490096Z"
    }
   },
   "outputs": [
    {
     "name": "stdout",
     "output_type": "stream",
     "text": [
      "Id                          0\n",
      "ActivityDate                0\n",
      "TotalSteps                  0\n",
      "TotalDistance               0\n",
      "TrackerDistance             0\n",
      "LoggedActivitiesDistance    0\n",
      "VeryActiveDistance          0\n",
      "ModeratelyActiveDistance    0\n",
      "LightActiveDistance         0\n",
      "SedentaryActiveDistance     0\n",
      "VeryActiveMinutes           0\n",
      "FairlyActiveMinutes         0\n",
      "LightlyActiveMinutes        0\n",
      "SedentaryMinutes            0\n",
      "Calories                    0\n",
      "dtype: int64\n"
     ]
    }
   ],
   "source": [
    "# Checking for any missing values\n",
    "\n",
    "counts = dirtyDA.isna().sum()\n",
    "print(counts.sort_values())"
   ]
  },
  {
   "cell_type": "code",
   "execution_count": 7,
   "id": "92a39499",
   "metadata": {
    "ExecuteTime": {
     "end_time": "2022-12-22T19:26:20.520683Z",
     "start_time": "2022-12-22T19:26:20.506051Z"
    }
   },
   "outputs": [
    {
     "name": "stdout",
     "output_type": "stream",
     "text": [
      "Count of zeros in column  Id  is :  0\n",
      "Count of zeros in column  ActivityDate  is :  0\n",
      "Count of zeros in column  TotalSteps  is :  77\n",
      "Count of zeros in column  TotalDistance  is :  78\n",
      "Count of zeros in column  TrackerDistance  is :  78\n",
      "Count of zeros in column  LoggedActivitiesDistance  is :  908\n",
      "Count of zeros in column  VeryActiveDistance  is :  413\n",
      "Count of zeros in column  ModeratelyActiveDistance  is :  386\n",
      "Count of zeros in column  LightActiveDistance  is :  85\n",
      "Count of zeros in column  SedentaryActiveDistance  is :  858\n",
      "Count of zeros in column  VeryActiveMinutes  is :  409\n",
      "Count of zeros in column  FairlyActiveMinutes  is :  384\n",
      "Count of zeros in column  LightlyActiveMinutes  is :  84\n",
      "Count of zeros in column  SedentaryMinutes  is :  1\n",
      "Count of zeros in column  Calories  is :  4\n"
     ]
    }
   ],
   "source": [
    "# Since several of our columns are intergers, we want to check and see howe many rows we got where the data shows zero and \n",
    "# determine whether this number is accurate for our variable\n",
    "\n",
    "for column_name in dirtyDA.columns:\n",
    "    column = dirtyDA[column_name]\n",
    "    # Get the count of Zeros in column \n",
    "    count = (column == 0).sum()\n",
    "    print('Count of zeros in column ', column_name, ' is : ', count)"
   ]
  },
  {
   "cell_type": "code",
   "execution_count": 8,
   "id": "62dedff2",
   "metadata": {
    "ExecuteTime": {
     "end_time": "2022-12-22T19:26:20.536139Z",
     "start_time": "2022-12-22T19:26:20.521645Z"
    }
   },
   "outputs": [],
   "source": [
    "# Several columns show zeros, with a couple having the majority of data as zero. SOme of this may be accurate while other\n",
    "# columns might not be. We'll take a look at the Logged activity distance and see what these rows can show us"
   ]
  },
  {
   "cell_type": "code",
   "execution_count": 9,
   "id": "e51d81a0",
   "metadata": {
    "ExecuteTime": {
     "end_time": "2022-12-22T19:26:20.552096Z",
     "start_time": "2022-12-22T19:26:20.538132Z"
    }
   },
   "outputs": [
    {
     "data": {
      "text/plain": [
       "count    940.000000\n",
       "mean       0.108171\n",
       "std        0.619897\n",
       "min        0.000000\n",
       "25%        0.000000\n",
       "50%        0.000000\n",
       "75%        0.000000\n",
       "max        4.942142\n",
       "Name: LoggedActivitiesDistance, dtype: float64"
      ]
     },
     "execution_count": 9,
     "metadata": {},
     "output_type": "execute_result"
    }
   ],
   "source": [
    "# This particular vcariable tracks when the user logs that they are exercising in some manner and has to be manuallly \n",
    "# initiated by user. Looking at our describe method on this column, i dont think this will help our predictive model with so\n",
    "# little real data.\n",
    "\n",
    "dirtyDA['LoggedActivitiesDistance'].describe()"
   ]
  },
  {
   "cell_type": "code",
   "execution_count": 10,
   "id": "8d71bc10",
   "metadata": {
    "ExecuteTime": {
     "end_time": "2022-12-22T19:26:20.567331Z",
     "start_time": "2022-12-22T19:26:20.553083Z"
    }
   },
   "outputs": [],
   "source": [
    "# dropping the column\n",
    "\n",
    "dirtyDA = dirtyDA.drop('LoggedActivitiesDistance', axis=1)"
   ]
  },
  {
   "cell_type": "code",
   "execution_count": 11,
   "id": "ca158871",
   "metadata": {
    "ExecuteTime": {
     "end_time": "2022-12-22T19:26:20.582551Z",
     "start_time": "2022-12-22T19:26:20.568327Z"
    }
   },
   "outputs": [
    {
     "data": {
      "text/plain": [
       "(940, 14)"
      ]
     },
     "execution_count": 11,
     "metadata": {},
     "output_type": "execute_result"
    }
   ],
   "source": [
    "# looking at the amount of data we are still working with\n",
    "\n",
    "dirtyDA.shape"
   ]
  },
  {
   "cell_type": "code",
   "execution_count": 12,
   "id": "7f72a5b6",
   "metadata": {
    "ExecuteTime": {
     "end_time": "2022-12-22T19:26:20.597852Z",
     "start_time": "2022-12-22T19:26:20.583610Z"
    }
   },
   "outputs": [
    {
     "name": "stdout",
     "output_type": "stream",
     "text": [
      "Id                            int64\n",
      "ActivityDate                 object\n",
      "TotalSteps                    int64\n",
      "TotalDistance               float64\n",
      "TrackerDistance             float64\n",
      "VeryActiveDistance          float64\n",
      "ModeratelyActiveDistance    float64\n",
      "LightActiveDistance         float64\n",
      "SedentaryActiveDistance     float64\n",
      "VeryActiveMinutes             int64\n",
      "FairlyActiveMinutes           int64\n",
      "LightlyActiveMinutes          int64\n",
      "SedentaryMinutes              int64\n",
      "Calories                      int64\n",
      "dtype: object\n"
     ]
    }
   ],
   "source": [
    "# checking for correct data types\n",
    "\n",
    "print(dirtyDA.dtypes)"
   ]
  },
  {
   "cell_type": "code",
   "execution_count": 13,
   "id": "d617858a",
   "metadata": {
    "ExecuteTime": {
     "end_time": "2022-12-22T19:26:20.613309Z",
     "start_time": "2022-12-22T19:26:20.598848Z"
    }
   },
   "outputs": [],
   "source": [
    "# These two columns should be equal unless gps loses our user's location, the system then has to estimate distance based on\n",
    "# steps. To keep the data as accurate as possible, we are only gonna use the tracker dsistance and only keeping rows where these\n",
    "# rows are equal.\n",
    "\n",
    "dirtyDA = dirtyDA[dirtyDA['TotalDistance'] == dirtyDA['TrackerDistance']]"
   ]
  },
  {
   "cell_type": "code",
   "execution_count": 14,
   "id": "129fcaf8",
   "metadata": {
    "ExecuteTime": {
     "end_time": "2022-12-22T19:26:20.628576Z",
     "start_time": "2022-12-22T19:26:20.614305Z"
    }
   },
   "outputs": [],
   "source": [
    "# dropping the column\n",
    "\n",
    "dirtyDA = dirtyDA.drop('TotalDistance', axis=1)"
   ]
  },
  {
   "cell_type": "code",
   "execution_count": 15,
   "id": "5c1578a5",
   "metadata": {
    "ExecuteTime": {
     "end_time": "2022-12-22T19:26:20.643872Z",
     "start_time": "2022-12-22T19:26:20.629714Z"
    }
   },
   "outputs": [
    {
     "data": {
      "text/plain": [
       "(925, 13)"
      ]
     },
     "execution_count": 15,
     "metadata": {},
     "output_type": "execute_result"
    }
   ],
   "source": [
    "# checking our data, we removed one column and 15 rows where the tracker distance and total distance did not match\n",
    "\n",
    "dirtyDA.shape"
   ]
  },
  {
   "cell_type": "code",
   "execution_count": 16,
   "id": "eddb6b09",
   "metadata": {
    "ExecuteTime": {
     "end_time": "2022-12-22T19:26:20.659013Z",
     "start_time": "2022-12-22T19:26:20.644753Z"
    }
   },
   "outputs": [
    {
     "data": {
      "text/html": [
       "<div>\n",
       "<style scoped>\n",
       "    .dataframe tbody tr th:only-of-type {\n",
       "        vertical-align: middle;\n",
       "    }\n",
       "\n",
       "    .dataframe tbody tr th {\n",
       "        vertical-align: top;\n",
       "    }\n",
       "\n",
       "    .dataframe thead th {\n",
       "        text-align: right;\n",
       "    }\n",
       "</style>\n",
       "<table border=\"1\" class=\"dataframe\">\n",
       "  <thead>\n",
       "    <tr style=\"text-align: right;\">\n",
       "      <th></th>\n",
       "      <th>Id</th>\n",
       "      <th>ActivityDate</th>\n",
       "      <th>TotalSteps</th>\n",
       "      <th>TrackerDistance</th>\n",
       "      <th>VeryActiveDistance</th>\n",
       "      <th>ModeratelyActiveDistance</th>\n",
       "      <th>LightActiveDistance</th>\n",
       "      <th>SedentaryActiveDistance</th>\n",
       "      <th>VeryActiveMinutes</th>\n",
       "      <th>FairlyActiveMinutes</th>\n",
       "      <th>LightlyActiveMinutes</th>\n",
       "      <th>SedentaryMinutes</th>\n",
       "      <th>Calories</th>\n",
       "    </tr>\n",
       "  </thead>\n",
       "  <tbody>\n",
       "    <tr>\n",
       "      <th>0</th>\n",
       "      <td>1503960366</td>\n",
       "      <td>4/12/2016</td>\n",
       "      <td>13162</td>\n",
       "      <td>8.50</td>\n",
       "      <td>1.88</td>\n",
       "      <td>0.55</td>\n",
       "      <td>6.06</td>\n",
       "      <td>0.0</td>\n",
       "      <td>25</td>\n",
       "      <td>13</td>\n",
       "      <td>328</td>\n",
       "      <td>728</td>\n",
       "      <td>1985</td>\n",
       "    </tr>\n",
       "    <tr>\n",
       "      <th>1</th>\n",
       "      <td>1503960366</td>\n",
       "      <td>4/13/2016</td>\n",
       "      <td>10735</td>\n",
       "      <td>6.97</td>\n",
       "      <td>1.57</td>\n",
       "      <td>0.69</td>\n",
       "      <td>4.71</td>\n",
       "      <td>0.0</td>\n",
       "      <td>21</td>\n",
       "      <td>19</td>\n",
       "      <td>217</td>\n",
       "      <td>776</td>\n",
       "      <td>1797</td>\n",
       "    </tr>\n",
       "    <tr>\n",
       "      <th>2</th>\n",
       "      <td>1503960366</td>\n",
       "      <td>4/14/2016</td>\n",
       "      <td>10460</td>\n",
       "      <td>6.74</td>\n",
       "      <td>2.44</td>\n",
       "      <td>0.40</td>\n",
       "      <td>3.91</td>\n",
       "      <td>0.0</td>\n",
       "      <td>30</td>\n",
       "      <td>11</td>\n",
       "      <td>181</td>\n",
       "      <td>1218</td>\n",
       "      <td>1776</td>\n",
       "    </tr>\n",
       "    <tr>\n",
       "      <th>3</th>\n",
       "      <td>1503960366</td>\n",
       "      <td>4/15/2016</td>\n",
       "      <td>9762</td>\n",
       "      <td>6.28</td>\n",
       "      <td>2.14</td>\n",
       "      <td>1.26</td>\n",
       "      <td>2.83</td>\n",
       "      <td>0.0</td>\n",
       "      <td>29</td>\n",
       "      <td>34</td>\n",
       "      <td>209</td>\n",
       "      <td>726</td>\n",
       "      <td>1745</td>\n",
       "    </tr>\n",
       "    <tr>\n",
       "      <th>4</th>\n",
       "      <td>1503960366</td>\n",
       "      <td>4/16/2016</td>\n",
       "      <td>12669</td>\n",
       "      <td>8.16</td>\n",
       "      <td>2.71</td>\n",
       "      <td>0.41</td>\n",
       "      <td>5.04</td>\n",
       "      <td>0.0</td>\n",
       "      <td>36</td>\n",
       "      <td>10</td>\n",
       "      <td>221</td>\n",
       "      <td>773</td>\n",
       "      <td>1863</td>\n",
       "    </tr>\n",
       "  </tbody>\n",
       "</table>\n",
       "</div>"
      ],
      "text/plain": [
       "           Id ActivityDate  TotalSteps  TrackerDistance  VeryActiveDistance  \\\n",
       "0  1503960366    4/12/2016       13162             8.50                1.88   \n",
       "1  1503960366    4/13/2016       10735             6.97                1.57   \n",
       "2  1503960366    4/14/2016       10460             6.74                2.44   \n",
       "3  1503960366    4/15/2016        9762             6.28                2.14   \n",
       "4  1503960366    4/16/2016       12669             8.16                2.71   \n",
       "\n",
       "   ModeratelyActiveDistance  LightActiveDistance  SedentaryActiveDistance  \\\n",
       "0                      0.55                 6.06                      0.0   \n",
       "1                      0.69                 4.71                      0.0   \n",
       "2                      0.40                 3.91                      0.0   \n",
       "3                      1.26                 2.83                      0.0   \n",
       "4                      0.41                 5.04                      0.0   \n",
       "\n",
       "   VeryActiveMinutes  FairlyActiveMinutes  LightlyActiveMinutes  \\\n",
       "0                 25                   13                   328   \n",
       "1                 21                   19                   217   \n",
       "2                 30                   11                   181   \n",
       "3                 29                   34                   209   \n",
       "4                 36                   10                   221   \n",
       "\n",
       "   SedentaryMinutes  Calories  \n",
       "0               728      1985  \n",
       "1               776      1797  \n",
       "2              1218      1776  \n",
       "3               726      1745  \n",
       "4               773      1863  "
      ]
     },
     "execution_count": 16,
     "metadata": {},
     "output_type": "execute_result"
    }
   ],
   "source": [
    "# taking a glance at our dataframe\n",
    "\n",
    "dirtyDA.head()"
   ]
  },
  {
   "cell_type": "code",
   "execution_count": 17,
   "id": "6a07184e",
   "metadata": {
    "ExecuteTime": {
     "end_time": "2022-12-22T19:26:20.674960Z",
     "start_time": "2022-12-22T19:26:20.660025Z"
    }
   },
   "outputs": [],
   "source": [
    "# changing the ID data type to string from interger\n",
    "\n",
    "dirtyDA['Id'] = dirtyDA.Id.astype(str)"
   ]
  },
  {
   "cell_type": "code",
   "execution_count": 18,
   "id": "682ac695",
   "metadata": {
    "ExecuteTime": {
     "end_time": "2022-12-22T19:26:20.691129Z",
     "start_time": "2022-12-22T19:26:20.676956Z"
    }
   },
   "outputs": [],
   "source": [
    "# changing type to a datetime\n",
    "\n",
    "dirtyDA['ActivityDate'] = pd.to_datetime(dirtyDA['ActivityDate'])"
   ]
  },
  {
   "cell_type": "code",
   "execution_count": 19,
   "id": "da6c67f1",
   "metadata": {
    "ExecuteTime": {
     "end_time": "2022-12-22T19:26:20.707172Z",
     "start_time": "2022-12-22T19:26:20.693040Z"
    }
   },
   "outputs": [
    {
     "data": {
      "text/plain": [
       "Id                                  object\n",
       "ActivityDate                datetime64[ns]\n",
       "TotalSteps                           int64\n",
       "TrackerDistance                    float64\n",
       "VeryActiveDistance                 float64\n",
       "ModeratelyActiveDistance           float64\n",
       "LightActiveDistance                float64\n",
       "SedentaryActiveDistance            float64\n",
       "VeryActiveMinutes                    int64\n",
       "FairlyActiveMinutes                  int64\n",
       "LightlyActiveMinutes                 int64\n",
       "SedentaryMinutes                     int64\n",
       "Calories                             int64\n",
       "dtype: object"
      ]
     },
     "execution_count": 19,
     "metadata": {},
     "output_type": "execute_result"
    }
   ],
   "source": [
    "# Checking our changes\n",
    "\n",
    "dirtyDA.dtypes"
   ]
  },
  {
   "cell_type": "code",
   "execution_count": 20,
   "id": "32fef240",
   "metadata": {
    "ExecuteTime": {
     "end_time": "2022-12-22T19:26:20.722309Z",
     "start_time": "2022-12-22T19:26:20.709155Z"
    }
   },
   "outputs": [
    {
     "data": {
      "text/plain": [
       "33"
      ]
     },
     "execution_count": 20,
     "metadata": {},
     "output_type": "execute_result"
    }
   ],
   "source": [
    "# determining how many users are included in our data. 33 users have uploaded data into our activity file\n",
    "\n",
    "dirtyDA.Id.nunique()"
   ]
  },
  {
   "cell_type": "code",
   "execution_count": 21,
   "id": "2bc38f74",
   "metadata": {
    "ExecuteTime": {
     "end_time": "2022-12-22T19:26:20.738138Z",
     "start_time": "2022-12-22T19:26:20.723306Z"
    }
   },
   "outputs": [
    {
     "data": {
      "text/plain": [
       "31"
      ]
     },
     "execution_count": 21,
     "metadata": {},
     "output_type": "execute_result"
    }
   ],
   "source": [
    "# the users have given us data over 31 days\n",
    "\n",
    "dirtyDA.ActivityDate.nunique()"
   ]
  },
  {
   "cell_type": "code",
   "execution_count": 22,
   "id": "51e857ea",
   "metadata": {
    "ExecuteTime": {
     "end_time": "2022-12-22T19:26:20.753327Z",
     "start_time": "2022-12-22T19:26:20.739271Z"
    }
   },
   "outputs": [
    {
     "name": "stdout",
     "output_type": "stream",
     "text": [
      "Count of zeros in column  Id  is :  0\n",
      "Count of zeros in column  ActivityDate  is :  0\n",
      "Count of zeros in column  TotalSteps  is :  77\n",
      "Count of zeros in column  TrackerDistance  is :  78\n",
      "Count of zeros in column  VeryActiveDistance  is :  413\n",
      "Count of zeros in column  ModeratelyActiveDistance  is :  386\n",
      "Count of zeros in column  LightActiveDistance  is :  85\n",
      "Count of zeros in column  SedentaryActiveDistance  is :  846\n",
      "Count of zeros in column  VeryActiveMinutes  is :  409\n",
      "Count of zeros in column  FairlyActiveMinutes  is :  384\n",
      "Count of zeros in column  LightlyActiveMinutes  is :  84\n",
      "Count of zeros in column  SedentaryMinutes  is :  1\n",
      "Count of zeros in column  Calories  is :  4\n"
     ]
    }
   ],
   "source": [
    "# taking another look at the zero's in columns.\n",
    "\n",
    "for column_name in dirtyDA.columns:\n",
    "    column = dirtyDA[column_name]\n",
    "    # Get the count of Zeros in column \n",
    "    count = (column == 0).sum()\n",
    "    print('Count of zeros in column ', column_name, ' is : ', count)"
   ]
  },
  {
   "cell_type": "code",
   "execution_count": 23,
   "id": "3831f9d3",
   "metadata": {
    "ExecuteTime": {
     "end_time": "2022-12-22T19:26:20.768502Z",
     "start_time": "2022-12-22T19:26:20.754307Z"
    }
   },
   "outputs": [
    {
     "name": "stdout",
     "output_type": "stream",
     "text": [
      "             Id ActivityDate  TotalSteps  TrackerDistance  VeryActiveDistance  \\\n",
      "30   1503960366   2016-05-12           0              0.0                 0.0   \n",
      "104  1844505072   2016-04-24           0              0.0                 0.0   \n",
      "105  1844505072   2016-04-25           0              0.0                 0.0   \n",
      "106  1844505072   2016-04-26           0              0.0                 0.0   \n",
      "112  1844505072   2016-05-02           0              0.0                 0.0   \n",
      "\n",
      "     ModeratelyActiveDistance  LightActiveDistance  SedentaryActiveDistance  \\\n",
      "30                        0.0                  0.0                      0.0   \n",
      "104                       0.0                  0.0                      0.0   \n",
      "105                       0.0                  0.0                      0.0   \n",
      "106                       0.0                  0.0                      0.0   \n",
      "112                       0.0                  0.0                      0.0   \n",
      "\n",
      "     VeryActiveMinutes  FairlyActiveMinutes  LightlyActiveMinutes  \\\n",
      "30                   0                    0                     0   \n",
      "104                  0                    0                     0   \n",
      "105                  0                    0                     0   \n",
      "106                  0                    0                     0   \n",
      "112                  0                    0                     0   \n",
      "\n",
      "     SedentaryMinutes  Calories  \n",
      "30               1440         0  \n",
      "104              1440      1347  \n",
      "105              1440      1347  \n",
      "106              1440      1347  \n",
      "112              1440      1348  \n"
     ]
    }
   ],
   "source": [
    "# It seems that this data is either incorrect or the user forgot to wear their device for the particular day.\n",
    "# This data has mostly zeros and wouldnt help us with our model.\n",
    "\n",
    "print(dirtyDA[dirtyDA['TotalSteps'] == 0].head())"
   ]
  },
  {
   "cell_type": "code",
   "execution_count": 24,
   "id": "fee42957",
   "metadata": {
    "ExecuteTime": {
     "end_time": "2022-12-22T19:26:20.783722Z",
     "start_time": "2022-12-22T19:26:20.769628Z"
    }
   },
   "outputs": [],
   "source": [
    "# dropping the rows with zero steps\n",
    "\n",
    "dirtyDA = dirtyDA[dirtyDA['TotalSteps'] != 0]"
   ]
  },
  {
   "cell_type": "code",
   "execution_count": 25,
   "id": "3c938847",
   "metadata": {
    "ExecuteTime": {
     "end_time": "2022-12-22T19:26:20.799833Z",
     "start_time": "2022-12-22T19:26:20.785696Z"
    }
   },
   "outputs": [
    {
     "data": {
      "text/plain": [
       "(848, 13)"
      ]
     },
     "execution_count": 25,
     "metadata": {},
     "output_type": "execute_result"
    }
   ],
   "source": [
    "# our 940 rows has now been reduced to 848\n",
    "\n",
    "dirtyDA.shape"
   ]
  },
  {
   "cell_type": "code",
   "execution_count": 26,
   "id": "acf31c35",
   "metadata": {
    "ExecuteTime": {
     "end_time": "2022-12-22T19:26:20.815494Z",
     "start_time": "2022-12-22T19:26:20.801863Z"
    }
   },
   "outputs": [
    {
     "name": "stdout",
     "output_type": "stream",
     "text": [
      "Count of zeros in column  Id  is :  0\n",
      "Count of zeros in column  ActivityDate  is :  0\n",
      "Count of zeros in column  TotalSteps  is :  0\n",
      "Count of zeros in column  TrackerDistance  is :  1\n",
      "Count of zeros in column  VeryActiveDistance  is :  336\n",
      "Count of zeros in column  ModeratelyActiveDistance  is :  309\n",
      "Count of zeros in column  LightActiveDistance  is :  8\n",
      "Count of zeros in column  SedentaryActiveDistance  is :  769\n",
      "Count of zeros in column  VeryActiveMinutes  is :  333\n",
      "Count of zeros in column  FairlyActiveMinutes  is :  307\n",
      "Count of zeros in column  LightlyActiveMinutes  is :  7\n",
      "Count of zeros in column  SedentaryMinutes  is :  1\n",
      "Count of zeros in column  Calories  is :  0\n"
     ]
    }
   ],
   "source": [
    "# checking to make sure the data was dropped\n",
    "\n",
    "for column_name in dirtyDA.columns:\n",
    "    column = dirtyDA[column_name]\n",
    "    # Get the count of Zeros in column \n",
    "    count = (column == 0).sum()\n",
    "    print('Count of zeros in column ', column_name, ' is : ', count)"
   ]
  },
  {
   "cell_type": "code",
   "execution_count": 27,
   "id": "3a2d143a",
   "metadata": {
    "ExecuteTime": {
     "end_time": "2022-12-22T19:26:20.830911Z",
     "start_time": "2022-12-22T19:26:20.819727Z"
    }
   },
   "outputs": [
    {
     "name": "stdout",
     "output_type": "stream",
     "text": [
      "             Id ActivityDate  TotalSteps  TrackerDistance  VeryActiveDistance  \\\n",
      "107  1844505072   2016-04-27           4              0.0                 0.0   \n",
      "\n",
      "     ModeratelyActiveDistance  LightActiveDistance  SedentaryActiveDistance  \\\n",
      "107                       0.0                  0.0                      0.0   \n",
      "\n",
      "     VeryActiveMinutes  FairlyActiveMinutes  LightlyActiveMinutes  \\\n",
      "107                  0                    0                     1   \n",
      "\n",
      "     SedentaryMinutes  Calories  \n",
      "107              1439      1348  \n"
     ]
    }
   ],
   "source": [
    "# checking the lone row that shows zero distance. Seems this user only took 4 step on this day???\n",
    "\n",
    "print(dirtyDA[dirtyDA['TrackerDistance'] == 0 ])"
   ]
  },
  {
   "cell_type": "code",
   "execution_count": 28,
   "id": "26d30838",
   "metadata": {
    "ExecuteTime": {
     "end_time": "2022-12-22T19:26:20.847000Z",
     "start_time": "2022-12-22T19:26:20.831829Z"
    }
   },
   "outputs": [
    {
     "name": "stdout",
     "output_type": "stream",
     "text": [
      "             Id ActivityDate  TotalSteps  TrackerDistance  VeryActiveDistance  \\\n",
      "100  1844505072   2016-04-20           8             0.01                 0.0   \n",
      "107  1844505072   2016-04-27           4             0.00                 0.0   \n",
      "116  1844505072   2016-05-06          44             0.03                 0.0   \n",
      "264  2347167796   2016-04-29          42             0.03                 0.0   \n",
      "351  4020332650   2016-04-17          16             0.01                 0.0   \n",
      "386  4319703577   2016-04-17          29             0.02                 0.0   \n",
      "411  4319703577   2016-05-12          17             0.01                 0.0   \n",
      "675  6775888955   2016-05-03           9             0.01                 0.0   \n",
      "741  7086361926   2016-04-16          31             0.01                 0.0   \n",
      "\n",
      "     ModeratelyActiveDistance  LightActiveDistance  SedentaryActiveDistance  \\\n",
      "100                       0.0                 0.01                      0.0   \n",
      "107                       0.0                 0.00                      0.0   \n",
      "116                       0.0                 0.03                      0.0   \n",
      "264                       0.0                 0.03                      0.0   \n",
      "351                       0.0                 0.01                      0.0   \n",
      "386                       0.0                 0.02                      0.0   \n",
      "411                       0.0                 0.01                      0.0   \n",
      "675                       0.0                 0.01                      0.0   \n",
      "741                       0.0                 0.01                      0.0   \n",
      "\n",
      "     VeryActiveMinutes  FairlyActiveMinutes  LightlyActiveMinutes  \\\n",
      "100                  0                    0                     1   \n",
      "107                  0                    0                     1   \n",
      "116                  0                    0                     2   \n",
      "264                  0                    0                     4   \n",
      "351                  0                    0                     2   \n",
      "386                  0                    0                     3   \n",
      "411                  0                    0                     2   \n",
      "675                  0                    0                     1   \n",
      "741                  0                    0                     3   \n",
      "\n",
      "     SedentaryMinutes  Calories  \n",
      "100              1439      1349  \n",
      "107              1439      1348  \n",
      "116              1438      1351  \n",
      "264                 2       403  \n",
      "351              1438      1990  \n",
      "386              1363      1464  \n",
      "411                 0       257  \n",
      "675              1439      1843  \n",
      "741              1437      1635  \n"
     ]
    }
   ],
   "source": [
    "# Lets take a look at the days where steps are less than 50, counting how many there are and what the other columns show.\n",
    "# I decided to keep this data for now until we see what other data weve collected and how much we have. This could also give\n",
    "# us a base calorie count.\n",
    "\n",
    "print(dirtyDA[dirtyDA['TotalSteps'] < 50 ])"
   ]
  },
  {
   "cell_type": "code",
   "execution_count": 29,
   "id": "5cb8ff2f",
   "metadata": {
    "ExecuteTime": {
     "end_time": "2022-12-22T19:26:20.878517Z",
     "start_time": "2022-12-22T19:26:20.847987Z"
    }
   },
   "outputs": [
    {
     "data": {
      "text/html": [
       "<div>\n",
       "<style scoped>\n",
       "    .dataframe tbody tr th:only-of-type {\n",
       "        vertical-align: middle;\n",
       "    }\n",
       "\n",
       "    .dataframe tbody tr th {\n",
       "        vertical-align: top;\n",
       "    }\n",
       "\n",
       "    .dataframe thead th {\n",
       "        text-align: right;\n",
       "    }\n",
       "</style>\n",
       "<table border=\"1\" class=\"dataframe\">\n",
       "  <thead>\n",
       "    <tr style=\"text-align: right;\">\n",
       "      <th></th>\n",
       "      <th>TotalSteps</th>\n",
       "      <th>TrackerDistance</th>\n",
       "      <th>VeryActiveDistance</th>\n",
       "      <th>ModeratelyActiveDistance</th>\n",
       "      <th>LightActiveDistance</th>\n",
       "      <th>SedentaryActiveDistance</th>\n",
       "      <th>VeryActiveMinutes</th>\n",
       "      <th>FairlyActiveMinutes</th>\n",
       "      <th>LightlyActiveMinutes</th>\n",
       "      <th>SedentaryMinutes</th>\n",
       "      <th>Calories</th>\n",
       "    </tr>\n",
       "  </thead>\n",
       "  <tbody>\n",
       "    <tr>\n",
       "      <th>count</th>\n",
       "      <td>848.000000</td>\n",
       "      <td>848.000000</td>\n",
       "      <td>848.000000</td>\n",
       "      <td>848.000000</td>\n",
       "      <td>848.000000</td>\n",
       "      <td>848.000000</td>\n",
       "      <td>848.000000</td>\n",
       "      <td>848.000000</td>\n",
       "      <td>848.000000</td>\n",
       "      <td>848.000000</td>\n",
       "      <td>848.000000</td>\n",
       "    </tr>\n",
       "    <tr>\n",
       "      <th>mean</th>\n",
       "      <td>8213.482311</td>\n",
       "      <td>5.899363</td>\n",
       "      <td>1.592241</td>\n",
       "      <td>0.609210</td>\n",
       "      <td>3.610967</td>\n",
       "      <td>0.001509</td>\n",
       "      <td>22.518868</td>\n",
       "      <td>14.633255</td>\n",
       "      <td>208.333726</td>\n",
       "      <td>955.579009</td>\n",
       "      <td>2354.501179</td>\n",
       "    </tr>\n",
       "    <tr>\n",
       "      <th>std</th>\n",
       "      <td>4709.291342</td>\n",
       "      <td>3.698350</td>\n",
       "      <td>2.737739</td>\n",
       "      <td>0.906956</td>\n",
       "      <td>1.854686</td>\n",
       "      <td>0.005818</td>\n",
       "      <td>33.716116</td>\n",
       "      <td>20.538355</td>\n",
       "      <td>96.569032</td>\n",
       "      <td>281.919552</td>\n",
       "      <td>705.688206</td>\n",
       "    </tr>\n",
       "    <tr>\n",
       "      <th>min</th>\n",
       "      <td>4.000000</td>\n",
       "      <td>0.000000</td>\n",
       "      <td>0.000000</td>\n",
       "      <td>0.000000</td>\n",
       "      <td>0.000000</td>\n",
       "      <td>0.000000</td>\n",
       "      <td>0.000000</td>\n",
       "      <td>0.000000</td>\n",
       "      <td>0.000000</td>\n",
       "      <td>0.000000</td>\n",
       "      <td>52.000000</td>\n",
       "    </tr>\n",
       "    <tr>\n",
       "      <th>25%</th>\n",
       "      <td>4824.750000</td>\n",
       "      <td>3.327500</td>\n",
       "      <td>0.000000</td>\n",
       "      <td>0.000000</td>\n",
       "      <td>2.327500</td>\n",
       "      <td>0.000000</td>\n",
       "      <td>0.000000</td>\n",
       "      <td>0.000000</td>\n",
       "      <td>145.000000</td>\n",
       "      <td>721.000000</td>\n",
       "      <td>1852.750000</td>\n",
       "    </tr>\n",
       "    <tr>\n",
       "      <th>50%</th>\n",
       "      <td>7911.500000</td>\n",
       "      <td>5.540000</td>\n",
       "      <td>0.370000</td>\n",
       "      <td>0.280000</td>\n",
       "      <td>3.550000</td>\n",
       "      <td>0.000000</td>\n",
       "      <td>6.000000</td>\n",
       "      <td>8.000000</td>\n",
       "      <td>206.000000</td>\n",
       "      <td>1020.000000</td>\n",
       "      <td>2205.000000</td>\n",
       "    </tr>\n",
       "    <tr>\n",
       "      <th>75%</th>\n",
       "      <td>10821.000000</td>\n",
       "      <td>7.770000</td>\n",
       "      <td>2.142500</td>\n",
       "      <td>0.850000</td>\n",
       "      <td>4.880000</td>\n",
       "      <td>0.000000</td>\n",
       "      <td>33.000000</td>\n",
       "      <td>20.250000</td>\n",
       "      <td>270.000000</td>\n",
       "      <td>1191.000000</td>\n",
       "      <td>2819.750000</td>\n",
       "    </tr>\n",
       "    <tr>\n",
       "      <th>max</th>\n",
       "      <td>36019.000000</td>\n",
       "      <td>28.030001</td>\n",
       "      <td>21.920000</td>\n",
       "      <td>6.480000</td>\n",
       "      <td>10.710000</td>\n",
       "      <td>0.070000</td>\n",
       "      <td>210.000000</td>\n",
       "      <td>143.000000</td>\n",
       "      <td>518.000000</td>\n",
       "      <td>1440.000000</td>\n",
       "      <td>4900.000000</td>\n",
       "    </tr>\n",
       "  </tbody>\n",
       "</table>\n",
       "</div>"
      ],
      "text/plain": [
       "         TotalSteps  TrackerDistance  VeryActiveDistance  \\\n",
       "count    848.000000       848.000000          848.000000   \n",
       "mean    8213.482311         5.899363            1.592241   \n",
       "std     4709.291342         3.698350            2.737739   \n",
       "min        4.000000         0.000000            0.000000   \n",
       "25%     4824.750000         3.327500            0.000000   \n",
       "50%     7911.500000         5.540000            0.370000   \n",
       "75%    10821.000000         7.770000            2.142500   \n",
       "max    36019.000000        28.030001           21.920000   \n",
       "\n",
       "       ModeratelyActiveDistance  LightActiveDistance  SedentaryActiveDistance  \\\n",
       "count                848.000000           848.000000               848.000000   \n",
       "mean                   0.609210             3.610967                 0.001509   \n",
       "std                    0.906956             1.854686                 0.005818   \n",
       "min                    0.000000             0.000000                 0.000000   \n",
       "25%                    0.000000             2.327500                 0.000000   \n",
       "50%                    0.280000             3.550000                 0.000000   \n",
       "75%                    0.850000             4.880000                 0.000000   \n",
       "max                    6.480000            10.710000                 0.070000   \n",
       "\n",
       "       VeryActiveMinutes  FairlyActiveMinutes  LightlyActiveMinutes  \\\n",
       "count         848.000000           848.000000            848.000000   \n",
       "mean           22.518868            14.633255            208.333726   \n",
       "std            33.716116            20.538355             96.569032   \n",
       "min             0.000000             0.000000              0.000000   \n",
       "25%             0.000000             0.000000            145.000000   \n",
       "50%             6.000000             8.000000            206.000000   \n",
       "75%            33.000000            20.250000            270.000000   \n",
       "max           210.000000           143.000000            518.000000   \n",
       "\n",
       "       SedentaryMinutes     Calories  \n",
       "count        848.000000   848.000000  \n",
       "mean         955.579009  2354.501179  \n",
       "std          281.919552   705.688206  \n",
       "min            0.000000    52.000000  \n",
       "25%          721.000000  1852.750000  \n",
       "50%         1020.000000  2205.000000  \n",
       "75%         1191.000000  2819.750000  \n",
       "max         1440.000000  4900.000000  "
      ]
     },
     "execution_count": 29,
     "metadata": {},
     "output_type": "execute_result"
    }
   ],
   "source": [
    "# Description of our cleaner data\n",
    "\n",
    "dirtyDA.describe()"
   ]
  },
  {
   "cell_type": "code",
   "execution_count": 30,
   "id": "a18136f7",
   "metadata": {
    "ExecuteTime": {
     "end_time": "2022-12-22T19:26:20.893861Z",
     "start_time": "2022-12-22T19:26:20.879544Z"
    }
   },
   "outputs": [
    {
     "name": "stdout",
     "output_type": "stream",
     "text": [
      "dict_keys(['dailyActivity', 'dailyCalories', 'dailyIntensities', 'dailySteps', 'heartrate_seconds', 'hourlyCalories', 'hourlyIntensities', 'hourlySteps', 'minuteCaloriesNarrow', 'minuteCaloriesWide', 'minuteIntensitiesNarrow', 'minuteIntensitiesWide', 'minuteMETsNarrow', 'minuteSleep', 'minuteStepsNarrow', 'minuteStepsWide', 'sleepDay', 'weightLogInfo'])\n"
     ]
    }
   ],
   "source": [
    "# listing our list of dataframes\n",
    "\n",
    "print(df_dict.keys())"
   ]
  },
  {
   "cell_type": "markdown",
   "id": "ce0b58a6",
   "metadata": {},
   "source": [
    "## dataframe_2"
   ]
  },
  {
   "cell_type": "code",
   "execution_count": 31,
   "id": "19fd43c0",
   "metadata": {
    "ExecuteTime": {
     "end_time": "2022-12-22T19:26:20.909195Z",
     "start_time": "2022-12-22T19:26:20.894857Z"
    }
   },
   "outputs": [],
   "source": [
    "# the next dataframe\n",
    "\n",
    "dirtyDC = df_dict['dailyCalories']"
   ]
  },
  {
   "cell_type": "code",
   "execution_count": 32,
   "id": "0f45c3fa",
   "metadata": {
    "ExecuteTime": {
     "end_time": "2022-12-22T19:26:20.924425Z",
     "start_time": "2022-12-22T19:26:20.910192Z"
    }
   },
   "outputs": [
    {
     "data": {
      "text/plain": [
       "(940, 3)"
      ]
     },
     "execution_count": 32,
     "metadata": {},
     "output_type": "execute_result"
    }
   ],
   "source": [
    "dirtyDC.shape"
   ]
  },
  {
   "cell_type": "code",
   "execution_count": 33,
   "id": "8cd7aee6",
   "metadata": {
    "ExecuteTime": {
     "end_time": "2022-12-22T19:26:20.940375Z",
     "start_time": "2022-12-22T19:26:20.925336Z"
    }
   },
   "outputs": [
    {
     "data": {
      "text/html": [
       "<div>\n",
       "<style scoped>\n",
       "    .dataframe tbody tr th:only-of-type {\n",
       "        vertical-align: middle;\n",
       "    }\n",
       "\n",
       "    .dataframe tbody tr th {\n",
       "        vertical-align: top;\n",
       "    }\n",
       "\n",
       "    .dataframe thead th {\n",
       "        text-align: right;\n",
       "    }\n",
       "</style>\n",
       "<table border=\"1\" class=\"dataframe\">\n",
       "  <thead>\n",
       "    <tr style=\"text-align: right;\">\n",
       "      <th></th>\n",
       "      <th>Id</th>\n",
       "      <th>Calories</th>\n",
       "    </tr>\n",
       "  </thead>\n",
       "  <tbody>\n",
       "    <tr>\n",
       "      <th>count</th>\n",
       "      <td>9.400000e+02</td>\n",
       "      <td>940.000000</td>\n",
       "    </tr>\n",
       "    <tr>\n",
       "      <th>mean</th>\n",
       "      <td>4.855407e+09</td>\n",
       "      <td>2303.609574</td>\n",
       "    </tr>\n",
       "    <tr>\n",
       "      <th>std</th>\n",
       "      <td>2.424805e+09</td>\n",
       "      <td>718.166862</td>\n",
       "    </tr>\n",
       "    <tr>\n",
       "      <th>min</th>\n",
       "      <td>1.503960e+09</td>\n",
       "      <td>0.000000</td>\n",
       "    </tr>\n",
       "    <tr>\n",
       "      <th>25%</th>\n",
       "      <td>2.320127e+09</td>\n",
       "      <td>1828.500000</td>\n",
       "    </tr>\n",
       "    <tr>\n",
       "      <th>50%</th>\n",
       "      <td>4.445115e+09</td>\n",
       "      <td>2134.000000</td>\n",
       "    </tr>\n",
       "    <tr>\n",
       "      <th>75%</th>\n",
       "      <td>6.962181e+09</td>\n",
       "      <td>2793.250000</td>\n",
       "    </tr>\n",
       "    <tr>\n",
       "      <th>max</th>\n",
       "      <td>8.877689e+09</td>\n",
       "      <td>4900.000000</td>\n",
       "    </tr>\n",
       "  </tbody>\n",
       "</table>\n",
       "</div>"
      ],
      "text/plain": [
       "                 Id     Calories\n",
       "count  9.400000e+02   940.000000\n",
       "mean   4.855407e+09  2303.609574\n",
       "std    2.424805e+09   718.166862\n",
       "min    1.503960e+09     0.000000\n",
       "25%    2.320127e+09  1828.500000\n",
       "50%    4.445115e+09  2134.000000\n",
       "75%    6.962181e+09  2793.250000\n",
       "max    8.877689e+09  4900.000000"
      ]
     },
     "execution_count": 33,
     "metadata": {},
     "output_type": "execute_result"
    }
   ],
   "source": [
    "# This data looks to be a duplicate of the data we already have in our daily activity dataframe\n",
    "\n",
    "dirtyDC.describe()"
   ]
  },
  {
   "cell_type": "code",
   "execution_count": 34,
   "id": "636a85c5",
   "metadata": {
    "ExecuteTime": {
     "end_time": "2022-12-22T19:26:20.955656Z",
     "start_time": "2022-12-22T19:26:20.941372Z"
    }
   },
   "outputs": [
    {
     "data": {
      "text/plain": [
       "33"
      ]
     },
     "execution_count": 34,
     "metadata": {},
     "output_type": "execute_result"
    }
   ],
   "source": [
    "dirtyDC.Id.nunique()"
   ]
  },
  {
   "cell_type": "code",
   "execution_count": 35,
   "id": "e8d2c821",
   "metadata": {
    "ExecuteTime": {
     "end_time": "2022-12-22T19:26:20.971531Z",
     "start_time": "2022-12-22T19:26:20.958566Z"
    }
   },
   "outputs": [
    {
     "data": {
      "text/html": [
       "<div>\n",
       "<style scoped>\n",
       "    .dataframe tbody tr th:only-of-type {\n",
       "        vertical-align: middle;\n",
       "    }\n",
       "\n",
       "    .dataframe tbody tr th {\n",
       "        vertical-align: top;\n",
       "    }\n",
       "\n",
       "    .dataframe thead th {\n",
       "        text-align: right;\n",
       "    }\n",
       "</style>\n",
       "<table border=\"1\" class=\"dataframe\">\n",
       "  <thead>\n",
       "    <tr style=\"text-align: right;\">\n",
       "      <th></th>\n",
       "      <th>Id</th>\n",
       "      <th>ActivityDay</th>\n",
       "      <th>Calories</th>\n",
       "    </tr>\n",
       "  </thead>\n",
       "  <tbody>\n",
       "    <tr>\n",
       "      <th>0</th>\n",
       "      <td>1503960366</td>\n",
       "      <td>4/12/2016</td>\n",
       "      <td>1985</td>\n",
       "    </tr>\n",
       "    <tr>\n",
       "      <th>1</th>\n",
       "      <td>1503960366</td>\n",
       "      <td>4/13/2016</td>\n",
       "      <td>1797</td>\n",
       "    </tr>\n",
       "    <tr>\n",
       "      <th>2</th>\n",
       "      <td>1503960366</td>\n",
       "      <td>4/14/2016</td>\n",
       "      <td>1776</td>\n",
       "    </tr>\n",
       "    <tr>\n",
       "      <th>3</th>\n",
       "      <td>1503960366</td>\n",
       "      <td>4/15/2016</td>\n",
       "      <td>1745</td>\n",
       "    </tr>\n",
       "    <tr>\n",
       "      <th>4</th>\n",
       "      <td>1503960366</td>\n",
       "      <td>4/16/2016</td>\n",
       "      <td>1863</td>\n",
       "    </tr>\n",
       "  </tbody>\n",
       "</table>\n",
       "</div>"
      ],
      "text/plain": [
       "           Id ActivityDay  Calories\n",
       "0  1503960366   4/12/2016      1985\n",
       "1  1503960366   4/13/2016      1797\n",
       "2  1503960366   4/14/2016      1776\n",
       "3  1503960366   4/15/2016      1745\n",
       "4  1503960366   4/16/2016      1863"
      ]
     },
     "execution_count": 35,
     "metadata": {},
     "output_type": "execute_result"
    }
   ],
   "source": [
    "# this data matches columns already in our cleaned dataframe. we can move past it\n",
    "\n",
    "dirtyDC.head()"
   ]
  },
  {
   "cell_type": "code",
   "execution_count": 36,
   "id": "09ddb46c",
   "metadata": {
    "ExecuteTime": {
     "end_time": "2022-12-22T19:26:20.987543Z",
     "start_time": "2022-12-22T19:26:20.973516Z"
    }
   },
   "outputs": [],
   "source": [
    "# Checking out the next dataframe. again it seems to be duplicate data, so we will move on\n",
    "\n",
    "dirtyDI = df_dict['dailyIntensities']"
   ]
  },
  {
   "cell_type": "code",
   "execution_count": 37,
   "id": "39017e5d",
   "metadata": {
    "ExecuteTime": {
     "end_time": "2022-12-22T19:26:21.003565Z",
     "start_time": "2022-12-22T19:26:20.988538Z"
    }
   },
   "outputs": [
    {
     "data": {
      "text/html": [
       "<div>\n",
       "<style scoped>\n",
       "    .dataframe tbody tr th:only-of-type {\n",
       "        vertical-align: middle;\n",
       "    }\n",
       "\n",
       "    .dataframe tbody tr th {\n",
       "        vertical-align: top;\n",
       "    }\n",
       "\n",
       "    .dataframe thead th {\n",
       "        text-align: right;\n",
       "    }\n",
       "</style>\n",
       "<table border=\"1\" class=\"dataframe\">\n",
       "  <thead>\n",
       "    <tr style=\"text-align: right;\">\n",
       "      <th></th>\n",
       "      <th>Id</th>\n",
       "      <th>ActivityDay</th>\n",
       "      <th>SedentaryMinutes</th>\n",
       "      <th>LightlyActiveMinutes</th>\n",
       "      <th>FairlyActiveMinutes</th>\n",
       "      <th>VeryActiveMinutes</th>\n",
       "      <th>SedentaryActiveDistance</th>\n",
       "      <th>LightActiveDistance</th>\n",
       "      <th>ModeratelyActiveDistance</th>\n",
       "      <th>VeryActiveDistance</th>\n",
       "    </tr>\n",
       "  </thead>\n",
       "  <tbody>\n",
       "    <tr>\n",
       "      <th>0</th>\n",
       "      <td>1503960366</td>\n",
       "      <td>4/12/2016</td>\n",
       "      <td>728</td>\n",
       "      <td>328</td>\n",
       "      <td>13</td>\n",
       "      <td>25</td>\n",
       "      <td>0.0</td>\n",
       "      <td>6.06</td>\n",
       "      <td>0.55</td>\n",
       "      <td>1.88</td>\n",
       "    </tr>\n",
       "    <tr>\n",
       "      <th>1</th>\n",
       "      <td>1503960366</td>\n",
       "      <td>4/13/2016</td>\n",
       "      <td>776</td>\n",
       "      <td>217</td>\n",
       "      <td>19</td>\n",
       "      <td>21</td>\n",
       "      <td>0.0</td>\n",
       "      <td>4.71</td>\n",
       "      <td>0.69</td>\n",
       "      <td>1.57</td>\n",
       "    </tr>\n",
       "    <tr>\n",
       "      <th>2</th>\n",
       "      <td>1503960366</td>\n",
       "      <td>4/14/2016</td>\n",
       "      <td>1218</td>\n",
       "      <td>181</td>\n",
       "      <td>11</td>\n",
       "      <td>30</td>\n",
       "      <td>0.0</td>\n",
       "      <td>3.91</td>\n",
       "      <td>0.40</td>\n",
       "      <td>2.44</td>\n",
       "    </tr>\n",
       "    <tr>\n",
       "      <th>3</th>\n",
       "      <td>1503960366</td>\n",
       "      <td>4/15/2016</td>\n",
       "      <td>726</td>\n",
       "      <td>209</td>\n",
       "      <td>34</td>\n",
       "      <td>29</td>\n",
       "      <td>0.0</td>\n",
       "      <td>2.83</td>\n",
       "      <td>1.26</td>\n",
       "      <td>2.14</td>\n",
       "    </tr>\n",
       "    <tr>\n",
       "      <th>4</th>\n",
       "      <td>1503960366</td>\n",
       "      <td>4/16/2016</td>\n",
       "      <td>773</td>\n",
       "      <td>221</td>\n",
       "      <td>10</td>\n",
       "      <td>36</td>\n",
       "      <td>0.0</td>\n",
       "      <td>5.04</td>\n",
       "      <td>0.41</td>\n",
       "      <td>2.71</td>\n",
       "    </tr>\n",
       "  </tbody>\n",
       "</table>\n",
       "</div>"
      ],
      "text/plain": [
       "           Id ActivityDay  SedentaryMinutes  LightlyActiveMinutes  \\\n",
       "0  1503960366   4/12/2016               728                   328   \n",
       "1  1503960366   4/13/2016               776                   217   \n",
       "2  1503960366   4/14/2016              1218                   181   \n",
       "3  1503960366   4/15/2016               726                   209   \n",
       "4  1503960366   4/16/2016               773                   221   \n",
       "\n",
       "   FairlyActiveMinutes  VeryActiveMinutes  SedentaryActiveDistance  \\\n",
       "0                   13                 25                      0.0   \n",
       "1                   19                 21                      0.0   \n",
       "2                   11                 30                      0.0   \n",
       "3                   34                 29                      0.0   \n",
       "4                   10                 36                      0.0   \n",
       "\n",
       "   LightActiveDistance  ModeratelyActiveDistance  VeryActiveDistance  \n",
       "0                 6.06                      0.55                1.88  \n",
       "1                 4.71                      0.69                1.57  \n",
       "2                 3.91                      0.40                2.44  \n",
       "3                 2.83                      1.26                2.14  \n",
       "4                 5.04                      0.41                2.71  "
      ]
     },
     "execution_count": 37,
     "metadata": {},
     "output_type": "execute_result"
    }
   ],
   "source": [
    "dirtyDI.head()"
   ]
  },
  {
   "cell_type": "markdown",
   "id": "4aea1b59",
   "metadata": {},
   "source": [
    "## Heart rate data"
   ]
  },
  {
   "cell_type": "code",
   "execution_count": 38,
   "id": "3f0b65f2",
   "metadata": {
    "ExecuteTime": {
     "end_time": "2022-12-22T19:26:21.019699Z",
     "start_time": "2022-12-22T19:26:21.005561Z"
    }
   },
   "outputs": [],
   "source": [
    "# heartrate dataframe\n",
    "\n",
    "dirtyHR = df_dict['heartrate_seconds']"
   ]
  },
  {
   "cell_type": "code",
   "execution_count": 39,
   "id": "9c15eeb3",
   "metadata": {
    "ExecuteTime": {
     "end_time": "2022-12-22T19:26:21.034816Z",
     "start_time": "2022-12-22T19:26:21.020734Z"
    }
   },
   "outputs": [
    {
     "data": {
      "text/html": [
       "<div>\n",
       "<style scoped>\n",
       "    .dataframe tbody tr th:only-of-type {\n",
       "        vertical-align: middle;\n",
       "    }\n",
       "\n",
       "    .dataframe tbody tr th {\n",
       "        vertical-align: top;\n",
       "    }\n",
       "\n",
       "    .dataframe thead th {\n",
       "        text-align: right;\n",
       "    }\n",
       "</style>\n",
       "<table border=\"1\" class=\"dataframe\">\n",
       "  <thead>\n",
       "    <tr style=\"text-align: right;\">\n",
       "      <th></th>\n",
       "      <th>Id</th>\n",
       "      <th>Time</th>\n",
       "      <th>Value</th>\n",
       "    </tr>\n",
       "  </thead>\n",
       "  <tbody>\n",
       "    <tr>\n",
       "      <th>0</th>\n",
       "      <td>2022484408</td>\n",
       "      <td>4/12/2016 7:21:00 AM</td>\n",
       "      <td>97</td>\n",
       "    </tr>\n",
       "    <tr>\n",
       "      <th>1</th>\n",
       "      <td>2022484408</td>\n",
       "      <td>4/12/2016 7:21:05 AM</td>\n",
       "      <td>102</td>\n",
       "    </tr>\n",
       "    <tr>\n",
       "      <th>2</th>\n",
       "      <td>2022484408</td>\n",
       "      <td>4/12/2016 7:21:10 AM</td>\n",
       "      <td>105</td>\n",
       "    </tr>\n",
       "    <tr>\n",
       "      <th>3</th>\n",
       "      <td>2022484408</td>\n",
       "      <td>4/12/2016 7:21:20 AM</td>\n",
       "      <td>103</td>\n",
       "    </tr>\n",
       "    <tr>\n",
       "      <th>4</th>\n",
       "      <td>2022484408</td>\n",
       "      <td>4/12/2016 7:21:25 AM</td>\n",
       "      <td>101</td>\n",
       "    </tr>\n",
       "  </tbody>\n",
       "</table>\n",
       "</div>"
      ],
      "text/plain": [
       "           Id                  Time  Value\n",
       "0  2022484408  4/12/2016 7:21:00 AM     97\n",
       "1  2022484408  4/12/2016 7:21:05 AM    102\n",
       "2  2022484408  4/12/2016 7:21:10 AM    105\n",
       "3  2022484408  4/12/2016 7:21:20 AM    103\n",
       "4  2022484408  4/12/2016 7:21:25 AM    101"
      ]
     },
     "execution_count": 39,
     "metadata": {},
     "output_type": "execute_result"
    }
   ],
   "source": [
    "dirtyHR.head()"
   ]
  },
  {
   "cell_type": "code",
   "execution_count": 40,
   "id": "56c81e12",
   "metadata": {
    "ExecuteTime": {
     "end_time": "2022-12-22T19:26:21.050975Z",
     "start_time": "2022-12-22T19:26:21.035813Z"
    }
   },
   "outputs": [
    {
     "data": {
      "text/plain": [
       "(2483658, 3)"
      ]
     },
     "execution_count": 40,
     "metadata": {},
     "output_type": "execute_result"
    }
   ],
   "source": [
    "# this dataframe has only 3 columns but is made up of over 2 million rows of heart rate data taken from users every 5 minutes.\n",
    "\n",
    "dirtyHR.shape"
   ]
  },
  {
   "cell_type": "code",
   "execution_count": 41,
   "id": "6c344d07",
   "metadata": {
    "ExecuteTime": {
     "end_time": "2022-12-22T19:26:21.082203Z",
     "start_time": "2022-12-22T19:26:21.052998Z"
    }
   },
   "outputs": [
    {
     "data": {
      "text/plain": [
       "14"
      ]
     },
     "execution_count": 41,
     "metadata": {},
     "output_type": "execute_result"
    }
   ],
   "source": [
    "# this data is made up of 14 different users\n",
    "\n",
    "dirtyHR['Id'].nunique()"
   ]
  },
  {
   "cell_type": "code",
   "execution_count": 42,
   "id": "4aa21d6d",
   "metadata": {
    "ExecuteTime": {
     "end_time": "2022-12-22T19:26:21.097603Z",
     "start_time": "2022-12-22T19:26:21.084200Z"
    }
   },
   "outputs": [
    {
     "data": {
      "text/plain": [
       "Id        int64\n",
       "Time     object\n",
       "Value     int64\n",
       "dtype: object"
      ]
     },
     "execution_count": 42,
     "metadata": {},
     "output_type": "execute_result"
    }
   ],
   "source": [
    "dirtyHR.dtypes"
   ]
  },
  {
   "cell_type": "code",
   "execution_count": 43,
   "id": "0f4d0edf",
   "metadata": {
    "ExecuteTime": {
     "end_time": "2022-12-22T19:26:21.866272Z",
     "start_time": "2022-12-22T19:26:21.098802Z"
    }
   },
   "outputs": [],
   "source": [
    "dirtyHR['Id'] = dirtyHR.Id.astype(str)"
   ]
  },
  {
   "cell_type": "code",
   "execution_count": 44,
   "id": "eff8b6d9",
   "metadata": {
    "ExecuteTime": {
     "end_time": "2022-12-22T19:29:20.131491Z",
     "start_time": "2022-12-22T19:26:21.868053Z"
    }
   },
   "outputs": [],
   "source": [
    "# we are agian changing data types to the correct ones\n",
    "\n",
    "dirtyHR['Time'] = pd.to_datetime(dirtyHR['Time'])"
   ]
  },
  {
   "cell_type": "code",
   "execution_count": 45,
   "id": "5bac3de2",
   "metadata": {
    "ExecuteTime": {
     "end_time": "2022-12-22T19:29:20.147440Z",
     "start_time": "2022-12-22T19:29:20.132485Z"
    }
   },
   "outputs": [
    {
     "data": {
      "text/html": [
       "<div>\n",
       "<style scoped>\n",
       "    .dataframe tbody tr th:only-of-type {\n",
       "        vertical-align: middle;\n",
       "    }\n",
       "\n",
       "    .dataframe tbody tr th {\n",
       "        vertical-align: top;\n",
       "    }\n",
       "\n",
       "    .dataframe thead th {\n",
       "        text-align: right;\n",
       "    }\n",
       "</style>\n",
       "<table border=\"1\" class=\"dataframe\">\n",
       "  <thead>\n",
       "    <tr style=\"text-align: right;\">\n",
       "      <th></th>\n",
       "      <th>Id</th>\n",
       "      <th>Time</th>\n",
       "      <th>Value</th>\n",
       "    </tr>\n",
       "  </thead>\n",
       "  <tbody>\n",
       "    <tr>\n",
       "      <th>0</th>\n",
       "      <td>2022484408</td>\n",
       "      <td>2016-04-12 07:21:00</td>\n",
       "      <td>97</td>\n",
       "    </tr>\n",
       "    <tr>\n",
       "      <th>1</th>\n",
       "      <td>2022484408</td>\n",
       "      <td>2016-04-12 07:21:05</td>\n",
       "      <td>102</td>\n",
       "    </tr>\n",
       "    <tr>\n",
       "      <th>2</th>\n",
       "      <td>2022484408</td>\n",
       "      <td>2016-04-12 07:21:10</td>\n",
       "      <td>105</td>\n",
       "    </tr>\n",
       "    <tr>\n",
       "      <th>3</th>\n",
       "      <td>2022484408</td>\n",
       "      <td>2016-04-12 07:21:20</td>\n",
       "      <td>103</td>\n",
       "    </tr>\n",
       "    <tr>\n",
       "      <th>4</th>\n",
       "      <td>2022484408</td>\n",
       "      <td>2016-04-12 07:21:25</td>\n",
       "      <td>101</td>\n",
       "    </tr>\n",
       "  </tbody>\n",
       "</table>\n",
       "</div>"
      ],
      "text/plain": [
       "           Id                Time  Value\n",
       "0  2022484408 2016-04-12 07:21:00     97\n",
       "1  2022484408 2016-04-12 07:21:05    102\n",
       "2  2022484408 2016-04-12 07:21:10    105\n",
       "3  2022484408 2016-04-12 07:21:20    103\n",
       "4  2022484408 2016-04-12 07:21:25    101"
      ]
     },
     "execution_count": 45,
     "metadata": {},
     "output_type": "execute_result"
    }
   ],
   "source": [
    "dirtyHR.head()"
   ]
  },
  {
   "cell_type": "code",
   "execution_count": 46,
   "id": "13a8ef38",
   "metadata": {
    "ExecuteTime": {
     "end_time": "2022-12-22T19:29:20.958069Z",
     "start_time": "2022-12-22T19:29:20.150096Z"
    }
   },
   "outputs": [],
   "source": [
    "# we are gonna group by the Id and the Day, finding the mean heart rate for that day to simplify our data\n",
    "\n",
    "dirtyHR = dirtyHR.groupby(['Id', dirtyHR['Time'].dt.date])['Value'].mean()"
   ]
  },
  {
   "cell_type": "code",
   "execution_count": 47,
   "id": "ba18a156",
   "metadata": {
    "ExecuteTime": {
     "end_time": "2022-12-22T19:29:20.974013Z",
     "start_time": "2022-12-22T19:29:20.958985Z"
    }
   },
   "outputs": [
    {
     "data": {
      "text/plain": [
       "Id          Time      \n",
       "2022484408  2016-04-12    75.804177\n",
       "            2016-04-13    80.337584\n",
       "            2016-04-14    72.628597\n",
       "            2016-04-15    80.437382\n",
       "            2016-04-16    75.960547\n",
       "Name: Value, dtype: float64"
      ]
     },
     "execution_count": 47,
     "metadata": {},
     "output_type": "execute_result"
    }
   ],
   "source": [
    "# after the aggregation\n",
    "\n",
    "dirtyHR.head()"
   ]
  },
  {
   "cell_type": "code",
   "execution_count": 48,
   "id": "dbd82d0c",
   "metadata": {
    "ExecuteTime": {
     "end_time": "2022-12-22T19:29:20.989378Z",
     "start_time": "2022-12-22T19:29:20.974931Z"
    }
   },
   "outputs": [
    {
     "data": {
      "text/plain": [
       "(334,)"
      ]
     },
     "execution_count": 48,
     "metadata": {},
     "output_type": "execute_result"
    }
   ],
   "source": [
    "dirtyHR.shape"
   ]
  },
  {
   "cell_type": "code",
   "execution_count": 49,
   "id": "f1c76842",
   "metadata": {
    "ExecuteTime": {
     "end_time": "2022-12-22T19:29:21.004696Z",
     "start_time": "2022-12-22T19:29:20.990375Z"
    }
   },
   "outputs": [
    {
     "data": {
      "text/plain": [
       "pandas.core.series.Series"
      ]
     },
     "execution_count": 49,
     "metadata": {},
     "output_type": "execute_result"
    }
   ],
   "source": [
    "type(dirtyHR)"
   ]
  },
  {
   "cell_type": "code",
   "execution_count": 50,
   "id": "b32147fe",
   "metadata": {
    "ExecuteTime": {
     "end_time": "2022-12-22T19:29:21.020704Z",
     "start_time": "2022-12-22T19:29:21.005596Z"
    }
   },
   "outputs": [
    {
     "data": {
      "text/html": [
       "<div>\n",
       "<style scoped>\n",
       "    .dataframe tbody tr th:only-of-type {\n",
       "        vertical-align: middle;\n",
       "    }\n",
       "\n",
       "    .dataframe tbody tr th {\n",
       "        vertical-align: top;\n",
       "    }\n",
       "\n",
       "    .dataframe thead th {\n",
       "        text-align: right;\n",
       "    }\n",
       "</style>\n",
       "<table border=\"1\" class=\"dataframe\">\n",
       "  <thead>\n",
       "    <tr style=\"text-align: right;\">\n",
       "      <th></th>\n",
       "      <th></th>\n",
       "      <th>Value</th>\n",
       "    </tr>\n",
       "    <tr>\n",
       "      <th>Id</th>\n",
       "      <th>Time</th>\n",
       "      <th></th>\n",
       "    </tr>\n",
       "  </thead>\n",
       "  <tbody>\n",
       "    <tr>\n",
       "      <th rowspan=\"5\" valign=\"top\">2022484408</th>\n",
       "      <th>2016-04-12</th>\n",
       "      <td>75.804177</td>\n",
       "    </tr>\n",
       "    <tr>\n",
       "      <th>2016-04-13</th>\n",
       "      <td>80.337584</td>\n",
       "    </tr>\n",
       "    <tr>\n",
       "      <th>2016-04-14</th>\n",
       "      <td>72.628597</td>\n",
       "    </tr>\n",
       "    <tr>\n",
       "      <th>2016-04-15</th>\n",
       "      <td>80.437382</td>\n",
       "    </tr>\n",
       "    <tr>\n",
       "      <th>2016-04-16</th>\n",
       "      <td>75.960547</td>\n",
       "    </tr>\n",
       "    <tr>\n",
       "      <th>...</th>\n",
       "      <th>...</th>\n",
       "      <td>...</td>\n",
       "    </tr>\n",
       "    <tr>\n",
       "      <th rowspan=\"5\" valign=\"top\">8877689391</th>\n",
       "      <th>2016-05-08</th>\n",
       "      <td>72.550523</td>\n",
       "    </tr>\n",
       "    <tr>\n",
       "      <th>2016-05-09</th>\n",
       "      <td>89.615738</td>\n",
       "    </tr>\n",
       "    <tr>\n",
       "      <th>2016-05-10</th>\n",
       "      <td>71.544377</td>\n",
       "    </tr>\n",
       "    <tr>\n",
       "      <th>2016-05-11</th>\n",
       "      <td>89.149122</td>\n",
       "    </tr>\n",
       "    <tr>\n",
       "      <th>2016-05-12</th>\n",
       "      <td>71.087439</td>\n",
       "    </tr>\n",
       "  </tbody>\n",
       "</table>\n",
       "<p>334 rows × 1 columns</p>\n",
       "</div>"
      ],
      "text/plain": [
       "                           Value\n",
       "Id         Time                 \n",
       "2022484408 2016-04-12  75.804177\n",
       "           2016-04-13  80.337584\n",
       "           2016-04-14  72.628597\n",
       "           2016-04-15  80.437382\n",
       "           2016-04-16  75.960547\n",
       "...                          ...\n",
       "8877689391 2016-05-08  72.550523\n",
       "           2016-05-09  89.615738\n",
       "           2016-05-10  71.544377\n",
       "           2016-05-11  89.149122\n",
       "           2016-05-12  71.087439\n",
       "\n",
       "[334 rows x 1 columns]"
      ]
     },
     "execution_count": 50,
     "metadata": {},
     "output_type": "execute_result"
    }
   ],
   "source": [
    "# our dataframe was converted to another type, so we returned it to a dataframe\n",
    "\n",
    "pd.DataFrame(dirtyHR)"
   ]
  },
  {
   "cell_type": "code",
   "execution_count": 51,
   "id": "050cb916",
   "metadata": {
    "ExecuteTime": {
     "end_time": "2022-12-22T19:29:21.036573Z",
     "start_time": "2022-12-22T19:29:21.021709Z"
    }
   },
   "outputs": [],
   "source": [
    "# Resetting index \n",
    "\n",
    "dirtyHR = dirtyHR.reset_index()"
   ]
  },
  {
   "cell_type": "code",
   "execution_count": 52,
   "id": "44fd5073",
   "metadata": {
    "ExecuteTime": {
     "end_time": "2022-12-22T19:29:21.052437Z",
     "start_time": "2022-12-22T19:29:21.040559Z"
    }
   },
   "outputs": [
    {
     "data": {
      "text/html": [
       "<div>\n",
       "<style scoped>\n",
       "    .dataframe tbody tr th:only-of-type {\n",
       "        vertical-align: middle;\n",
       "    }\n",
       "\n",
       "    .dataframe tbody tr th {\n",
       "        vertical-align: top;\n",
       "    }\n",
       "\n",
       "    .dataframe thead th {\n",
       "        text-align: right;\n",
       "    }\n",
       "</style>\n",
       "<table border=\"1\" class=\"dataframe\">\n",
       "  <thead>\n",
       "    <tr style=\"text-align: right;\">\n",
       "      <th></th>\n",
       "      <th>Id</th>\n",
       "      <th>Time</th>\n",
       "      <th>Value</th>\n",
       "    </tr>\n",
       "  </thead>\n",
       "  <tbody>\n",
       "    <tr>\n",
       "      <th>0</th>\n",
       "      <td>2022484408</td>\n",
       "      <td>2016-04-12</td>\n",
       "      <td>75.804177</td>\n",
       "    </tr>\n",
       "    <tr>\n",
       "      <th>1</th>\n",
       "      <td>2022484408</td>\n",
       "      <td>2016-04-13</td>\n",
       "      <td>80.337584</td>\n",
       "    </tr>\n",
       "    <tr>\n",
       "      <th>2</th>\n",
       "      <td>2022484408</td>\n",
       "      <td>2016-04-14</td>\n",
       "      <td>72.628597</td>\n",
       "    </tr>\n",
       "    <tr>\n",
       "      <th>3</th>\n",
       "      <td>2022484408</td>\n",
       "      <td>2016-04-15</td>\n",
       "      <td>80.437382</td>\n",
       "    </tr>\n",
       "    <tr>\n",
       "      <th>4</th>\n",
       "      <td>2022484408</td>\n",
       "      <td>2016-04-16</td>\n",
       "      <td>75.960547</td>\n",
       "    </tr>\n",
       "  </tbody>\n",
       "</table>\n",
       "</div>"
      ],
      "text/plain": [
       "           Id        Time      Value\n",
       "0  2022484408  2016-04-12  75.804177\n",
       "1  2022484408  2016-04-13  80.337584\n",
       "2  2022484408  2016-04-14  72.628597\n",
       "3  2022484408  2016-04-15  80.437382\n",
       "4  2022484408  2016-04-16  75.960547"
      ]
     },
     "execution_count": 52,
     "metadata": {},
     "output_type": "execute_result"
    }
   ],
   "source": [
    "# our new dataframe with the mean heart rate of each day\n",
    "\n",
    "dirtyHR.head()"
   ]
  },
  {
   "cell_type": "code",
   "execution_count": 53,
   "id": "07592701",
   "metadata": {
    "ExecuteTime": {
     "end_time": "2022-12-22T19:29:21.068382Z",
     "start_time": "2022-12-22T19:29:21.053431Z"
    }
   },
   "outputs": [],
   "source": [
    "dirtyHR['Time'] = pd.to_datetime(dirtyHR['Time'])"
   ]
  },
  {
   "cell_type": "markdown",
   "id": "a10a2c72",
   "metadata": {},
   "source": [
    "## Merging Data"
   ]
  },
  {
   "cell_type": "code",
   "execution_count": 54,
   "id": "953a7d26",
   "metadata": {
    "ExecuteTime": {
     "end_time": "2022-12-22T19:29:21.083313Z",
     "start_time": "2022-12-22T19:29:21.069604Z"
    }
   },
   "outputs": [],
   "source": [
    "# merging our two cleaned dataframes of heart rate and activity data\n",
    "\n",
    "cleanAHR = dirtyDA.merge(dirtyHR, left_on= ['Id', 'ActivityDate'], right_on= ['Id', 'Time'], how= 'left')"
   ]
  },
  {
   "cell_type": "code",
   "execution_count": 55,
   "id": "17b696eb",
   "metadata": {
    "ExecuteTime": {
     "end_time": "2022-12-22T19:29:21.099077Z",
     "start_time": "2022-12-22T19:29:21.083955Z"
    }
   },
   "outputs": [
    {
     "data": {
      "text/html": [
       "<div>\n",
       "<style scoped>\n",
       "    .dataframe tbody tr th:only-of-type {\n",
       "        vertical-align: middle;\n",
       "    }\n",
       "\n",
       "    .dataframe tbody tr th {\n",
       "        vertical-align: top;\n",
       "    }\n",
       "\n",
       "    .dataframe thead th {\n",
       "        text-align: right;\n",
       "    }\n",
       "</style>\n",
       "<table border=\"1\" class=\"dataframe\">\n",
       "  <thead>\n",
       "    <tr style=\"text-align: right;\">\n",
       "      <th></th>\n",
       "      <th>Id</th>\n",
       "      <th>ActivityDate</th>\n",
       "      <th>TotalSteps</th>\n",
       "      <th>TrackerDistance</th>\n",
       "      <th>VeryActiveDistance</th>\n",
       "      <th>ModeratelyActiveDistance</th>\n",
       "      <th>LightActiveDistance</th>\n",
       "      <th>SedentaryActiveDistance</th>\n",
       "      <th>VeryActiveMinutes</th>\n",
       "      <th>FairlyActiveMinutes</th>\n",
       "      <th>LightlyActiveMinutes</th>\n",
       "      <th>SedentaryMinutes</th>\n",
       "      <th>Calories</th>\n",
       "      <th>Time</th>\n",
       "      <th>Value</th>\n",
       "    </tr>\n",
       "  </thead>\n",
       "  <tbody>\n",
       "    <tr>\n",
       "      <th>0</th>\n",
       "      <td>1503960366</td>\n",
       "      <td>2016-04-12</td>\n",
       "      <td>13162</td>\n",
       "      <td>8.50</td>\n",
       "      <td>1.88</td>\n",
       "      <td>0.55</td>\n",
       "      <td>6.06</td>\n",
       "      <td>0.0</td>\n",
       "      <td>25</td>\n",
       "      <td>13</td>\n",
       "      <td>328</td>\n",
       "      <td>728</td>\n",
       "      <td>1985</td>\n",
       "      <td>NaT</td>\n",
       "      <td>NaN</td>\n",
       "    </tr>\n",
       "    <tr>\n",
       "      <th>1</th>\n",
       "      <td>1503960366</td>\n",
       "      <td>2016-04-13</td>\n",
       "      <td>10735</td>\n",
       "      <td>6.97</td>\n",
       "      <td>1.57</td>\n",
       "      <td>0.69</td>\n",
       "      <td>4.71</td>\n",
       "      <td>0.0</td>\n",
       "      <td>21</td>\n",
       "      <td>19</td>\n",
       "      <td>217</td>\n",
       "      <td>776</td>\n",
       "      <td>1797</td>\n",
       "      <td>NaT</td>\n",
       "      <td>NaN</td>\n",
       "    </tr>\n",
       "    <tr>\n",
       "      <th>2</th>\n",
       "      <td>1503960366</td>\n",
       "      <td>2016-04-14</td>\n",
       "      <td>10460</td>\n",
       "      <td>6.74</td>\n",
       "      <td>2.44</td>\n",
       "      <td>0.40</td>\n",
       "      <td>3.91</td>\n",
       "      <td>0.0</td>\n",
       "      <td>30</td>\n",
       "      <td>11</td>\n",
       "      <td>181</td>\n",
       "      <td>1218</td>\n",
       "      <td>1776</td>\n",
       "      <td>NaT</td>\n",
       "      <td>NaN</td>\n",
       "    </tr>\n",
       "    <tr>\n",
       "      <th>3</th>\n",
       "      <td>1503960366</td>\n",
       "      <td>2016-04-15</td>\n",
       "      <td>9762</td>\n",
       "      <td>6.28</td>\n",
       "      <td>2.14</td>\n",
       "      <td>1.26</td>\n",
       "      <td>2.83</td>\n",
       "      <td>0.0</td>\n",
       "      <td>29</td>\n",
       "      <td>34</td>\n",
       "      <td>209</td>\n",
       "      <td>726</td>\n",
       "      <td>1745</td>\n",
       "      <td>NaT</td>\n",
       "      <td>NaN</td>\n",
       "    </tr>\n",
       "    <tr>\n",
       "      <th>4</th>\n",
       "      <td>1503960366</td>\n",
       "      <td>2016-04-16</td>\n",
       "      <td>12669</td>\n",
       "      <td>8.16</td>\n",
       "      <td>2.71</td>\n",
       "      <td>0.41</td>\n",
       "      <td>5.04</td>\n",
       "      <td>0.0</td>\n",
       "      <td>36</td>\n",
       "      <td>10</td>\n",
       "      <td>221</td>\n",
       "      <td>773</td>\n",
       "      <td>1863</td>\n",
       "      <td>NaT</td>\n",
       "      <td>NaN</td>\n",
       "    </tr>\n",
       "  </tbody>\n",
       "</table>\n",
       "</div>"
      ],
      "text/plain": [
       "           Id ActivityDate  TotalSteps  TrackerDistance  VeryActiveDistance  \\\n",
       "0  1503960366   2016-04-12       13162             8.50                1.88   \n",
       "1  1503960366   2016-04-13       10735             6.97                1.57   \n",
       "2  1503960366   2016-04-14       10460             6.74                2.44   \n",
       "3  1503960366   2016-04-15        9762             6.28                2.14   \n",
       "4  1503960366   2016-04-16       12669             8.16                2.71   \n",
       "\n",
       "   ModeratelyActiveDistance  LightActiveDistance  SedentaryActiveDistance  \\\n",
       "0                      0.55                 6.06                      0.0   \n",
       "1                      0.69                 4.71                      0.0   \n",
       "2                      0.40                 3.91                      0.0   \n",
       "3                      1.26                 2.83                      0.0   \n",
       "4                      0.41                 5.04                      0.0   \n",
       "\n",
       "   VeryActiveMinutes  FairlyActiveMinutes  LightlyActiveMinutes  \\\n",
       "0                 25                   13                   328   \n",
       "1                 21                   19                   217   \n",
       "2                 30                   11                   181   \n",
       "3                 29                   34                   209   \n",
       "4                 36                   10                   221   \n",
       "\n",
       "   SedentaryMinutes  Calories Time  Value  \n",
       "0               728      1985  NaT    NaN  \n",
       "1               776      1797  NaT    NaN  \n",
       "2              1218      1776  NaT    NaN  \n",
       "3               726      1745  NaT    NaN  \n",
       "4               773      1863  NaT    NaN  "
      ]
     },
     "execution_count": 55,
     "metadata": {},
     "output_type": "execute_result"
    }
   ],
   "source": [
    "# the new dataframe\n",
    "\n",
    "cleanAHR.head()"
   ]
  },
  {
   "cell_type": "code",
   "execution_count": 56,
   "id": "66f2724c",
   "metadata": {
    "ExecuteTime": {
     "end_time": "2022-12-22T19:29:21.115042Z",
     "start_time": "2022-12-22T19:29:21.100100Z"
    }
   },
   "outputs": [
    {
     "name": "stdout",
     "output_type": "stream",
     "text": [
      "Count of NAs in column  Id  is :  0\n",
      "Count of NAs in column  ActivityDate  is :  0\n",
      "Count of NAs in column  TotalSteps  is :  0\n",
      "Count of NAs in column  TrackerDistance  is :  0\n",
      "Count of NAs in column  VeryActiveDistance  is :  0\n",
      "Count of NAs in column  ModeratelyActiveDistance  is :  0\n",
      "Count of NAs in column  LightActiveDistance  is :  0\n",
      "Count of NAs in column  SedentaryActiveDistance  is :  0\n",
      "Count of NAs in column  VeryActiveMinutes  is :  0\n",
      "Count of NAs in column  FairlyActiveMinutes  is :  0\n",
      "Count of NAs in column  LightlyActiveMinutes  is :  0\n",
      "Count of NAs in column  SedentaryMinutes  is :  0\n",
      "Count of NAs in column  Calories  is :  0\n",
      "Count of NAs in column  Time  is :  531\n",
      "Count of NAs in column  Value  is :  531\n"
     ]
    }
   ],
   "source": [
    "# it looks like our heart rate data is missing for over 60% of our data rows. We will keep this data and see if our model can\n",
    "# improve with it \n",
    "\n",
    "for column_name in cleanAHR.columns:\n",
    "    column = cleanAHR[column_name]\n",
    "    # Get the count of Zeros in column \n",
    "    count = (column).isna().sum()\n",
    "    print('Count of NAs in column ', column_name, ' is : ', count)"
   ]
  },
  {
   "cell_type": "code",
   "execution_count": 57,
   "id": "1feab9e3",
   "metadata": {
    "ExecuteTime": {
     "end_time": "2022-12-22T19:29:21.131143Z",
     "start_time": "2022-12-22T19:29:21.117087Z"
    }
   },
   "outputs": [
    {
     "data": {
      "text/plain": [
       "(848, 15)"
      ]
     },
     "execution_count": 57,
     "metadata": {},
     "output_type": "execute_result"
    }
   ],
   "source": [
    "cleanAHR.shape"
   ]
  },
  {
   "cell_type": "code",
   "execution_count": 58,
   "id": "fc3c7649",
   "metadata": {
    "ExecuteTime": {
     "end_time": "2022-12-22T19:29:21.147599Z",
     "start_time": "2022-12-22T19:29:21.133135Z"
    }
   },
   "outputs": [
    {
     "data": {
      "text/plain": [
       "33"
      ]
     },
     "execution_count": 58,
     "metadata": {},
     "output_type": "execute_result"
    }
   ],
   "source": [
    "# still have our 33 users\n",
    "\n",
    "cleanAHR['Id'].nunique()"
   ]
  },
  {
   "cell_type": "code",
   "execution_count": 59,
   "id": "7345f7b1",
   "metadata": {
    "ExecuteTime": {
     "end_time": "2022-12-22T19:29:21.163097Z",
     "start_time": "2022-12-22T19:29:21.149827Z"
    }
   },
   "outputs": [
    {
     "name": "stdout",
     "output_type": "stream",
     "text": [
      "dict_keys(['dailyActivity', 'dailyCalories', 'dailyIntensities', 'dailySteps', 'heartrate_seconds', 'hourlyCalories', 'hourlyIntensities', 'hourlySteps', 'minuteCaloriesNarrow', 'minuteCaloriesWide', 'minuteIntensitiesNarrow', 'minuteIntensitiesWide', 'minuteMETsNarrow', 'minuteSleep', 'minuteStepsNarrow', 'minuteStepsWide', 'sleepDay', 'weightLogInfo'])\n"
     ]
    }
   ],
   "source": [
    "print(df_dict.keys())"
   ]
  },
  {
   "cell_type": "markdown",
   "id": "fce615f0",
   "metadata": {},
   "source": [
    "##  checking out other dataframes"
   ]
  },
  {
   "cell_type": "code",
   "execution_count": 60,
   "id": "5315d999",
   "metadata": {
    "ExecuteTime": {
     "end_time": "2022-12-22T19:29:21.178668Z",
     "start_time": "2022-12-22T19:29:21.165061Z"
    }
   },
   "outputs": [],
   "source": [
    "dirtyHC = df_dict['hourlyCalories']"
   ]
  },
  {
   "cell_type": "code",
   "execution_count": 61,
   "id": "8cf2e96c",
   "metadata": {
    "ExecuteTime": {
     "end_time": "2022-12-22T19:29:21.193783Z",
     "start_time": "2022-12-22T19:29:21.180686Z"
    }
   },
   "outputs": [
    {
     "data": {
      "text/html": [
       "<div>\n",
       "<style scoped>\n",
       "    .dataframe tbody tr th:only-of-type {\n",
       "        vertical-align: middle;\n",
       "    }\n",
       "\n",
       "    .dataframe tbody tr th {\n",
       "        vertical-align: top;\n",
       "    }\n",
       "\n",
       "    .dataframe thead th {\n",
       "        text-align: right;\n",
       "    }\n",
       "</style>\n",
       "<table border=\"1\" class=\"dataframe\">\n",
       "  <thead>\n",
       "    <tr style=\"text-align: right;\">\n",
       "      <th></th>\n",
       "      <th>Id</th>\n",
       "      <th>ActivityHour</th>\n",
       "      <th>Calories</th>\n",
       "    </tr>\n",
       "  </thead>\n",
       "  <tbody>\n",
       "    <tr>\n",
       "      <th>0</th>\n",
       "      <td>1503960366</td>\n",
       "      <td>4/12/2016 12:00:00 AM</td>\n",
       "      <td>81</td>\n",
       "    </tr>\n",
       "    <tr>\n",
       "      <th>1</th>\n",
       "      <td>1503960366</td>\n",
       "      <td>4/12/2016 1:00:00 AM</td>\n",
       "      <td>61</td>\n",
       "    </tr>\n",
       "    <tr>\n",
       "      <th>2</th>\n",
       "      <td>1503960366</td>\n",
       "      <td>4/12/2016 2:00:00 AM</td>\n",
       "      <td>59</td>\n",
       "    </tr>\n",
       "    <tr>\n",
       "      <th>3</th>\n",
       "      <td>1503960366</td>\n",
       "      <td>4/12/2016 3:00:00 AM</td>\n",
       "      <td>47</td>\n",
       "    </tr>\n",
       "    <tr>\n",
       "      <th>4</th>\n",
       "      <td>1503960366</td>\n",
       "      <td>4/12/2016 4:00:00 AM</td>\n",
       "      <td>48</td>\n",
       "    </tr>\n",
       "  </tbody>\n",
       "</table>\n",
       "</div>"
      ],
      "text/plain": [
       "           Id           ActivityHour  Calories\n",
       "0  1503960366  4/12/2016 12:00:00 AM        81\n",
       "1  1503960366   4/12/2016 1:00:00 AM        61\n",
       "2  1503960366   4/12/2016 2:00:00 AM        59\n",
       "3  1503960366   4/12/2016 3:00:00 AM        47\n",
       "4  1503960366   4/12/2016 4:00:00 AM        48"
      ]
     },
     "execution_count": 61,
     "metadata": {},
     "output_type": "execute_result"
    }
   ],
   "source": [
    "dirtyHC.head()"
   ]
  },
  {
   "cell_type": "code",
   "execution_count": 62,
   "id": "97f793cf",
   "metadata": {
    "ExecuteTime": {
     "end_time": "2022-12-22T19:29:21.209411Z",
     "start_time": "2022-12-22T19:29:21.195775Z"
    }
   },
   "outputs": [],
   "source": [
    "dirtyHI = df_dict['hourlyIntensities']"
   ]
  },
  {
   "cell_type": "code",
   "execution_count": 63,
   "id": "ca16c3b5",
   "metadata": {
    "ExecuteTime": {
     "end_time": "2022-12-22T19:29:21.224537Z",
     "start_time": "2022-12-22T19:29:21.211403Z"
    }
   },
   "outputs": [
    {
     "data": {
      "text/html": [
       "<div>\n",
       "<style scoped>\n",
       "    .dataframe tbody tr th:only-of-type {\n",
       "        vertical-align: middle;\n",
       "    }\n",
       "\n",
       "    .dataframe tbody tr th {\n",
       "        vertical-align: top;\n",
       "    }\n",
       "\n",
       "    .dataframe thead th {\n",
       "        text-align: right;\n",
       "    }\n",
       "</style>\n",
       "<table border=\"1\" class=\"dataframe\">\n",
       "  <thead>\n",
       "    <tr style=\"text-align: right;\">\n",
       "      <th></th>\n",
       "      <th>Id</th>\n",
       "      <th>ActivityHour</th>\n",
       "      <th>TotalIntensity</th>\n",
       "      <th>AverageIntensity</th>\n",
       "    </tr>\n",
       "  </thead>\n",
       "  <tbody>\n",
       "    <tr>\n",
       "      <th>0</th>\n",
       "      <td>1503960366</td>\n",
       "      <td>4/12/2016 12:00:00 AM</td>\n",
       "      <td>20</td>\n",
       "      <td>0.333333</td>\n",
       "    </tr>\n",
       "    <tr>\n",
       "      <th>1</th>\n",
       "      <td>1503960366</td>\n",
       "      <td>4/12/2016 1:00:00 AM</td>\n",
       "      <td>8</td>\n",
       "      <td>0.133333</td>\n",
       "    </tr>\n",
       "    <tr>\n",
       "      <th>2</th>\n",
       "      <td>1503960366</td>\n",
       "      <td>4/12/2016 2:00:00 AM</td>\n",
       "      <td>7</td>\n",
       "      <td>0.116667</td>\n",
       "    </tr>\n",
       "    <tr>\n",
       "      <th>3</th>\n",
       "      <td>1503960366</td>\n",
       "      <td>4/12/2016 3:00:00 AM</td>\n",
       "      <td>0</td>\n",
       "      <td>0.000000</td>\n",
       "    </tr>\n",
       "    <tr>\n",
       "      <th>4</th>\n",
       "      <td>1503960366</td>\n",
       "      <td>4/12/2016 4:00:00 AM</td>\n",
       "      <td>0</td>\n",
       "      <td>0.000000</td>\n",
       "    </tr>\n",
       "  </tbody>\n",
       "</table>\n",
       "</div>"
      ],
      "text/plain": [
       "           Id           ActivityHour  TotalIntensity  AverageIntensity\n",
       "0  1503960366  4/12/2016 12:00:00 AM              20          0.333333\n",
       "1  1503960366   4/12/2016 1:00:00 AM               8          0.133333\n",
       "2  1503960366   4/12/2016 2:00:00 AM               7          0.116667\n",
       "3  1503960366   4/12/2016 3:00:00 AM               0          0.000000\n",
       "4  1503960366   4/12/2016 4:00:00 AM               0          0.000000"
      ]
     },
     "execution_count": 63,
     "metadata": {},
     "output_type": "execute_result"
    }
   ],
   "source": [
    "dirtyHI.head()"
   ]
  },
  {
   "cell_type": "code",
   "execution_count": 64,
   "id": "b1f4f6a7",
   "metadata": {
    "ExecuteTime": {
     "end_time": "2022-12-22T19:29:21.240552Z",
     "start_time": "2022-12-22T19:29:21.225534Z"
    }
   },
   "outputs": [],
   "source": [
    "# I dont think the dataframes above will help our model, as the data is data we already have, just broken down into smaller\n",
    "# time segments"
   ]
  },
  {
   "cell_type": "code",
   "execution_count": 65,
   "id": "6663f5ff",
   "metadata": {
    "ExecuteTime": {
     "end_time": "2022-12-22T19:29:21.255940Z",
     "start_time": "2022-12-22T19:29:21.241550Z"
    }
   },
   "outputs": [],
   "source": [
    "dirtySD = df_dict['sleepDay']"
   ]
  },
  {
   "cell_type": "code",
   "execution_count": 66,
   "id": "21f19dc8",
   "metadata": {
    "ExecuteTime": {
     "end_time": "2022-12-22T19:29:21.271769Z",
     "start_time": "2022-12-22T19:29:21.256937Z"
    }
   },
   "outputs": [
    {
     "data": {
      "text/html": [
       "<div>\n",
       "<style scoped>\n",
       "    .dataframe tbody tr th:only-of-type {\n",
       "        vertical-align: middle;\n",
       "    }\n",
       "\n",
       "    .dataframe tbody tr th {\n",
       "        vertical-align: top;\n",
       "    }\n",
       "\n",
       "    .dataframe thead th {\n",
       "        text-align: right;\n",
       "    }\n",
       "</style>\n",
       "<table border=\"1\" class=\"dataframe\">\n",
       "  <thead>\n",
       "    <tr style=\"text-align: right;\">\n",
       "      <th></th>\n",
       "      <th>Id</th>\n",
       "      <th>SleepDay</th>\n",
       "      <th>TotalSleepRecords</th>\n",
       "      <th>TotalMinutesAsleep</th>\n",
       "      <th>TotalTimeInBed</th>\n",
       "    </tr>\n",
       "  </thead>\n",
       "  <tbody>\n",
       "    <tr>\n",
       "      <th>0</th>\n",
       "      <td>1503960366</td>\n",
       "      <td>4/12/2016 12:00:00 AM</td>\n",
       "      <td>1</td>\n",
       "      <td>327</td>\n",
       "      <td>346</td>\n",
       "    </tr>\n",
       "    <tr>\n",
       "      <th>1</th>\n",
       "      <td>1503960366</td>\n",
       "      <td>4/13/2016 12:00:00 AM</td>\n",
       "      <td>2</td>\n",
       "      <td>384</td>\n",
       "      <td>407</td>\n",
       "    </tr>\n",
       "    <tr>\n",
       "      <th>2</th>\n",
       "      <td>1503960366</td>\n",
       "      <td>4/15/2016 12:00:00 AM</td>\n",
       "      <td>1</td>\n",
       "      <td>412</td>\n",
       "      <td>442</td>\n",
       "    </tr>\n",
       "    <tr>\n",
       "      <th>3</th>\n",
       "      <td>1503960366</td>\n",
       "      <td>4/16/2016 12:00:00 AM</td>\n",
       "      <td>2</td>\n",
       "      <td>340</td>\n",
       "      <td>367</td>\n",
       "    </tr>\n",
       "    <tr>\n",
       "      <th>4</th>\n",
       "      <td>1503960366</td>\n",
       "      <td>4/17/2016 12:00:00 AM</td>\n",
       "      <td>1</td>\n",
       "      <td>700</td>\n",
       "      <td>712</td>\n",
       "    </tr>\n",
       "  </tbody>\n",
       "</table>\n",
       "</div>"
      ],
      "text/plain": [
       "           Id               SleepDay  TotalSleepRecords  TotalMinutesAsleep  \\\n",
       "0  1503960366  4/12/2016 12:00:00 AM                  1                 327   \n",
       "1  1503960366  4/13/2016 12:00:00 AM                  2                 384   \n",
       "2  1503960366  4/15/2016 12:00:00 AM                  1                 412   \n",
       "3  1503960366  4/16/2016 12:00:00 AM                  2                 340   \n",
       "4  1503960366  4/17/2016 12:00:00 AM                  1                 700   \n",
       "\n",
       "   TotalTimeInBed  \n",
       "0             346  \n",
       "1             407  \n",
       "2             442  \n",
       "3             367  \n",
       "4             712  "
      ]
     },
     "execution_count": 66,
     "metadata": {},
     "output_type": "execute_result"
    }
   ],
   "source": [
    "dirtySD.head()"
   ]
  },
  {
   "cell_type": "code",
   "execution_count": 67,
   "id": "51a9eaa2",
   "metadata": {
    "ExecuteTime": {
     "end_time": "2022-12-22T19:29:21.286959Z",
     "start_time": "2022-12-22T19:29:21.272681Z"
    }
   },
   "outputs": [
    {
     "data": {
      "text/plain": [
       "(413, 5)"
      ]
     },
     "execution_count": 67,
     "metadata": {},
     "output_type": "execute_result"
    }
   ],
   "source": [
    "dirtySD.shape"
   ]
  },
  {
   "cell_type": "code",
   "execution_count": 68,
   "id": "cc8137b9",
   "metadata": {
    "ExecuteTime": {
     "end_time": "2022-12-22T19:29:21.302369Z",
     "start_time": "2022-12-22T19:29:21.287974Z"
    }
   },
   "outputs": [
    {
     "name": "stdout",
     "output_type": "stream",
     "text": [
      "Count of NAs in column  Id  is :  0\n",
      "Count of NAs in column  SleepDay  is :  0\n",
      "Count of NAs in column  TotalSleepRecords  is :  0\n",
      "Count of NAs in column  TotalMinutesAsleep  is :  0\n",
      "Count of NAs in column  TotalTimeInBed  is :  0\n"
     ]
    }
   ],
   "source": [
    "for column_name in dirtySD.columns:\n",
    "    column = dirtySD[column_name]\n",
    "    # Get the count of Zeros in column \n",
    "    count = (column).isna().sum()\n",
    "    print('Count of NAs in column ', column_name, ' is : ', count)"
   ]
  },
  {
   "cell_type": "code",
   "execution_count": 69,
   "id": "471bfeba",
   "metadata": {
    "ExecuteTime": {
     "end_time": "2022-12-22T19:29:21.318240Z",
     "start_time": "2022-12-22T19:29:21.303287Z"
    }
   },
   "outputs": [
    {
     "data": {
      "text/plain": [
       "24"
      ]
     },
     "execution_count": 69,
     "metadata": {},
     "output_type": "execute_result"
    }
   ],
   "source": [
    "# 24 users uploaded this data\n",
    "\n",
    "dirtySD['Id'].nunique()"
   ]
  },
  {
   "cell_type": "code",
   "execution_count": 70,
   "id": "c56e9a6d",
   "metadata": {
    "ExecuteTime": {
     "end_time": "2022-12-22T19:29:21.334499Z",
     "start_time": "2022-12-22T19:29:21.320316Z"
    }
   },
   "outputs": [
    {
     "data": {
      "text/plain": [
       "Id                     int64\n",
       "SleepDay              object\n",
       "TotalSleepRecords      int64\n",
       "TotalMinutesAsleep     int64\n",
       "TotalTimeInBed         int64\n",
       "dtype: object"
      ]
     },
     "execution_count": 70,
     "metadata": {},
     "output_type": "execute_result"
    }
   ],
   "source": [
    "dirtySD.dtypes"
   ]
  },
  {
   "cell_type": "code",
   "execution_count": 71,
   "id": "645de654",
   "metadata": {
    "ExecuteTime": {
     "end_time": "2022-12-22T19:29:21.349795Z",
     "start_time": "2022-12-22T19:29:21.335512Z"
    }
   },
   "outputs": [],
   "source": [
    "dirtySD['Id'] = dirtySD.Id.astype(str)"
   ]
  },
  {
   "cell_type": "code",
   "execution_count": 72,
   "id": "365ea785",
   "metadata": {
    "ExecuteTime": {
     "end_time": "2022-12-22T19:29:21.365722Z",
     "start_time": "2022-12-22T19:29:21.351538Z"
    }
   },
   "outputs": [],
   "source": [
    "# converting data types\n",
    "\n",
    "dirtySD['SleepDay'] = pd.to_datetime(dirtySD['SleepDay'])"
   ]
  },
  {
   "cell_type": "code",
   "execution_count": 73,
   "id": "4b97dbc4",
   "metadata": {
    "ExecuteTime": {
     "end_time": "2022-12-22T19:29:21.381781Z",
     "start_time": "2022-12-22T19:29:21.366635Z"
    }
   },
   "outputs": [
    {
     "data": {
      "text/plain": [
       "Id                            object\n",
       "SleepDay              datetime64[ns]\n",
       "TotalSleepRecords              int64\n",
       "TotalMinutesAsleep             int64\n",
       "TotalTimeInBed                 int64\n",
       "dtype: object"
      ]
     },
     "execution_count": 73,
     "metadata": {},
     "output_type": "execute_result"
    }
   ],
   "source": [
    "dirtySD.dtypes"
   ]
  },
  {
   "cell_type": "code",
   "execution_count": 74,
   "id": "45766aff",
   "metadata": {
    "ExecuteTime": {
     "end_time": "2022-12-22T19:29:21.397733Z",
     "start_time": "2022-12-22T19:29:21.382771Z"
    }
   },
   "outputs": [],
   "source": [
    "# merging sleeping data to our cleaned dataframe\n",
    "\n",
    "cleanASHR = cleanAHR.merge(dirtySD, left_on= ['Id', 'ActivityDate'], right_on= ['Id', 'SleepDay'], how= 'left' )"
   ]
  },
  {
   "cell_type": "code",
   "execution_count": 75,
   "id": "b7a11597",
   "metadata": {
    "ExecuteTime": {
     "end_time": "2022-12-22T19:29:21.428586Z",
     "start_time": "2022-12-22T19:29:21.398999Z"
    }
   },
   "outputs": [
    {
     "data": {
      "text/html": [
       "<div>\n",
       "<style scoped>\n",
       "    .dataframe tbody tr th:only-of-type {\n",
       "        vertical-align: middle;\n",
       "    }\n",
       "\n",
       "    .dataframe tbody tr th {\n",
       "        vertical-align: top;\n",
       "    }\n",
       "\n",
       "    .dataframe thead th {\n",
       "        text-align: right;\n",
       "    }\n",
       "</style>\n",
       "<table border=\"1\" class=\"dataframe\">\n",
       "  <thead>\n",
       "    <tr style=\"text-align: right;\">\n",
       "      <th></th>\n",
       "      <th>Id</th>\n",
       "      <th>ActivityDate</th>\n",
       "      <th>TotalSteps</th>\n",
       "      <th>TrackerDistance</th>\n",
       "      <th>VeryActiveDistance</th>\n",
       "      <th>ModeratelyActiveDistance</th>\n",
       "      <th>LightActiveDistance</th>\n",
       "      <th>SedentaryActiveDistance</th>\n",
       "      <th>VeryActiveMinutes</th>\n",
       "      <th>FairlyActiveMinutes</th>\n",
       "      <th>LightlyActiveMinutes</th>\n",
       "      <th>SedentaryMinutes</th>\n",
       "      <th>Calories</th>\n",
       "      <th>Time</th>\n",
       "      <th>Value</th>\n",
       "      <th>SleepDay</th>\n",
       "      <th>TotalSleepRecords</th>\n",
       "      <th>TotalMinutesAsleep</th>\n",
       "      <th>TotalTimeInBed</th>\n",
       "    </tr>\n",
       "  </thead>\n",
       "  <tbody>\n",
       "    <tr>\n",
       "      <th>0</th>\n",
       "      <td>1503960366</td>\n",
       "      <td>2016-04-12</td>\n",
       "      <td>13162</td>\n",
       "      <td>8.50</td>\n",
       "      <td>1.88</td>\n",
       "      <td>0.55</td>\n",
       "      <td>6.06</td>\n",
       "      <td>0.0</td>\n",
       "      <td>25</td>\n",
       "      <td>13</td>\n",
       "      <td>328</td>\n",
       "      <td>728</td>\n",
       "      <td>1985</td>\n",
       "      <td>NaT</td>\n",
       "      <td>NaN</td>\n",
       "      <td>2016-04-12</td>\n",
       "      <td>1.0</td>\n",
       "      <td>327.0</td>\n",
       "      <td>346.0</td>\n",
       "    </tr>\n",
       "    <tr>\n",
       "      <th>1</th>\n",
       "      <td>1503960366</td>\n",
       "      <td>2016-04-13</td>\n",
       "      <td>10735</td>\n",
       "      <td>6.97</td>\n",
       "      <td>1.57</td>\n",
       "      <td>0.69</td>\n",
       "      <td>4.71</td>\n",
       "      <td>0.0</td>\n",
       "      <td>21</td>\n",
       "      <td>19</td>\n",
       "      <td>217</td>\n",
       "      <td>776</td>\n",
       "      <td>1797</td>\n",
       "      <td>NaT</td>\n",
       "      <td>NaN</td>\n",
       "      <td>2016-04-13</td>\n",
       "      <td>2.0</td>\n",
       "      <td>384.0</td>\n",
       "      <td>407.0</td>\n",
       "    </tr>\n",
       "    <tr>\n",
       "      <th>2</th>\n",
       "      <td>1503960366</td>\n",
       "      <td>2016-04-14</td>\n",
       "      <td>10460</td>\n",
       "      <td>6.74</td>\n",
       "      <td>2.44</td>\n",
       "      <td>0.40</td>\n",
       "      <td>3.91</td>\n",
       "      <td>0.0</td>\n",
       "      <td>30</td>\n",
       "      <td>11</td>\n",
       "      <td>181</td>\n",
       "      <td>1218</td>\n",
       "      <td>1776</td>\n",
       "      <td>NaT</td>\n",
       "      <td>NaN</td>\n",
       "      <td>NaT</td>\n",
       "      <td>NaN</td>\n",
       "      <td>NaN</td>\n",
       "      <td>NaN</td>\n",
       "    </tr>\n",
       "    <tr>\n",
       "      <th>3</th>\n",
       "      <td>1503960366</td>\n",
       "      <td>2016-04-15</td>\n",
       "      <td>9762</td>\n",
       "      <td>6.28</td>\n",
       "      <td>2.14</td>\n",
       "      <td>1.26</td>\n",
       "      <td>2.83</td>\n",
       "      <td>0.0</td>\n",
       "      <td>29</td>\n",
       "      <td>34</td>\n",
       "      <td>209</td>\n",
       "      <td>726</td>\n",
       "      <td>1745</td>\n",
       "      <td>NaT</td>\n",
       "      <td>NaN</td>\n",
       "      <td>2016-04-15</td>\n",
       "      <td>1.0</td>\n",
       "      <td>412.0</td>\n",
       "      <td>442.0</td>\n",
       "    </tr>\n",
       "    <tr>\n",
       "      <th>4</th>\n",
       "      <td>1503960366</td>\n",
       "      <td>2016-04-16</td>\n",
       "      <td>12669</td>\n",
       "      <td>8.16</td>\n",
       "      <td>2.71</td>\n",
       "      <td>0.41</td>\n",
       "      <td>5.04</td>\n",
       "      <td>0.0</td>\n",
       "      <td>36</td>\n",
       "      <td>10</td>\n",
       "      <td>221</td>\n",
       "      <td>773</td>\n",
       "      <td>1863</td>\n",
       "      <td>NaT</td>\n",
       "      <td>NaN</td>\n",
       "      <td>2016-04-16</td>\n",
       "      <td>2.0</td>\n",
       "      <td>340.0</td>\n",
       "      <td>367.0</td>\n",
       "    </tr>\n",
       "  </tbody>\n",
       "</table>\n",
       "</div>"
      ],
      "text/plain": [
       "           Id ActivityDate  TotalSteps  TrackerDistance  VeryActiveDistance  \\\n",
       "0  1503960366   2016-04-12       13162             8.50                1.88   \n",
       "1  1503960366   2016-04-13       10735             6.97                1.57   \n",
       "2  1503960366   2016-04-14       10460             6.74                2.44   \n",
       "3  1503960366   2016-04-15        9762             6.28                2.14   \n",
       "4  1503960366   2016-04-16       12669             8.16                2.71   \n",
       "\n",
       "   ModeratelyActiveDistance  LightActiveDistance  SedentaryActiveDistance  \\\n",
       "0                      0.55                 6.06                      0.0   \n",
       "1                      0.69                 4.71                      0.0   \n",
       "2                      0.40                 3.91                      0.0   \n",
       "3                      1.26                 2.83                      0.0   \n",
       "4                      0.41                 5.04                      0.0   \n",
       "\n",
       "   VeryActiveMinutes  FairlyActiveMinutes  LightlyActiveMinutes  \\\n",
       "0                 25                   13                   328   \n",
       "1                 21                   19                   217   \n",
       "2                 30                   11                   181   \n",
       "3                 29                   34                   209   \n",
       "4                 36                   10                   221   \n",
       "\n",
       "   SedentaryMinutes  Calories Time  Value   SleepDay  TotalSleepRecords  \\\n",
       "0               728      1985  NaT    NaN 2016-04-12                1.0   \n",
       "1               776      1797  NaT    NaN 2016-04-13                2.0   \n",
       "2              1218      1776  NaT    NaN        NaT                NaN   \n",
       "3               726      1745  NaT    NaN 2016-04-15                1.0   \n",
       "4               773      1863  NaT    NaN 2016-04-16                2.0   \n",
       "\n",
       "   TotalMinutesAsleep  TotalTimeInBed  \n",
       "0               327.0           346.0  \n",
       "1               384.0           407.0  \n",
       "2                 NaN             NaN  \n",
       "3               412.0           442.0  \n",
       "4               340.0           367.0  "
      ]
     },
     "execution_count": 75,
     "metadata": {},
     "output_type": "execute_result"
    }
   ],
   "source": [
    "cleanASHR.head()"
   ]
  },
  {
   "cell_type": "code",
   "execution_count": 76,
   "id": "d39d9af8",
   "metadata": {
    "ExecuteTime": {
     "end_time": "2022-12-22T19:29:21.443889Z",
     "start_time": "2022-12-22T19:29:21.429942Z"
    }
   },
   "outputs": [],
   "source": [
    "# removing duplicated data rows\n",
    "\n",
    "cleanASHR = cleanASHR.drop(['TotalSleepRecords', 'Time', 'SleepDay'], axis=1)"
   ]
  },
  {
   "cell_type": "code",
   "execution_count": 77,
   "id": "d9778061",
   "metadata": {
    "ExecuteTime": {
     "end_time": "2022-12-22T19:29:21.459130Z",
     "start_time": "2022-12-22T19:29:21.445993Z"
    }
   },
   "outputs": [
    {
     "data": {
      "text/html": [
       "<div>\n",
       "<style scoped>\n",
       "    .dataframe tbody tr th:only-of-type {\n",
       "        vertical-align: middle;\n",
       "    }\n",
       "\n",
       "    .dataframe tbody tr th {\n",
       "        vertical-align: top;\n",
       "    }\n",
       "\n",
       "    .dataframe thead th {\n",
       "        text-align: right;\n",
       "    }\n",
       "</style>\n",
       "<table border=\"1\" class=\"dataframe\">\n",
       "  <thead>\n",
       "    <tr style=\"text-align: right;\">\n",
       "      <th></th>\n",
       "      <th>Id</th>\n",
       "      <th>ActivityDate</th>\n",
       "      <th>TotalSteps</th>\n",
       "      <th>TrackerDistance</th>\n",
       "      <th>VeryActiveDistance</th>\n",
       "      <th>ModeratelyActiveDistance</th>\n",
       "      <th>LightActiveDistance</th>\n",
       "      <th>SedentaryActiveDistance</th>\n",
       "      <th>VeryActiveMinutes</th>\n",
       "      <th>FairlyActiveMinutes</th>\n",
       "      <th>LightlyActiveMinutes</th>\n",
       "      <th>SedentaryMinutes</th>\n",
       "      <th>Calories</th>\n",
       "      <th>Value</th>\n",
       "      <th>TotalMinutesAsleep</th>\n",
       "      <th>TotalTimeInBed</th>\n",
       "    </tr>\n",
       "  </thead>\n",
       "  <tbody>\n",
       "    <tr>\n",
       "      <th>0</th>\n",
       "      <td>1503960366</td>\n",
       "      <td>2016-04-12</td>\n",
       "      <td>13162</td>\n",
       "      <td>8.50</td>\n",
       "      <td>1.88</td>\n",
       "      <td>0.55</td>\n",
       "      <td>6.06</td>\n",
       "      <td>0.0</td>\n",
       "      <td>25</td>\n",
       "      <td>13</td>\n",
       "      <td>328</td>\n",
       "      <td>728</td>\n",
       "      <td>1985</td>\n",
       "      <td>NaN</td>\n",
       "      <td>327.0</td>\n",
       "      <td>346.0</td>\n",
       "    </tr>\n",
       "    <tr>\n",
       "      <th>1</th>\n",
       "      <td>1503960366</td>\n",
       "      <td>2016-04-13</td>\n",
       "      <td>10735</td>\n",
       "      <td>6.97</td>\n",
       "      <td>1.57</td>\n",
       "      <td>0.69</td>\n",
       "      <td>4.71</td>\n",
       "      <td>0.0</td>\n",
       "      <td>21</td>\n",
       "      <td>19</td>\n",
       "      <td>217</td>\n",
       "      <td>776</td>\n",
       "      <td>1797</td>\n",
       "      <td>NaN</td>\n",
       "      <td>384.0</td>\n",
       "      <td>407.0</td>\n",
       "    </tr>\n",
       "    <tr>\n",
       "      <th>2</th>\n",
       "      <td>1503960366</td>\n",
       "      <td>2016-04-14</td>\n",
       "      <td>10460</td>\n",
       "      <td>6.74</td>\n",
       "      <td>2.44</td>\n",
       "      <td>0.40</td>\n",
       "      <td>3.91</td>\n",
       "      <td>0.0</td>\n",
       "      <td>30</td>\n",
       "      <td>11</td>\n",
       "      <td>181</td>\n",
       "      <td>1218</td>\n",
       "      <td>1776</td>\n",
       "      <td>NaN</td>\n",
       "      <td>NaN</td>\n",
       "      <td>NaN</td>\n",
       "    </tr>\n",
       "    <tr>\n",
       "      <th>3</th>\n",
       "      <td>1503960366</td>\n",
       "      <td>2016-04-15</td>\n",
       "      <td>9762</td>\n",
       "      <td>6.28</td>\n",
       "      <td>2.14</td>\n",
       "      <td>1.26</td>\n",
       "      <td>2.83</td>\n",
       "      <td>0.0</td>\n",
       "      <td>29</td>\n",
       "      <td>34</td>\n",
       "      <td>209</td>\n",
       "      <td>726</td>\n",
       "      <td>1745</td>\n",
       "      <td>NaN</td>\n",
       "      <td>412.0</td>\n",
       "      <td>442.0</td>\n",
       "    </tr>\n",
       "    <tr>\n",
       "      <th>4</th>\n",
       "      <td>1503960366</td>\n",
       "      <td>2016-04-16</td>\n",
       "      <td>12669</td>\n",
       "      <td>8.16</td>\n",
       "      <td>2.71</td>\n",
       "      <td>0.41</td>\n",
       "      <td>5.04</td>\n",
       "      <td>0.0</td>\n",
       "      <td>36</td>\n",
       "      <td>10</td>\n",
       "      <td>221</td>\n",
       "      <td>773</td>\n",
       "      <td>1863</td>\n",
       "      <td>NaN</td>\n",
       "      <td>340.0</td>\n",
       "      <td>367.0</td>\n",
       "    </tr>\n",
       "  </tbody>\n",
       "</table>\n",
       "</div>"
      ],
      "text/plain": [
       "           Id ActivityDate  TotalSteps  TrackerDistance  VeryActiveDistance  \\\n",
       "0  1503960366   2016-04-12       13162             8.50                1.88   \n",
       "1  1503960366   2016-04-13       10735             6.97                1.57   \n",
       "2  1503960366   2016-04-14       10460             6.74                2.44   \n",
       "3  1503960366   2016-04-15        9762             6.28                2.14   \n",
       "4  1503960366   2016-04-16       12669             8.16                2.71   \n",
       "\n",
       "   ModeratelyActiveDistance  LightActiveDistance  SedentaryActiveDistance  \\\n",
       "0                      0.55                 6.06                      0.0   \n",
       "1                      0.69                 4.71                      0.0   \n",
       "2                      0.40                 3.91                      0.0   \n",
       "3                      1.26                 2.83                      0.0   \n",
       "4                      0.41                 5.04                      0.0   \n",
       "\n",
       "   VeryActiveMinutes  FairlyActiveMinutes  LightlyActiveMinutes  \\\n",
       "0                 25                   13                   328   \n",
       "1                 21                   19                   217   \n",
       "2                 30                   11                   181   \n",
       "3                 29                   34                   209   \n",
       "4                 36                   10                   221   \n",
       "\n",
       "   SedentaryMinutes  Calories  Value  TotalMinutesAsleep  TotalTimeInBed  \n",
       "0               728      1985    NaN               327.0           346.0  \n",
       "1               776      1797    NaN               384.0           407.0  \n",
       "2              1218      1776    NaN                 NaN             NaN  \n",
       "3               726      1745    NaN               412.0           442.0  \n",
       "4               773      1863    NaN               340.0           367.0  "
      ]
     },
     "execution_count": 77,
     "metadata": {},
     "output_type": "execute_result"
    }
   ],
   "source": [
    "cleanASHR.head()"
   ]
  },
  {
   "cell_type": "code",
   "execution_count": 78,
   "id": "6d866f66",
   "metadata": {
    "ExecuteTime": {
     "end_time": "2022-12-22T19:29:21.474712Z",
     "start_time": "2022-12-22T19:29:21.461269Z"
    }
   },
   "outputs": [],
   "source": [
    "# creating dict to rename our columns\n",
    "\n",
    "nmdict = {'Id': 'Id', 'ActivityDate': 'Date', 'TotalSteps': 'Steps', 'TrackerDistance': 'Distance', 'VeryActiveDistance': 'High_Activity_Dist', 'ModeratelyActiveDistance': 'Mod_Activity_dist', 'LightActiveDistance': 'Light_Activity_dist', 'SedentaryActiveDistance': 'Sed_Activity_Dist', 'VeryActiveMinutes': 'High_Activity_Min', 'FairlyActiveMinutes': 'Mod_Activity_Min', 'LightlyActiveMinutes': 'Light_Activity_Min', 'SedentaryMinutes': 'Sed_Min', 'Calories': 'Calories', 'Value': 'Heart_Rate', 'TotalMinutesAsleep': 'Time_Asleep', 'TotalTimeInBed': 'Time_In_Bed'}"
   ]
  },
  {
   "cell_type": "code",
   "execution_count": 79,
   "id": "5abdc41a",
   "metadata": {
    "ExecuteTime": {
     "end_time": "2022-12-22T19:29:21.490750Z",
     "start_time": "2022-12-22T19:29:21.475710Z"
    }
   },
   "outputs": [],
   "source": [
    "cleanASHR = cleanASHR.rename(columns= nmdict)"
   ]
  },
  {
   "cell_type": "code",
   "execution_count": 80,
   "id": "d5e79a71",
   "metadata": {
    "ExecuteTime": {
     "end_time": "2022-12-22T19:29:21.506545Z",
     "start_time": "2022-12-22T19:29:21.491746Z"
    }
   },
   "outputs": [
    {
     "data": {
      "text/html": [
       "<div>\n",
       "<style scoped>\n",
       "    .dataframe tbody tr th:only-of-type {\n",
       "        vertical-align: middle;\n",
       "    }\n",
       "\n",
       "    .dataframe tbody tr th {\n",
       "        vertical-align: top;\n",
       "    }\n",
       "\n",
       "    .dataframe thead th {\n",
       "        text-align: right;\n",
       "    }\n",
       "</style>\n",
       "<table border=\"1\" class=\"dataframe\">\n",
       "  <thead>\n",
       "    <tr style=\"text-align: right;\">\n",
       "      <th></th>\n",
       "      <th>Id</th>\n",
       "      <th>Date</th>\n",
       "      <th>Steps</th>\n",
       "      <th>Distance</th>\n",
       "      <th>High_Activity_Dist</th>\n",
       "      <th>Mod_Activity_dist</th>\n",
       "      <th>Light_Activity_dist</th>\n",
       "      <th>Sed_Activity_Dist</th>\n",
       "      <th>High_Activity_Min</th>\n",
       "      <th>Mod_Activity_Min</th>\n",
       "      <th>Light_Activity_Min</th>\n",
       "      <th>Sed_Min</th>\n",
       "      <th>Calories</th>\n",
       "      <th>Heart_Rate</th>\n",
       "      <th>Time_Asleep</th>\n",
       "      <th>Time_In_Bed</th>\n",
       "    </tr>\n",
       "  </thead>\n",
       "  <tbody>\n",
       "    <tr>\n",
       "      <th>0</th>\n",
       "      <td>1503960366</td>\n",
       "      <td>2016-04-12</td>\n",
       "      <td>13162</td>\n",
       "      <td>8.50</td>\n",
       "      <td>1.88</td>\n",
       "      <td>0.55</td>\n",
       "      <td>6.06</td>\n",
       "      <td>0.0</td>\n",
       "      <td>25</td>\n",
       "      <td>13</td>\n",
       "      <td>328</td>\n",
       "      <td>728</td>\n",
       "      <td>1985</td>\n",
       "      <td>NaN</td>\n",
       "      <td>327.0</td>\n",
       "      <td>346.0</td>\n",
       "    </tr>\n",
       "    <tr>\n",
       "      <th>1</th>\n",
       "      <td>1503960366</td>\n",
       "      <td>2016-04-13</td>\n",
       "      <td>10735</td>\n",
       "      <td>6.97</td>\n",
       "      <td>1.57</td>\n",
       "      <td>0.69</td>\n",
       "      <td>4.71</td>\n",
       "      <td>0.0</td>\n",
       "      <td>21</td>\n",
       "      <td>19</td>\n",
       "      <td>217</td>\n",
       "      <td>776</td>\n",
       "      <td>1797</td>\n",
       "      <td>NaN</td>\n",
       "      <td>384.0</td>\n",
       "      <td>407.0</td>\n",
       "    </tr>\n",
       "    <tr>\n",
       "      <th>2</th>\n",
       "      <td>1503960366</td>\n",
       "      <td>2016-04-14</td>\n",
       "      <td>10460</td>\n",
       "      <td>6.74</td>\n",
       "      <td>2.44</td>\n",
       "      <td>0.40</td>\n",
       "      <td>3.91</td>\n",
       "      <td>0.0</td>\n",
       "      <td>30</td>\n",
       "      <td>11</td>\n",
       "      <td>181</td>\n",
       "      <td>1218</td>\n",
       "      <td>1776</td>\n",
       "      <td>NaN</td>\n",
       "      <td>NaN</td>\n",
       "      <td>NaN</td>\n",
       "    </tr>\n",
       "    <tr>\n",
       "      <th>3</th>\n",
       "      <td>1503960366</td>\n",
       "      <td>2016-04-15</td>\n",
       "      <td>9762</td>\n",
       "      <td>6.28</td>\n",
       "      <td>2.14</td>\n",
       "      <td>1.26</td>\n",
       "      <td>2.83</td>\n",
       "      <td>0.0</td>\n",
       "      <td>29</td>\n",
       "      <td>34</td>\n",
       "      <td>209</td>\n",
       "      <td>726</td>\n",
       "      <td>1745</td>\n",
       "      <td>NaN</td>\n",
       "      <td>412.0</td>\n",
       "      <td>442.0</td>\n",
       "    </tr>\n",
       "    <tr>\n",
       "      <th>4</th>\n",
       "      <td>1503960366</td>\n",
       "      <td>2016-04-16</td>\n",
       "      <td>12669</td>\n",
       "      <td>8.16</td>\n",
       "      <td>2.71</td>\n",
       "      <td>0.41</td>\n",
       "      <td>5.04</td>\n",
       "      <td>0.0</td>\n",
       "      <td>36</td>\n",
       "      <td>10</td>\n",
       "      <td>221</td>\n",
       "      <td>773</td>\n",
       "      <td>1863</td>\n",
       "      <td>NaN</td>\n",
       "      <td>340.0</td>\n",
       "      <td>367.0</td>\n",
       "    </tr>\n",
       "  </tbody>\n",
       "</table>\n",
       "</div>"
      ],
      "text/plain": [
       "           Id       Date  Steps  Distance  High_Activity_Dist  \\\n",
       "0  1503960366 2016-04-12  13162      8.50                1.88   \n",
       "1  1503960366 2016-04-13  10735      6.97                1.57   \n",
       "2  1503960366 2016-04-14  10460      6.74                2.44   \n",
       "3  1503960366 2016-04-15   9762      6.28                2.14   \n",
       "4  1503960366 2016-04-16  12669      8.16                2.71   \n",
       "\n",
       "   Mod_Activity_dist  Light_Activity_dist  Sed_Activity_Dist  \\\n",
       "0               0.55                 6.06                0.0   \n",
       "1               0.69                 4.71                0.0   \n",
       "2               0.40                 3.91                0.0   \n",
       "3               1.26                 2.83                0.0   \n",
       "4               0.41                 5.04                0.0   \n",
       "\n",
       "   High_Activity_Min  Mod_Activity_Min  Light_Activity_Min  Sed_Min  Calories  \\\n",
       "0                 25                13                 328      728      1985   \n",
       "1                 21                19                 217      776      1797   \n",
       "2                 30                11                 181     1218      1776   \n",
       "3                 29                34                 209      726      1745   \n",
       "4                 36                10                 221      773      1863   \n",
       "\n",
       "   Heart_Rate  Time_Asleep  Time_In_Bed  \n",
       "0         NaN        327.0        346.0  \n",
       "1         NaN        384.0        407.0  \n",
       "2         NaN          NaN          NaN  \n",
       "3         NaN        412.0        442.0  \n",
       "4         NaN        340.0        367.0  "
      ]
     },
     "execution_count": 80,
     "metadata": {},
     "output_type": "execute_result"
    }
   ],
   "source": [
    "cleanASHR.head()"
   ]
  },
  {
   "cell_type": "code",
   "execution_count": 81,
   "id": "8c283173",
   "metadata": {
    "ExecuteTime": {
     "end_time": "2022-12-22T19:29:21.538345Z",
     "start_time": "2022-12-22T19:29:21.511736Z"
    }
   },
   "outputs": [
    {
     "data": {
      "text/html": [
       "<div>\n",
       "<style scoped>\n",
       "    .dataframe tbody tr th:only-of-type {\n",
       "        vertical-align: middle;\n",
       "    }\n",
       "\n",
       "    .dataframe tbody tr th {\n",
       "        vertical-align: top;\n",
       "    }\n",
       "\n",
       "    .dataframe thead th {\n",
       "        text-align: right;\n",
       "    }\n",
       "</style>\n",
       "<table border=\"1\" class=\"dataframe\">\n",
       "  <thead>\n",
       "    <tr style=\"text-align: right;\">\n",
       "      <th></th>\n",
       "      <th>Steps</th>\n",
       "      <th>Distance</th>\n",
       "      <th>High_Activity_Dist</th>\n",
       "      <th>Mod_Activity_dist</th>\n",
       "      <th>Light_Activity_dist</th>\n",
       "      <th>Sed_Activity_Dist</th>\n",
       "      <th>High_Activity_Min</th>\n",
       "      <th>Mod_Activity_Min</th>\n",
       "      <th>Light_Activity_Min</th>\n",
       "      <th>Sed_Min</th>\n",
       "      <th>Calories</th>\n",
       "      <th>Heart_Rate</th>\n",
       "      <th>Time_Asleep</th>\n",
       "      <th>Time_In_Bed</th>\n",
       "    </tr>\n",
       "  </thead>\n",
       "  <tbody>\n",
       "    <tr>\n",
       "      <th>count</th>\n",
       "      <td>851.000000</td>\n",
       "      <td>851.000000</td>\n",
       "      <td>851.000000</td>\n",
       "      <td>851.000000</td>\n",
       "      <td>851.000000</td>\n",
       "      <td>851.000000</td>\n",
       "      <td>851.000000</td>\n",
       "      <td>851.000000</td>\n",
       "      <td>851.000000</td>\n",
       "      <td>851.000000</td>\n",
       "      <td>851.000000</td>\n",
       "      <td>318.000000</td>\n",
       "      <td>410.000000</td>\n",
       "      <td>410.000000</td>\n",
       "    </tr>\n",
       "    <tr>\n",
       "      <th>mean</th>\n",
       "      <td>8227.274971</td>\n",
       "      <td>5.912491</td>\n",
       "      <td>1.593737</td>\n",
       "      <td>0.612761</td>\n",
       "      <td>3.619365</td>\n",
       "      <td>0.001504</td>\n",
       "      <td>22.596945</td>\n",
       "      <td>14.700353</td>\n",
       "      <td>208.514689</td>\n",
       "      <td>954.754407</td>\n",
       "      <td>2358.641598</td>\n",
       "      <td>77.909016</td>\n",
       "      <td>419.268293</td>\n",
       "      <td>458.656098</td>\n",
       "    </tr>\n",
       "    <tr>\n",
       "      <th>std</th>\n",
       "      <td>4708.130555</td>\n",
       "      <td>3.699878</td>\n",
       "      <td>2.735995</td>\n",
       "      <td>0.907998</td>\n",
       "      <td>1.861216</td>\n",
       "      <td>0.005808</td>\n",
       "      <td>33.819395</td>\n",
       "      <td>20.547237</td>\n",
       "      <td>96.750526</td>\n",
       "      <td>281.872248</td>\n",
       "      <td>708.414490</td>\n",
       "      <td>10.394374</td>\n",
       "      <td>118.713834</td>\n",
       "      <td>127.534515</td>\n",
       "    </tr>\n",
       "    <tr>\n",
       "      <th>min</th>\n",
       "      <td>4.000000</td>\n",
       "      <td>0.000000</td>\n",
       "      <td>0.000000</td>\n",
       "      <td>0.000000</td>\n",
       "      <td>0.000000</td>\n",
       "      <td>0.000000</td>\n",
       "      <td>0.000000</td>\n",
       "      <td>0.000000</td>\n",
       "      <td>0.000000</td>\n",
       "      <td>0.000000</td>\n",
       "      <td>52.000000</td>\n",
       "      <td>59.377175</td>\n",
       "      <td>58.000000</td>\n",
       "      <td>61.000000</td>\n",
       "    </tr>\n",
       "    <tr>\n",
       "      <th>25%</th>\n",
       "      <td>4855.000000</td>\n",
       "      <td>3.345000</td>\n",
       "      <td>0.000000</td>\n",
       "      <td>0.000000</td>\n",
       "      <td>2.330000</td>\n",
       "      <td>0.000000</td>\n",
       "      <td>0.000000</td>\n",
       "      <td>0.000000</td>\n",
       "      <td>145.000000</td>\n",
       "      <td>720.500000</td>\n",
       "      <td>1853.500000</td>\n",
       "      <td>69.965015</td>\n",
       "      <td>361.000000</td>\n",
       "      <td>402.250000</td>\n",
       "    </tr>\n",
       "    <tr>\n",
       "      <th>50%</th>\n",
       "      <td>7924.000000</td>\n",
       "      <td>5.540000</td>\n",
       "      <td>0.370000</td>\n",
       "      <td>0.290000</td>\n",
       "      <td>3.550000</td>\n",
       "      <td>0.000000</td>\n",
       "      <td>6.000000</td>\n",
       "      <td>8.000000</td>\n",
       "      <td>206.000000</td>\n",
       "      <td>1020.000000</td>\n",
       "      <td>2211.000000</td>\n",
       "      <td>76.920131</td>\n",
       "      <td>432.500000</td>\n",
       "      <td>463.500000</td>\n",
       "    </tr>\n",
       "    <tr>\n",
       "      <th>75%</th>\n",
       "      <td>10880.000000</td>\n",
       "      <td>7.775000</td>\n",
       "      <td>2.145000</td>\n",
       "      <td>0.860000</td>\n",
       "      <td>4.880000</td>\n",
       "      <td>0.000000</td>\n",
       "      <td>33.000000</td>\n",
       "      <td>21.000000</td>\n",
       "      <td>270.000000</td>\n",
       "      <td>1190.500000</td>\n",
       "      <td>2830.000000</td>\n",
       "      <td>83.956209</td>\n",
       "      <td>491.500000</td>\n",
       "      <td>526.750000</td>\n",
       "    </tr>\n",
       "    <tr>\n",
       "      <th>max</th>\n",
       "      <td>36019.000000</td>\n",
       "      <td>28.030001</td>\n",
       "      <td>21.920000</td>\n",
       "      <td>6.480000</td>\n",
       "      <td>10.710000</td>\n",
       "      <td>0.070000</td>\n",
       "      <td>210.000000</td>\n",
       "      <td>143.000000</td>\n",
       "      <td>518.000000</td>\n",
       "      <td>1440.000000</td>\n",
       "      <td>4900.000000</td>\n",
       "      <td>109.789625</td>\n",
       "      <td>796.000000</td>\n",
       "      <td>961.000000</td>\n",
       "    </tr>\n",
       "  </tbody>\n",
       "</table>\n",
       "</div>"
      ],
      "text/plain": [
       "              Steps    Distance  High_Activity_Dist  Mod_Activity_dist  \\\n",
       "count    851.000000  851.000000          851.000000         851.000000   \n",
       "mean    8227.274971    5.912491            1.593737           0.612761   \n",
       "std     4708.130555    3.699878            2.735995           0.907998   \n",
       "min        4.000000    0.000000            0.000000           0.000000   \n",
       "25%     4855.000000    3.345000            0.000000           0.000000   \n",
       "50%     7924.000000    5.540000            0.370000           0.290000   \n",
       "75%    10880.000000    7.775000            2.145000           0.860000   \n",
       "max    36019.000000   28.030001           21.920000           6.480000   \n",
       "\n",
       "       Light_Activity_dist  Sed_Activity_Dist  High_Activity_Min  \\\n",
       "count           851.000000         851.000000         851.000000   \n",
       "mean              3.619365           0.001504          22.596945   \n",
       "std               1.861216           0.005808          33.819395   \n",
       "min               0.000000           0.000000           0.000000   \n",
       "25%               2.330000           0.000000           0.000000   \n",
       "50%               3.550000           0.000000           6.000000   \n",
       "75%               4.880000           0.000000          33.000000   \n",
       "max              10.710000           0.070000         210.000000   \n",
       "\n",
       "       Mod_Activity_Min  Light_Activity_Min      Sed_Min     Calories  \\\n",
       "count        851.000000          851.000000   851.000000   851.000000   \n",
       "mean          14.700353          208.514689   954.754407  2358.641598   \n",
       "std           20.547237           96.750526   281.872248   708.414490   \n",
       "min            0.000000            0.000000     0.000000    52.000000   \n",
       "25%            0.000000          145.000000   720.500000  1853.500000   \n",
       "50%            8.000000          206.000000  1020.000000  2211.000000   \n",
       "75%           21.000000          270.000000  1190.500000  2830.000000   \n",
       "max          143.000000          518.000000  1440.000000  4900.000000   \n",
       "\n",
       "       Heart_Rate  Time_Asleep  Time_In_Bed  \n",
       "count  318.000000   410.000000   410.000000  \n",
       "mean    77.909016   419.268293   458.656098  \n",
       "std     10.394374   118.713834   127.534515  \n",
       "min     59.377175    58.000000    61.000000  \n",
       "25%     69.965015   361.000000   402.250000  \n",
       "50%     76.920131   432.500000   463.500000  \n",
       "75%     83.956209   491.500000   526.750000  \n",
       "max    109.789625   796.000000   961.000000  "
      ]
     },
     "execution_count": 81,
     "metadata": {},
     "output_type": "execute_result"
    }
   ],
   "source": [
    "cleanASHR.describe()"
   ]
  },
  {
   "cell_type": "code",
   "execution_count": 82,
   "id": "60a8f5ef",
   "metadata": {
    "ExecuteTime": {
     "end_time": "2022-12-22T19:29:21.553502Z",
     "start_time": "2022-12-22T19:29:21.539370Z"
    }
   },
   "outputs": [],
   "source": [
    "# removing the rows that showed a full 24 hours of sedentary activity\n",
    "\n",
    "cleanASHR = cleanASHR[cleanASHR['Sed_Min'] != 1440]"
   ]
  },
  {
   "cell_type": "code",
   "execution_count": 83,
   "id": "736ef187",
   "metadata": {
    "ExecuteTime": {
     "end_time": "2022-12-22T19:29:21.568803Z",
     "start_time": "2022-12-22T19:29:21.554582Z"
    }
   },
   "outputs": [
    {
     "data": {
      "text/plain": [
       "(844, 16)"
      ]
     },
     "execution_count": 83,
     "metadata": {},
     "output_type": "execute_result"
    }
   ],
   "source": [
    "# our cleaned data size\n",
    "\n",
    "cleanASHR.shape"
   ]
  },
  {
   "cell_type": "code",
   "execution_count": 84,
   "id": "5bcf0fe7",
   "metadata": {
    "ExecuteTime": {
     "end_time": "2022-12-22T19:29:21.599670Z",
     "start_time": "2022-12-22T19:29:21.569845Z"
    },
    "hide_input": false
   },
   "outputs": [],
   "source": [
    "# saving our cleaned data\n",
    "\n",
    "cleanASHR.to_csv('cleanedFBdata.csv')"
   ]
  }
 ],
 "metadata": {
  "kernelspec": {
   "display_name": "Python 3 (ipykernel)",
   "language": "python",
   "name": "python3"
  },
  "language_info": {
   "codemirror_mode": {
    "name": "ipython",
    "version": 3
   },
   "file_extension": ".py",
   "mimetype": "text/x-python",
   "name": "python",
   "nbconvert_exporter": "python",
   "pygments_lexer": "ipython3",
   "version": "3.9.12"
  }
 },
 "nbformat": 4,
 "nbformat_minor": 5
}
